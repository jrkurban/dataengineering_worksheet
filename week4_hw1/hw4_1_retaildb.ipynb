{
 "cells": [
  {
   "cell_type": "code",
   "execution_count": 251,
   "id": "a1e11b15-f590-4eeb-94dc-291a2fa784a0",
   "metadata": {
    "tags": []
   },
   "outputs": [],
   "source": [
    "from pyspark.sql import SparkSession, functions as F\n",
    "from pyspark.sql.types import * \n",
    "from pyspark.sql.functions import regexp_replace,split,substring,asc,desc,col, year, month, sum,substring,weekofyear,udf\n",
    "from datetime import datetime\n"
   ]
  },
  {
   "cell_type": "code",
   "execution_count": 3,
   "id": "89ed500f-8a30-4b5c-a513-361009e6bfcc",
   "metadata": {
    "tags": []
   },
   "outputs": [
    {
     "name": "stderr",
     "output_type": "stream",
     "text": [
      "WARNING: An illegal reflective access operation has occurred\n",
      "WARNING: Illegal reflective access by org.apache.spark.unsafe.Platform (file:/opt/manual/spark-3.1.1-bin-hadoop3.2/jars/spark-unsafe_2.12-3.1.1.jar) to constructor java.nio.DirectByteBuffer(long,int)\n",
      "WARNING: Please consider reporting this to the maintainers of org.apache.spark.unsafe.Platform\n",
      "WARNING: Use --illegal-access=warn to enable warnings of further illegal reflective access operations\n",
      "WARNING: All illegal access operations will be denied in a future release\n",
      "2023-03-01 15:43:02,175 WARN util.NativeCodeLoader: Unable to load native-hadoop library for your platform... using builtin-java classes where applicable\n",
      "Setting default log level to \"WARN\".\n",
      "To adjust logging level use sc.setLogLevel(newLevel). For SparkR, use setLogLevel(newLevel).\n"
     ]
    }
   ],
   "source": [
    "spark = SparkSession.builder \\\n",
    ".master(\"local[2]\") \\\n",
    ".appName(\"retaildb\") \\\n",
    ".enableHiveSupport() \\\n",
    ".getOrCreate()"
   ]
  },
  {
   "cell_type": "code",
   "execution_count": 5,
   "id": "4446198f-06b5-45b0-9065-32d68001e4b4",
   "metadata": {
    "tags": []
   },
   "outputs": [
    {
     "name": "stdout",
     "output_type": "stream",
     "text": [
      "--2023-02-28 16:18:35--  https://raw.githubusercontent.com/erkansirin78/datasets/master/retail_db/orders.csv\n",
      "Resolving raw.githubusercontent.com (raw.githubusercontent.com)... 185.199.111.133, 185.199.110.133, 185.199.109.133, ...\n",
      "Connecting to raw.githubusercontent.com (raw.githubusercontent.com)|185.199.111.133|:443... connected.\n",
      "HTTP request sent, awaiting response... 200 OK\n",
      "Length: 2999990 (2.9M) [text/plain]\n",
      "Saving to: ‘/home/train/datasets/orders.csv’\n",
      "\n",
      "100%[======================================>] 2,999,990    335KB/s   in 8.6s   \n",
      "\n",
      "2023-02-28 16:18:44 (341 KB/s) - ‘/home/train/datasets/orders.csv’ saved [2999990/2999990]\n",
      "\n"
     ]
    }
   ],
   "source": [
    "! wget -P /home/train/datasets/ \\\n",
    "https://raw.githubusercontent.com/erkansirin78/datasets/master/retail_db/orders.csv"
   ]
  },
  {
   "cell_type": "code",
   "execution_count": 8,
   "id": "b6595e25-e3ae-4cd1-af08-958306e85c6c",
   "metadata": {
    "tags": []
   },
   "outputs": [
    {
     "name": "stdout",
     "output_type": "stream",
     "text": [
      "--2023-02-28 16:25:18--  https://raw.githubusercontent.com/erkansirin78/datasets/master/retail_db/order_items.csv\n",
      "Resolving raw.githubusercontent.com (raw.githubusercontent.com)... 185.199.110.133, 185.199.108.133, 185.199.109.133, ...\n",
      "Connecting to raw.githubusercontent.com (raw.githubusercontent.com)|185.199.110.133|:443... connected.\n",
      "HTTP request sent, awaiting response... 200 OK\n",
      "Length: 5408988 (5.2M) [text/plain]\n",
      "Saving to: ‘/home/train/datasets/order_items.csv’\n",
      "\n",
      "100%[======================================>] 5,408,988    199KB/s   in 21s    \n",
      "\n",
      "2023-02-28 16:25:39 (253 KB/s) - ‘/home/train/datasets/order_items.csv’ saved [5408988/5408988]\n",
      "\n"
     ]
    }
   ],
   "source": [
    "! wget -P /home/train/datasets/ \\\n",
    "https://raw.githubusercontent.com/erkansirin78/datasets/master/retail_db/order_items.csv"
   ]
  },
  {
   "cell_type": "code",
   "execution_count": 105,
   "id": "021122b9-eb0b-47d7-9a09-23a3ba727da5",
   "metadata": {
    "tags": []
   },
   "outputs": [
    {
     "name": "stdout",
     "output_type": "stream",
     "text": [
      "--2023-02-28 21:30:59--  https://raw.githubusercontent.com/erkansirin78/datasets/master/retail_db/products.csv\n",
      "Resolving raw.githubusercontent.com (raw.githubusercontent.com)... 185.199.108.133, 185.199.111.133, 185.199.110.133, ...\n",
      "Connecting to raw.githubusercontent.com (raw.githubusercontent.com)|185.199.108.133|:443... connected.\n",
      "HTTP request sent, awaiting response... 200 OK\n",
      "Length: 174240 (170K) [text/plain]\n",
      "Saving to: ‘/home/train/datasets/products.csv’\n",
      "\n",
      "100%[======================================>] 174,240      122KB/s   in 1.4s   \n",
      "\n",
      "2023-02-28 21:31:01 (122 KB/s) - ‘/home/train/datasets/products.csv’ saved [174240/174240]\n",
      "\n",
      "--2023-02-28 21:31:01--  https://raw.githubusercontent.com/erkansirin78/datasets/master/retail_db/products2.csv\n",
      "Reusing existing connection to raw.githubusercontent.com:443.\n",
      "HTTP request sent, awaiting response... 200 OK\n",
      "Length: 174196 (170K) [text/plain]\n",
      "Saving to: ‘/home/train/datasets/products2.csv’\n",
      "\n",
      "100%[======================================>] 174,196     41.1KB/s   in 4.1s   \n",
      "\n",
      "2023-02-28 21:31:05 (41.1 KB/s) - ‘/home/train/datasets/products2.csv’ saved [174196/174196]\n",
      "\n",
      "FINISHED --2023-02-28 21:31:05--\n",
      "Total wall clock time: 6.6s\n",
      "Downloaded: 2 files, 340K in 5.5s (61.4 KB/s)\n"
     ]
    }
   ],
   "source": [
    "! wget -P /home/train/datasets/ \\\n",
    "https://raw.githubusercontent.com/erkansirin78/datasets/master/retail_db/products.csv \\\n",
    "https://raw.githubusercontent.com/erkansirin78/datasets/master/retail_db/products2.csv"
   ]
  },
  {
   "cell_type": "code",
   "execution_count": 123,
   "id": "220e2c38-d335-45bf-8c9e-9292d64e6257",
   "metadata": {
    "tags": []
   },
   "outputs": [
    {
     "name": "stdout",
     "output_type": "stream",
     "text": [
      "--2023-02-28 21:55:11--  https://raw.githubusercontent.com/erkansirin78/datasets/master/retail_db/categories.csv\n",
      "Resolving raw.githubusercontent.com (raw.githubusercontent.com)... 185.199.110.133, 185.199.111.133, 185.199.109.133, ...\n",
      "Connecting to raw.githubusercontent.com (raw.githubusercontent.com)|185.199.110.133|:443... connected.\n",
      "HTTP request sent, awaiting response... 200 OK\n",
      "Length: 1074 (1.0K) [text/plain]\n",
      "Saving to: ‘/home/train/datasets/categories.csv’\n",
      "\n",
      "100%[======================================>] 1,074       --.-K/s   in 0s      \n",
      "\n",
      "2023-02-28 21:55:15 (10.1 MB/s) - ‘/home/train/datasets/categories.csv’ saved [1074/1074]\n",
      "\n"
     ]
    }
   ],
   "source": [
    "! wget -P /home/train/datasets/ \\\n",
    "https://raw.githubusercontent.com/erkansirin78/datasets/master/retail_db/categories.csv"
   ]
  },
  {
   "cell_type": "markdown",
   "id": "b369d645-eb1f-48fd-945f-e829b481f43d",
   "metadata": {},
   "source": [
    "# Read Data"
   ]
  },
  {
   "cell_type": "code",
   "execution_count": 4,
   "id": "eb806e05-7c90-4788-8953-901f2f5e19cf",
   "metadata": {},
   "outputs": [
    {
     "name": "stderr",
     "output_type": "stream",
     "text": [
      "                                                                                \r"
     ]
    }
   ],
   "source": [
    "df = spark.read \\\n",
    ".format(\"csv\") \\\n",
    ".option(\"header\", True) \\\n",
    ".option(\"sep\", \",\") \\\n",
    ".option(\"inferSchema\", True) \\\n",
    ".load(\"file:///home/train/datasets/orders.csv\")"
   ]
  },
  {
   "cell_type": "code",
   "execution_count": 5,
   "id": "abdaf13d-9c70-4029-af95-2a59261c9a5a",
   "metadata": {
    "tags": []
   },
   "outputs": [
    {
     "name": "stderr",
     "output_type": "stream",
     "text": [
      "                                                                                \r"
     ]
    }
   ],
   "source": [
    "df2 = spark.read \\\n",
    ".format(\"csv\") \\\n",
    ".option(\"header\", True) \\\n",
    ".option(\"sep\", \",\") \\\n",
    ".option(\"inferSchema\", True) \\\n",
    ".load(\"file:///home/train/datasets/order_items.csv\")"
   ]
  },
  {
   "cell_type": "code",
   "execution_count": 6,
   "id": "ea8ecc45-f1a9-4263-92f9-52d6d1df95f2",
   "metadata": {},
   "outputs": [],
   "source": [
    "df3 = spark.read \\\n",
    ".format(\"csv\") \\\n",
    ".option(\"header\", True) \\\n",
    ".option(\"sep\", \",\") \\\n",
    ".option(\"inferSchema\", True) \\\n",
    ".load(\"file:///home/train/datasets/products.csv\")"
   ]
  },
  {
   "cell_type": "code",
   "execution_count": 7,
   "id": "3bce12f5-0a33-4bcd-81bd-f9de804863a7",
   "metadata": {
    "tags": []
   },
   "outputs": [],
   "source": [
    "df4 = spark.read \\\n",
    ".format(\"csv\") \\\n",
    ".option(\"header\", True) \\\n",
    ".option(\"sep\", \",\") \\\n",
    ".option(\"inferSchema\", True) \\\n",
    ".load(\"file:///home/train/datasets/products2.csv\")"
   ]
  },
  {
   "cell_type": "code",
   "execution_count": 8,
   "id": "0a02b5f0-cc58-468b-9159-0220f2f73b12",
   "metadata": {
    "tags": []
   },
   "outputs": [
    {
     "name": "stdout",
     "output_type": "stream",
     "text": [
      "+---------+-----------------+--------------------+------------------+------------+--------------------+\n",
      "|productId|productCategoryId|         productName|productDescription|productPrice|        productImage|\n",
      "+---------+-----------------+--------------------+------------------+------------+--------------------+\n",
      "|        1|                2|Quest Q64 10 FT. ...|              null|       59.98|http://images.acm...|\n",
      "|        2|                2|Under Armour Men'...|              null|      129.99|http://images.acm...|\n",
      "|        3|                2|Under Armour Men'...|              null|       89.99|http://images.acm...|\n",
      "|        4|                2|Under Armour Men'...|              null|       89.99|http://images.acm...|\n",
      "|        5|                2|Riddell Youth Rev...|              null|      199.99|http://images.acm...|\n",
      "|        6|                2|Jordan Men's VI R...|              null|      134.99|http://images.acm...|\n",
      "|        7|                2|Schutt Youth Recr...|              null|       99.99|http://images.acm...|\n",
      "|        8|                2|Nike Men's Vapor ...|              null|      129.99|http://images.acm...|\n",
      "|        9|                2|Nike Adult Vapor ...|              null|        50.0|http://images.acm...|\n",
      "|       10|                2|Under Armour Men'...|              null|      129.99|http://images.acm...|\n",
      "|       11|                2|Fitness Gear 300 ...|              null|      209.99|http://images.acm...|\n",
      "|       12|                2|Under Armour Men'...|              null|      139.99|http://images.acm...|\n",
      "|       13|                2|Under Armour Men'...|              null|       89.99|http://images.acm...|\n",
      "|       14|                2|Quik Shade Summit...|              null|      199.99|http://images.acm...|\n",
      "|       15|                2|Under Armour Kids...|              null|       59.99|http://images.acm...|\n",
      "|       16|                2|Riddell Youth 360...|              null|      299.99|http://images.acm...|\n",
      "|       17|                2|Under Armour Men'...|              null|      129.99|http://images.acm...|\n",
      "|       18|                2|Reebok Men's Full...|              null|       29.97|http://images.acm...|\n",
      "|       19|                2|Nike Men's Finger...|              null|      124.99|http://images.acm...|\n",
      "|       20|                2|Under Armour Men'...|              null|      129.99|http://images.acm...|\n",
      "+---------+-----------------+--------------------+------------------+------------+--------------------+\n",
      "only showing top 20 rows\n",
      "\n"
     ]
    }
   ],
   "source": [
    "df3.show()"
   ]
  },
  {
   "cell_type": "markdown",
   "id": "a5e3b3cf-9446-4dcd-98e5-49845f2cf08f",
   "metadata": {},
   "source": [
    "Answer 1"
   ]
  },
  {
   "cell_type": "code",
   "execution_count": 9,
   "id": "84a8d5c1-ad4a-46a1-95dd-4d8a32fc63d5",
   "metadata": {
    "tags": []
   },
   "outputs": [
    {
     "name": "stderr",
     "output_type": "stream",
     "text": [
      "                                                                                \r"
     ]
    },
    {
     "data": {
      "text/plain": [
       "11529"
      ]
     },
     "execution_count": 9,
     "metadata": {},
     "output_type": "execute_result"
    }
   ],
   "source": [
    "df2.groupBy(\"orderItemOrderId\") \\\n",
    ".count() \\\n",
    ".withColumnRenamed(\"count\", \"n\") \\\n",
    ".filter(\"n = 1\").count()"
   ]
  },
  {
   "cell_type": "markdown",
   "id": "46944f9c-0bc4-4238-a79f-b18bed157c70",
   "metadata": {},
   "source": [
    "Answer 2"
   ]
  },
  {
   "cell_type": "code",
   "execution_count": 10,
   "id": "662330ab-e9a1-4dbd-93c7-74d86d7ff03f",
   "metadata": {
    "tags": []
   },
   "outputs": [
    {
     "name": "stdout",
     "output_type": "stream",
     "text": [
      "total count:  241081\n"
     ]
    }
   ],
   "source": [
    "total_count = df.count() + df2.count()\n",
    "print(\"total count: \", total_count)"
   ]
  },
  {
   "cell_type": "markdown",
   "id": "a43e0bc4-3279-4311-a8d8-92caa26b79f2",
   "metadata": {
    "jupyter": {
     "source_hidden": true
    },
    "tags": []
   },
   "source": [
    "Answer 3"
   ]
  },
  {
   "cell_type": "code",
   "execution_count": 11,
   "id": "bf15f1f2-2d0b-4f36-bb50-840ac11f30bc",
   "metadata": {},
   "outputs": [],
   "source": [
    "canceled_items = df.filter(df.orderStatus == \"CANCELED\")"
   ]
  },
  {
   "cell_type": "code",
   "execution_count": 12,
   "id": "88f27eb4-81e3-4511-bee9-4c2d760a7335",
   "metadata": {
    "tags": []
   },
   "outputs": [
    {
     "name": "stdout",
     "output_type": "stream",
     "text": [
      "+-------+--------------------+---------------+-----------+\n",
      "|orderId|           orderDate|orderCustomerId|orderStatus|\n",
      "+-------+--------------------+---------------+-----------+\n",
      "|     50|2013-07-25 00:00:...|           5225|   CANCELED|\n",
      "|    112|2013-07-26 00:00:...|           5375|   CANCELED|\n",
      "|    527|2013-07-28 00:00:...|           5426|   CANCELED|\n",
      "|    552|2013-07-28 00:00:...|           1445|   CANCELED|\n",
      "|    564|2013-07-28 00:00:...|           2216|   CANCELED|\n",
      "|    607|2013-07-28 00:00:...|           6376|   CANCELED|\n",
      "|    649|2013-07-28 00:00:...|           7261|   CANCELED|\n",
      "|    667|2013-07-28 00:00:...|           4726|   CANCELED|\n",
      "|    716|2013-07-29 00:00:...|           2581|   CANCELED|\n",
      "|    717|2013-07-29 00:00:...|           8208|   CANCELED|\n",
      "|    738|2013-07-29 00:00:...|          10042|   CANCELED|\n",
      "|    753|2013-07-29 00:00:...|           5094|   CANCELED|\n",
      "|    929|2013-07-30 00:00:...|           8482|   CANCELED|\n",
      "|    955|2013-07-30 00:00:...|           8117|   CANCELED|\n",
      "|    962|2013-07-30 00:00:...|           9492|   CANCELED|\n",
      "|   1013|2013-07-30 00:00:...|           1903|   CANCELED|\n",
      "|   1169|2013-07-31 00:00:...|           3971|   CANCELED|\n",
      "|   1186|2013-07-31 00:00:...|          11947|   CANCELED|\n",
      "|   1190|2013-07-31 00:00:...|          12360|   CANCELED|\n",
      "|   1313|2013-08-01 00:00:...|           3471|   CANCELED|\n",
      "+-------+--------------------+---------------+-----------+\n",
      "only showing top 20 rows\n",
      "\n"
     ]
    }
   ],
   "source": [
    "canceled_items.show()"
   ]
  },
  {
   "cell_type": "code",
   "execution_count": 13,
   "id": "479c8c5f-d252-4e05-9998-4c575458f5d3",
   "metadata": {
    "tags": []
   },
   "outputs": [],
   "source": [
    "joined_data = df2.join(canceled_items, df2.orderItemOrderId == canceled_items.orderId)"
   ]
  },
  {
   "cell_type": "code",
   "execution_count": 14,
   "id": "31ae30de-fb73-4a60-bc98-e31bbf6e1f18",
   "metadata": {
    "tags": []
   },
   "outputs": [],
   "source": [
    "joined_data1 = df3.join(joined_data, df3.productId == joined_data.orderItemProductId)"
   ]
  },
  {
   "cell_type": "code",
   "execution_count": 15,
   "id": "f6c28fff-5159-4758-8325-62d8b3f7030f",
   "metadata": {
    "tags": []
   },
   "outputs": [
    {
     "name": "stdout",
     "output_type": "stream",
     "text": [
      "+---------+-----------------+--------------------+------------------+------------+--------------------+-------------+----------------+------------------+-----------------+-----------------+---------------------+-------+--------------------+---------------+-----------+\n",
      "|productId|productCategoryId|         productName|productDescription|productPrice|        productImage|orderItemName|orderItemOrderId|orderItemProductId|orderItemQuantity|orderItemSubTotal|orderItemProductPrice|orderId|           orderDate|orderCustomerId|orderStatus|\n",
      "+---------+-----------------+--------------------+------------------+------------+--------------------+-------------+----------------+------------------+-----------------+-----------------+---------------------+-------+--------------------+---------------+-----------+\n",
      "|      403|               18|Nike Men's CJ Eli...|              null|      129.99|http://images.acm...|          124|              50|               403|                1|           129.99|               129.99|     50|2013-07-25 00:00:...|           5225|   CANCELED|\n",
      "|      957|               43|Diamondback Women...|              null|      299.98|http://images.acm...|          125|              50|               957|                1|           299.98|               299.98|     50|2013-07-25 00:00:...|           5225|   CANCELED|\n",
      "|     1014|               46|O'Brien Men's Neo...|              null|       49.98|http://images.acm...|          254|             112|              1014|                2|            99.96|                49.98|    112|2013-07-26 00:00:...|           5375|   CANCELED|\n",
      "+---------+-----------------+--------------------+------------------+------------+--------------------+-------------+----------------+------------------+-----------------+-----------------+---------------------+-------+--------------------+---------------+-----------+\n",
      "only showing top 3 rows\n",
      "\n"
     ]
    }
   ],
   "source": [
    "joined_data1.show(3)"
   ]
  },
  {
   "cell_type": "code",
   "execution_count": 16,
   "id": "7d9a2f17-48ec-43ad-93ac-ef65bec407ac",
   "metadata": {
    "tags": []
   },
   "outputs": [],
   "source": [
    "product_sales = joined_data1.groupBy(\"productName\").agg({\"orderItemSubTotal\": \"sum\"}).withColumnRenamed(\"sum(orderItemSubTotal)\", \"productSales\")"
   ]
  },
  {
   "cell_type": "raw",
   "id": "c37baa23-094e-42d6-b0fa-3e97efdc7389",
   "metadata": {},
   "source": [
    "sorted_products = product_sales.sort('productSales', ascending=True)"
   ]
  },
  {
   "cell_type": "code",
   "execution_count": 17,
   "id": "624e6cf5-615c-44ea-a756-ae89fc3a10e2",
   "metadata": {
    "tags": []
   },
   "outputs": [],
   "source": [
    "product_sales = product_sales.orderBy(desc(\"productSales\"))"
   ]
  },
  {
   "cell_type": "code",
   "execution_count": 208,
   "id": "c0a68099-b330-480d-9b7c-16393305c3a2",
   "metadata": {
    "tags": []
   },
   "outputs": [
    {
     "name": "stderr",
     "output_type": "stream",
     "text": [
      "[Stage 602:===========================================>         (164 + 2) / 200]\r"
     ]
    },
    {
     "name": "stdout",
     "output_type": "stream",
     "text": [
      "+--------------------+------------------+\n",
      "|         productName|      productSales|\n",
      "+--------------------+------------------+\n",
      "|Field & Stream Sp...|134393.27999999968|\n",
      "|Perfect Fitness P...|  85785.7000000001|\n",
      "|Nike Men's Free 5...| 80691.92999999996|\n",
      "|Diamondback Women...| 80094.66000000027|\n",
      "|Pelican Sunstream...| 66196.68999999986|\n",
      "|Nike Men's Dri-FI...|           65750.0|\n",
      "|Nike Men's CJ Eli...| 60705.32999999982|\n",
      "|O'Brien Men's Neo...|58126.740000000005|\n",
      "|Under Armour Girl...| 26153.45999999997|\n",
      "|LIJA Women's Eyel...|            2145.0|\n",
      "|adidas Youth Germ...|            1890.0|\n",
      "|Bushnell Pro X7 J...|           1799.97|\n",
      "|adidas Men's F10 ...|           1499.75|\n",
      "|Nike Men's Deutsc...|            1110.0|\n",
      "|Under Armour Wome...| 989.4600000000002|\n",
      "|Columbia Men's PF...|             870.0|\n",
      "|Under Armour Men'...| 854.8100000000001|\n",
      "|Titleist Pro V1x ...|            831.84|\n",
      "|Team Golf Texas L...| 799.6800000000001|\n",
      "|Garmin Approach S...|            749.97|\n",
      "|Titleist Pro V1x ...|            719.85|\n",
      "|Nike Men's Comfor...|            719.84|\n",
      "|Glove It Women's ...| 719.6400000000001|\n",
      "|LIJA Women's Mid-...|             700.0|\n",
      "|Nike Men's Free T...|            699.93|\n",
      "|Team Golf Tenness...|            699.72|\n",
      "|TYR Boys' Team Di...| 679.8299999999999|\n",
      "|Under Armour Hust...| 664.8100000000001|\n",
      "|adidas Kids' F5 M...|            664.81|\n",
      "|Nike Women's Temp...|             660.0|\n",
      "+--------------------+------------------+\n",
      "only showing top 30 rows\n",
      "\n"
     ]
    },
    {
     "name": "stderr",
     "output_type": "stream",
     "text": [
      "                                                                                \r"
     ]
    }
   ],
   "source": [
    "product_sales.show(30)"
   ]
  },
  {
   "cell_type": "code",
   "execution_count": 100,
   "id": "2f64656f-97f4-4fec-8c9f-206f4963cfce",
   "metadata": {
    "tags": []
   },
   "outputs": [
    {
     "name": "stderr",
     "output_type": "stream",
     "text": [
      "                                                                                \r"
     ]
    }
   ],
   "source": [
    "\n",
    "product_sales.write \\\n",
    ".format(\"parquet\") \\\n",
    ".mode(\"overwrite\") \\\n",
    ".save(\"hdfs://localhost:9000/user/train/datasets/sorted_products.parquet\")"
   ]
  },
  {
   "cell_type": "code",
   "execution_count": 101,
   "id": "d91363ec-aa9c-43e8-8ea8-7d76254d3e77",
   "metadata": {
    "tags": []
   },
   "outputs": [
    {
     "name": "stdout",
     "output_type": "stream",
     "text": [
      "Found 79 items\n",
      "-rw-r--r--   1 train supergroup          0 2023-02-28 20:58 /user/train/datasets/sorted_products.parquet/_SUCCESS\n",
      "-rw-r--r--   1 train supergroup        738 2023-02-28 20:57 /user/train/datasets/sorted_products.parquet/part-00000-bec31129-6d59-4e46-a171-11a0388bcccb-c000.snappy.parquet\n",
      "-rw-r--r--   1 train supergroup        738 2023-02-28 20:57 /user/train/datasets/sorted_products.parquet/part-00001-bec31129-6d59-4e46-a171-11a0388bcccb-c000.snappy.parquet\n",
      "-rw-r--r--   1 train supergroup        738 2023-02-28 20:57 /user/train/datasets/sorted_products.parquet/part-00002-bec31129-6d59-4e46-a171-11a0388bcccb-c000.snappy.parquet\n",
      "-rw-r--r--   1 train supergroup        738 2023-02-28 20:57 /user/train/datasets/sorted_products.parquet/part-00003-bec31129-6d59-4e46-a171-11a0388bcccb-c000.snappy.parquet\n",
      "-rw-r--r--   1 train supergroup        738 2023-02-28 20:57 /user/train/datasets/sorted_products.parquet/part-00004-bec31129-6d59-4e46-a171-11a0388bcccb-c000.snappy.parquet\n",
      "-rw-r--r--   1 train supergroup        738 2023-02-28 20:57 /user/train/datasets/sorted_products.parquet/part-00005-bec31129-6d59-4e46-a171-11a0388bcccb-c000.snappy.parquet\n",
      "-rw-r--r--   1 train supergroup        738 2023-02-28 20:57 /user/train/datasets/sorted_products.parquet/part-00006-bec31129-6d59-4e46-a171-11a0388bcccb-c000.snappy.parquet\n",
      "-rw-r--r--   1 train supergroup        738 2023-02-28 20:57 /user/train/datasets/sorted_products.parquet/part-00007-bec31129-6d59-4e46-a171-11a0388bcccb-c000.snappy.parquet\n",
      "-rw-r--r--   1 train supergroup        738 2023-02-28 20:57 /user/train/datasets/sorted_products.parquet/part-00008-bec31129-6d59-4e46-a171-11a0388bcccb-c000.snappy.parquet\n",
      "-rw-r--r--   1 train supergroup        738 2023-02-28 20:57 /user/train/datasets/sorted_products.parquet/part-00009-bec31129-6d59-4e46-a171-11a0388bcccb-c000.snappy.parquet\n",
      "-rw-r--r--   1 train supergroup        738 2023-02-28 20:57 /user/train/datasets/sorted_products.parquet/part-00010-bec31129-6d59-4e46-a171-11a0388bcccb-c000.snappy.parquet\n",
      "-rw-r--r--   1 train supergroup        738 2023-02-28 20:57 /user/train/datasets/sorted_products.parquet/part-00011-bec31129-6d59-4e46-a171-11a0388bcccb-c000.snappy.parquet\n",
      "-rw-r--r--   1 train supergroup        738 2023-02-28 20:57 /user/train/datasets/sorted_products.parquet/part-00012-bec31129-6d59-4e46-a171-11a0388bcccb-c000.snappy.parquet\n",
      "-rw-r--r--   1 train supergroup        738 2023-02-28 20:57 /user/train/datasets/sorted_products.parquet/part-00013-bec31129-6d59-4e46-a171-11a0388bcccb-c000.snappy.parquet\n",
      "-rw-r--r--   1 train supergroup        738 2023-02-28 20:57 /user/train/datasets/sorted_products.parquet/part-00014-bec31129-6d59-4e46-a171-11a0388bcccb-c000.snappy.parquet\n",
      "-rw-r--r--   1 train supergroup        738 2023-02-28 20:57 /user/train/datasets/sorted_products.parquet/part-00015-bec31129-6d59-4e46-a171-11a0388bcccb-c000.snappy.parquet\n",
      "-rw-r--r--   1 train supergroup        738 2023-02-28 20:57 /user/train/datasets/sorted_products.parquet/part-00016-bec31129-6d59-4e46-a171-11a0388bcccb-c000.snappy.parquet\n",
      "-rw-r--r--   1 train supergroup        738 2023-02-28 20:57 /user/train/datasets/sorted_products.parquet/part-00017-bec31129-6d59-4e46-a171-11a0388bcccb-c000.snappy.parquet\n",
      "-rw-r--r--   1 train supergroup        738 2023-02-28 20:57 /user/train/datasets/sorted_products.parquet/part-00018-bec31129-6d59-4e46-a171-11a0388bcccb-c000.snappy.parquet\n",
      "-rw-r--r--   1 train supergroup        738 2023-02-28 20:57 /user/train/datasets/sorted_products.parquet/part-00019-bec31129-6d59-4e46-a171-11a0388bcccb-c000.snappy.parquet\n",
      "-rw-r--r--   1 train supergroup        738 2023-02-28 20:57 /user/train/datasets/sorted_products.parquet/part-00020-bec31129-6d59-4e46-a171-11a0388bcccb-c000.snappy.parquet\n",
      "-rw-r--r--   1 train supergroup        738 2023-02-28 20:57 /user/train/datasets/sorted_products.parquet/part-00021-bec31129-6d59-4e46-a171-11a0388bcccb-c000.snappy.parquet\n",
      "-rw-r--r--   1 train supergroup        738 2023-02-28 20:57 /user/train/datasets/sorted_products.parquet/part-00022-bec31129-6d59-4e46-a171-11a0388bcccb-c000.snappy.parquet\n",
      "-rw-r--r--   1 train supergroup        738 2023-02-28 20:57 /user/train/datasets/sorted_products.parquet/part-00023-bec31129-6d59-4e46-a171-11a0388bcccb-c000.snappy.parquet\n",
      "-rw-r--r--   1 train supergroup        738 2023-02-28 20:57 /user/train/datasets/sorted_products.parquet/part-00024-bec31129-6d59-4e46-a171-11a0388bcccb-c000.snappy.parquet\n",
      "-rw-r--r--   1 train supergroup        738 2023-02-28 20:57 /user/train/datasets/sorted_products.parquet/part-00025-bec31129-6d59-4e46-a171-11a0388bcccb-c000.snappy.parquet\n",
      "-rw-r--r--   1 train supergroup        738 2023-02-28 20:57 /user/train/datasets/sorted_products.parquet/part-00026-bec31129-6d59-4e46-a171-11a0388bcccb-c000.snappy.parquet\n",
      "-rw-r--r--   1 train supergroup        738 2023-02-28 20:57 /user/train/datasets/sorted_products.parquet/part-00027-bec31129-6d59-4e46-a171-11a0388bcccb-c000.snappy.parquet\n",
      "-rw-r--r--   1 train supergroup        738 2023-02-28 20:57 /user/train/datasets/sorted_products.parquet/part-00028-bec31129-6d59-4e46-a171-11a0388bcccb-c000.snappy.parquet\n",
      "-rw-r--r--   1 train supergroup        738 2023-02-28 20:57 /user/train/datasets/sorted_products.parquet/part-00029-bec31129-6d59-4e46-a171-11a0388bcccb-c000.snappy.parquet\n",
      "-rw-r--r--   1 train supergroup        738 2023-02-28 20:57 /user/train/datasets/sorted_products.parquet/part-00030-bec31129-6d59-4e46-a171-11a0388bcccb-c000.snappy.parquet\n",
      "-rw-r--r--   1 train supergroup        738 2023-02-28 20:57 /user/train/datasets/sorted_products.parquet/part-00031-bec31129-6d59-4e46-a171-11a0388bcccb-c000.snappy.parquet\n",
      "-rw-r--r--   1 train supergroup        738 2023-02-28 20:57 /user/train/datasets/sorted_products.parquet/part-00032-bec31129-6d59-4e46-a171-11a0388bcccb-c000.snappy.parquet\n",
      "-rw-r--r--   1 train supergroup        738 2023-02-28 20:57 /user/train/datasets/sorted_products.parquet/part-00033-bec31129-6d59-4e46-a171-11a0388bcccb-c000.snappy.parquet\n",
      "-rw-r--r--   1 train supergroup        738 2023-02-28 20:57 /user/train/datasets/sorted_products.parquet/part-00034-bec31129-6d59-4e46-a171-11a0388bcccb-c000.snappy.parquet\n",
      "-rw-r--r--   1 train supergroup        738 2023-02-28 20:57 /user/train/datasets/sorted_products.parquet/part-00035-bec31129-6d59-4e46-a171-11a0388bcccb-c000.snappy.parquet\n",
      "-rw-r--r--   1 train supergroup        738 2023-02-28 20:57 /user/train/datasets/sorted_products.parquet/part-00036-bec31129-6d59-4e46-a171-11a0388bcccb-c000.snappy.parquet\n",
      "-rw-r--r--   1 train supergroup        738 2023-02-28 20:57 /user/train/datasets/sorted_products.parquet/part-00037-bec31129-6d59-4e46-a171-11a0388bcccb-c000.snappy.parquet\n",
      "-rw-r--r--   1 train supergroup        738 2023-02-28 20:57 /user/train/datasets/sorted_products.parquet/part-00038-bec31129-6d59-4e46-a171-11a0388bcccb-c000.snappy.parquet\n",
      "-rw-r--r--   1 train supergroup        768 2023-02-28 20:57 /user/train/datasets/sorted_products.parquet/part-00039-bec31129-6d59-4e46-a171-11a0388bcccb-c000.snappy.parquet\n",
      "-rw-r--r--   1 train supergroup        738 2023-02-28 20:57 /user/train/datasets/sorted_products.parquet/part-00040-bec31129-6d59-4e46-a171-11a0388bcccb-c000.snappy.parquet\n",
      "-rw-r--r--   1 train supergroup        738 2023-02-28 20:57 /user/train/datasets/sorted_products.parquet/part-00041-bec31129-6d59-4e46-a171-11a0388bcccb-c000.snappy.parquet\n",
      "-rw-r--r--   1 train supergroup        738 2023-02-28 20:57 /user/train/datasets/sorted_products.parquet/part-00042-bec31129-6d59-4e46-a171-11a0388bcccb-c000.snappy.parquet\n",
      "-rw-r--r--   1 train supergroup        738 2023-02-28 20:57 /user/train/datasets/sorted_products.parquet/part-00043-bec31129-6d59-4e46-a171-11a0388bcccb-c000.snappy.parquet\n",
      "-rw-r--r--   1 train supergroup        738 2023-02-28 20:57 /user/train/datasets/sorted_products.parquet/part-00044-bec31129-6d59-4e46-a171-11a0388bcccb-c000.snappy.parquet\n",
      "-rw-r--r--   1 train supergroup        738 2023-02-28 20:57 /user/train/datasets/sorted_products.parquet/part-00045-bec31129-6d59-4e46-a171-11a0388bcccb-c000.snappy.parquet\n",
      "-rw-r--r--   1 train supergroup        738 2023-02-28 20:57 /user/train/datasets/sorted_products.parquet/part-00046-bec31129-6d59-4e46-a171-11a0388bcccb-c000.snappy.parquet\n",
      "-rw-r--r--   1 train supergroup        768 2023-02-28 20:57 /user/train/datasets/sorted_products.parquet/part-00047-bec31129-6d59-4e46-a171-11a0388bcccb-c000.snappy.parquet\n",
      "-rw-r--r--   1 train supergroup        738 2023-02-28 20:57 /user/train/datasets/sorted_products.parquet/part-00048-bec31129-6d59-4e46-a171-11a0388bcccb-c000.snappy.parquet\n",
      "-rw-r--r--   1 train supergroup        738 2023-02-28 20:57 /user/train/datasets/sorted_products.parquet/part-00049-bec31129-6d59-4e46-a171-11a0388bcccb-c000.snappy.parquet\n",
      "-rw-r--r--   1 train supergroup        738 2023-02-28 20:57 /user/train/datasets/sorted_products.parquet/part-00050-bec31129-6d59-4e46-a171-11a0388bcccb-c000.snappy.parquet\n",
      "-rw-r--r--   1 train supergroup        738 2023-02-28 20:57 /user/train/datasets/sorted_products.parquet/part-00051-bec31129-6d59-4e46-a171-11a0388bcccb-c000.snappy.parquet\n",
      "-rw-r--r--   1 train supergroup        738 2023-02-28 20:57 /user/train/datasets/sorted_products.parquet/part-00052-bec31129-6d59-4e46-a171-11a0388bcccb-c000.snappy.parquet\n",
      "-rw-r--r--   1 train supergroup        738 2023-02-28 20:57 /user/train/datasets/sorted_products.parquet/part-00053-bec31129-6d59-4e46-a171-11a0388bcccb-c000.snappy.parquet\n",
      "-rw-r--r--   1 train supergroup        738 2023-02-28 20:57 /user/train/datasets/sorted_products.parquet/part-00054-bec31129-6d59-4e46-a171-11a0388bcccb-c000.snappy.parquet\n",
      "-rw-r--r--   1 train supergroup        738 2023-02-28 20:57 /user/train/datasets/sorted_products.parquet/part-00055-bec31129-6d59-4e46-a171-11a0388bcccb-c000.snappy.parquet\n",
      "-rw-r--r--   1 train supergroup        738 2023-02-28 20:57 /user/train/datasets/sorted_products.parquet/part-00056-bec31129-6d59-4e46-a171-11a0388bcccb-c000.snappy.parquet\n",
      "-rw-r--r--   1 train supergroup        738 2023-02-28 20:57 /user/train/datasets/sorted_products.parquet/part-00057-bec31129-6d59-4e46-a171-11a0388bcccb-c000.snappy.parquet\n",
      "-rw-r--r--   1 train supergroup        738 2023-02-28 20:57 /user/train/datasets/sorted_products.parquet/part-00058-bec31129-6d59-4e46-a171-11a0388bcccb-c000.snappy.parquet\n",
      "-rw-r--r--   1 train supergroup        738 2023-02-28 20:57 /user/train/datasets/sorted_products.parquet/part-00059-bec31129-6d59-4e46-a171-11a0388bcccb-c000.snappy.parquet\n",
      "-rw-r--r--   1 train supergroup        738 2023-02-28 20:57 /user/train/datasets/sorted_products.parquet/part-00060-bec31129-6d59-4e46-a171-11a0388bcccb-c000.snappy.parquet\n",
      "-rw-r--r--   1 train supergroup        738 2023-02-28 20:57 /user/train/datasets/sorted_products.parquet/part-00061-bec31129-6d59-4e46-a171-11a0388bcccb-c000.snappy.parquet\n",
      "-rw-r--r--   1 train supergroup        738 2023-02-28 20:57 /user/train/datasets/sorted_products.parquet/part-00062-bec31129-6d59-4e46-a171-11a0388bcccb-c000.snappy.parquet\n",
      "-rw-r--r--   1 train supergroup        738 2023-02-28 20:57 /user/train/datasets/sorted_products.parquet/part-00063-bec31129-6d59-4e46-a171-11a0388bcccb-c000.snappy.parquet\n",
      "-rw-r--r--   1 train supergroup        738 2023-02-28 20:57 /user/train/datasets/sorted_products.parquet/part-00064-bec31129-6d59-4e46-a171-11a0388bcccb-c000.snappy.parquet\n",
      "-rw-r--r--   1 train supergroup        738 2023-02-28 20:57 /user/train/datasets/sorted_products.parquet/part-00065-bec31129-6d59-4e46-a171-11a0388bcccb-c000.snappy.parquet\n",
      "-rw-r--r--   1 train supergroup        738 2023-02-28 20:57 /user/train/datasets/sorted_products.parquet/part-00066-bec31129-6d59-4e46-a171-11a0388bcccb-c000.snappy.parquet\n",
      "-rw-r--r--   1 train supergroup        738 2023-02-28 20:57 /user/train/datasets/sorted_products.parquet/part-00067-bec31129-6d59-4e46-a171-11a0388bcccb-c000.snappy.parquet\n",
      "-rw-r--r--   1 train supergroup        738 2023-02-28 20:57 /user/train/datasets/sorted_products.parquet/part-00068-bec31129-6d59-4e46-a171-11a0388bcccb-c000.snappy.parquet\n",
      "-rw-r--r--   1 train supergroup        738 2023-02-28 20:57 /user/train/datasets/sorted_products.parquet/part-00069-bec31129-6d59-4e46-a171-11a0388bcccb-c000.snappy.parquet\n",
      "-rw-r--r--   1 train supergroup        738 2023-02-28 20:57 /user/train/datasets/sorted_products.parquet/part-00070-bec31129-6d59-4e46-a171-11a0388bcccb-c000.snappy.parquet\n",
      "-rw-r--r--   1 train supergroup        738 2023-02-28 20:57 /user/train/datasets/sorted_products.parquet/part-00071-bec31129-6d59-4e46-a171-11a0388bcccb-c000.snappy.parquet\n",
      "-rw-r--r--   1 train supergroup        738 2023-02-28 20:57 /user/train/datasets/sorted_products.parquet/part-00072-bec31129-6d59-4e46-a171-11a0388bcccb-c000.snappy.parquet\n",
      "-rw-r--r--   1 train supergroup        738 2023-02-28 20:57 /user/train/datasets/sorted_products.parquet/part-00073-bec31129-6d59-4e46-a171-11a0388bcccb-c000.snappy.parquet\n",
      "-rw-r--r--   1 train supergroup        738 2023-02-28 20:57 /user/train/datasets/sorted_products.parquet/part-00074-bec31129-6d59-4e46-a171-11a0388bcccb-c000.snappy.parquet\n",
      "-rw-r--r--   1 train supergroup        738 2023-02-28 20:57 /user/train/datasets/sorted_products.parquet/part-00075-bec31129-6d59-4e46-a171-11a0388bcccb-c000.snappy.parquet\n",
      "-rw-r--r--   1 train supergroup        738 2023-02-28 20:57 /user/train/datasets/sorted_products.parquet/part-00076-bec31129-6d59-4e46-a171-11a0388bcccb-c000.snappy.parquet\n",
      "-rw-r--r--   1 train supergroup        738 2023-02-28 20:57 /user/train/datasets/sorted_products.parquet/part-00077-bec31129-6d59-4e46-a171-11a0388bcccb-c000.snappy.parquet\n"
     ]
    }
   ],
   "source": [
    "! hdfs dfs -ls -h /user/train/datasets/sorted_products.parquet"
   ]
  },
  {
   "cell_type": "code",
   "execution_count": 121,
   "id": "f473d5ec-8437-454c-8250-324f1ad0b05d",
   "metadata": {
    "tags": []
   },
   "outputs": [
    {
     "name": "stdout",
     "output_type": "stream",
     "text": [
      "put: `/home/train/datasets/sorted_products.parquet': No such file or directory\n"
     ]
    }
   ],
   "source": [
    "! hdfs dfs -put ~/datasets/sorted_products.parquet /user/train/datasets"
   ]
  },
  {
   "cell_type": "markdown",
   "id": "837f1248-027a-421a-9d7d-c62e21c76210",
   "metadata": {},
   "source": [
    "Answer 4"
   ]
  },
  {
   "cell_type": "code",
   "execution_count": null,
   "id": "43f54415-e877-48f6-80c0-e985709680ba",
   "metadata": {},
   "outputs": [],
   "source": [
    "! wget -P /home/train/datasets/ \\\n",
    "https://raw.githubusercontent.com/erkansirin78/datasets/master/retail_db/categories.csv"
   ]
  },
  {
   "cell_type": "code",
   "execution_count": 24,
   "id": "b99fcc4e-1ab7-4f43-bcf2-618d8140ccf0",
   "metadata": {
    "tags": []
   },
   "outputs": [],
   "source": [
    "df_cat = spark.read \\\n",
    ".format(\"csv\") \\\n",
    ".option(\"header\", True) \\\n",
    ".option(\"sep\", \",\") \\\n",
    ".option(\"inferSchema\", True) \\\n",
    ".load(\"file:///home/train/datasets/categories.csv\")"
   ]
  },
  {
   "cell_type": "code",
   "execution_count": 25,
   "id": "05d46aa9-e1e1-492d-a3ad-380e9838c692",
   "metadata": {
    "tags": []
   },
   "outputs": [
    {
     "name": "stdout",
     "output_type": "stream",
     "text": [
      "+----------+--------------------+-------------------+\n",
      "|categoryId|categoryDepartmentId|       categoryName|\n",
      "+----------+--------------------+-------------------+\n",
      "|         1|                   2|           Football|\n",
      "|         2|                   2|             Soccer|\n",
      "|         3|                   2|Baseball & Softball|\n",
      "|         4|                   2|         Basketball|\n",
      "|         5|                   2|           Lacrosse|\n",
      "|         6|                   2|   Tennis & Racquet|\n",
      "|         7|                   2|             Hockey|\n",
      "|         8|                   2|        More Sports|\n",
      "|         9|                   3|   Cardio Equipment|\n",
      "|        10|                   3|  Strength Training|\n",
      "|        11|                   3|Fitness Accessories|\n",
      "|        12|                   3|       Boxing & MMA|\n",
      "|        13|                   3|        Electronics|\n",
      "|        14|                   3|     Yoga & Pilates|\n",
      "|        15|                   3|  Training by Sport|\n",
      "|        16|                   3|    As Seen on  TV!|\n",
      "|        17|                   4|             Cleats|\n",
      "|        18|                   4|     Men's Footwear|\n",
      "|        19|                   4|   Women's Footwear|\n",
      "|        20|                   4|     Kids' Footwear|\n",
      "+----------+--------------------+-------------------+\n",
      "only showing top 20 rows\n",
      "\n"
     ]
    }
   ],
   "source": [
    "df_cat.show()"
   ]
  },
  {
   "cell_type": "code",
   "execution_count": 26,
   "id": "8f514d51-bf24-4041-8f77-620f55662690",
   "metadata": {
    "tags": []
   },
   "outputs": [],
   "source": [
    "joined_data2 = df_cat.join(joined_data1, df_cat.categoryId == joined_data1.productCategoryId)"
   ]
  },
  {
   "cell_type": "code",
   "execution_count": 27,
   "id": "77e906e2-24c6-4c25-a9a5-90f9f4fc2415",
   "metadata": {
    "tags": []
   },
   "outputs": [
    {
     "name": "stdout",
     "output_type": "stream",
     "text": [
      "+----------+--------------------+--------------------+---------+-----------------+--------------------+------------------+------------+--------------------+-------------+----------------+------------------+-----------------+-----------------+---------------------+-------+--------------------+---------------+-----------+\n",
      "|categoryId|categoryDepartmentId|        categoryName|productId|productCategoryId|         productName|productDescription|productPrice|        productImage|orderItemName|orderItemOrderId|orderItemProductId|orderItemQuantity|orderItemSubTotal|orderItemProductPrice|orderId|           orderDate|orderCustomerId|orderStatus|\n",
      "+----------+--------------------+--------------------+---------+-----------------+--------------------+------------------+------------+--------------------+-------------+----------------+------------------+-----------------+-----------------+---------------------+-------+--------------------+---------------+-----------+\n",
      "|        18|                   4|      Men's Footwear|      403|               18|Nike Men's CJ Eli...|              null|      129.99|http://images.acm...|          124|              50|               403|                1|           129.99|               129.99|     50|2013-07-25 00:00:...|           5225|   CANCELED|\n",
      "|        43|                   7|    Camping & Hiking|      957|               43|Diamondback Women...|              null|      299.98|http://images.acm...|          125|              50|               957|                1|           299.98|               299.98|     50|2013-07-25 00:00:...|           5225|   CANCELED|\n",
      "|        46|                   7|Indoor/Outdoor Games|     1014|               46|O'Brien Men's Neo...|              null|       49.98|http://images.acm...|          254|             112|              1014|                2|            99.96|                49.98|    112|2013-07-26 00:00:...|           5375|   CANCELED|\n",
      "|        29|                   5|       Shop By Sport|      642|               29|Columbia Men's PF...|              null|        30.0|http://images.acm...|          255|             112|               642|                4|            120.0|                 30.0|    112|2013-07-26 00:00:...|           5375|   CANCELED|\n",
      "|        17|                   4|              Cleats|      365|               17|Perfect Fitness P...|              null|       59.99|http://images.acm...|          256|             112|               365|                2|           119.98|                59.99|    112|2013-07-26 00:00:...|           5375|   CANCELED|\n",
      "|        45|                   7|             Fishing|     1004|               45|Field & Stream Sp...|              null|      399.98|http://images.acm...|          257|             112|              1004|                1|           399.98|               399.98|    112|2013-07-26 00:00:...|           5375|   CANCELED|\n",
      "|        17|                   4|              Cleats|      365|               17|Perfect Fitness P...|              null|       59.99|http://images.acm...|          258|             112|               365|                4|           239.96|                59.99|    112|2013-07-26 00:00:...|           5375|   CANCELED|\n",
      "|        18|                   4|      Men's Footwear|      403|               18|Nike Men's CJ Eli...|              null|      129.99|http://images.acm...|         1304|             527|               403|                1|           129.99|               129.99|    527|2013-07-28 00:00:...|           5426|   CANCELED|\n",
      "|        46|                   7|Indoor/Outdoor Games|     1014|               46|O'Brien Men's Neo...|              null|       49.98|http://images.acm...|         1305|             527|              1014|                1|            49.98|                49.98|    527|2013-07-28 00:00:...|           5426|   CANCELED|\n",
      "|        48|                   7|        Water Sports|     1073|               48|Pelican Sunstream...|              null|      199.99|http://images.acm...|         1306|             527|              1073|                1|           199.99|               199.99|    527|2013-07-28 00:00:...|           5426|   CANCELED|\n",
      "|        46|                   7|Indoor/Outdoor Games|     1014|               46|O'Brien Men's Neo...|              null|       49.98|http://images.acm...|         1307|             527|              1014|                3|           149.94|                49.98|    527|2013-07-28 00:00:...|           5426|   CANCELED|\n",
      "|        46|                   7|Indoor/Outdoor Games|     1014|               46|O'Brien Men's Neo...|              null|       49.98|http://images.acm...|         1382|             552|              1014|                1|            49.98|                49.98|    552|2013-07-28 00:00:...|           1445|   CANCELED|\n",
      "|        17|                   4|              Cleats|      365|               17|Perfect Fitness P...|              null|       59.99|http://images.acm...|         1482|             607|               365|                5|           299.95|                59.99|    607|2013-07-28 00:00:...|           6376|   CANCELED|\n",
      "|        46|                   7|Indoor/Outdoor Games|     1014|               46|O'Brien Men's Neo...|              null|       49.98|http://images.acm...|         1483|             607|              1014|                3|           149.94|                49.98|    607|2013-07-28 00:00:...|           6376|   CANCELED|\n",
      "|        18|                   4|      Men's Footwear|      403|               18|Nike Men's CJ Eli...|              null|      129.99|http://images.acm...|         1484|             607|               403|                1|           129.99|               129.99|    607|2013-07-28 00:00:...|           6376|   CANCELED|\n",
      "|        17|                   4|              Cleats|      365|               17|Perfect Fitness P...|              null|       59.99|http://images.acm...|         1485|             607|               365|                4|           239.96|                59.99|    607|2013-07-28 00:00:...|           6376|   CANCELED|\n",
      "|        46|                   7|Indoor/Outdoor Games|     1014|               46|O'Brien Men's Neo...|              null|       49.98|http://images.acm...|         1590|             649|              1014|                1|            49.98|                49.98|    649|2013-07-28 00:00:...|           7261|   CANCELED|\n",
      "|        48|                   7|        Water Sports|     1073|               48|Pelican Sunstream...|              null|      199.99|http://images.acm...|         1591|             649|              1073|                1|           199.99|               199.99|    649|2013-07-28 00:00:...|           7261|   CANCELED|\n",
      "|        18|                   4|      Men's Footwear|      403|               18|Nike Men's CJ Eli...|              null|      129.99|http://images.acm...|         1639|             667|               403|                1|           129.99|               129.99|    667|2013-07-28 00:00:...|           4726|   CANCELED|\n",
      "|        17|                   4|              Cleats|      365|               17|Perfect Fitness P...|              null|       59.99|http://images.acm...|         1640|             667|               365|                2|           119.98|                59.99|    667|2013-07-28 00:00:...|           4726|   CANCELED|\n",
      "+----------+--------------------+--------------------+---------+-----------------+--------------------+------------------+------------+--------------------+-------------+----------------+------------------+-----------------+-----------------+---------------------+-------+--------------------+---------------+-----------+\n",
      "only showing top 20 rows\n",
      "\n"
     ]
    }
   ],
   "source": [
    "joined_data2.show()"
   ]
  },
  {
   "cell_type": "code",
   "execution_count": 28,
   "id": "34e98720-6778-4f7a-b9c6-2e03708ac6c5",
   "metadata": {
    "tags": []
   },
   "outputs": [],
   "source": [
    "cat_sales = joined_data2.groupBy(\"categoryName\").agg({\"orderItemSubTotal\": \"sum\"}).withColumnRenamed(\"sum(orderItemSubTotal)\", \"productSales\")"
   ]
  },
  {
   "cell_type": "code",
   "execution_count": 29,
   "id": "bdb5ebc0-c3bc-4cb3-a5ab-e6aeab51d714",
   "metadata": {
    "tags": []
   },
   "outputs": [],
   "source": [
    "sorted_cat = cat_sales.sort('productSales',ascending=True)"
   ]
  },
  {
   "cell_type": "code",
   "execution_count": 30,
   "id": "b322c8e0-a13d-4aad-9a85-b82202a96a8a",
   "metadata": {
    "tags": []
   },
   "outputs": [],
   "source": [
    "cat_sales = cat_sales.orderBy(desc(\"productSales\"))"
   ]
  },
  {
   "cell_type": "code",
   "execution_count": 31,
   "id": "d31dacd7-31ae-4fb1-8f23-3116726d41b5",
   "metadata": {
    "tags": []
   },
   "outputs": [
    {
     "name": "stderr",
     "output_type": "stream",
     "text": [
      "[Stage 35:=====================================================>(199 + 1) / 200]\r"
     ]
    },
    {
     "name": "stdout",
     "output_type": "stream",
     "text": [
      "+--------------------+------------------+\n",
      "|        categoryName|      productSales|\n",
      "+--------------------+------------------+\n",
      "|             Fishing|134393.27999999968|\n",
      "|              Cleats|  85785.7000000001|\n",
      "|    Cardio Equipment| 81351.92999999996|\n",
      "|    Camping & Hiking| 80094.66000000027|\n",
      "|        Water Sports| 66196.68999999986|\n",
      "|     Women's Apparel|           65750.0|\n",
      "|      Men's Footwear| 60705.32999999982|\n",
      "|Indoor/Outdoor Games|58126.740000000005|\n",
      "|       Shop By Sport|27423.439999999973|\n",
      "|         Electronics|5685.4999999999945|\n",
      "|    Kids' Golf Clubs|           4448.65|\n",
      "|      Girls' Apparel|           4029.83|\n",
      "|          Golf Shoes|            2953.0|\n",
      "|         Accessories|2698.9199999999996|\n",
      "|          Golf Balls|            2283.7|\n",
      "| Baseball & Softball|           2164.56|\n",
      "|         Golf Gloves|           2054.38|\n",
      "|        Boxing & MMA|1824.3700000000001|\n",
      "|            Trade-In|1809.3600000000004|\n",
      "|              Hockey|           1072.99|\n",
      "+--------------------+------------------+\n",
      "only showing top 20 rows\n",
      "\n"
     ]
    },
    {
     "name": "stderr",
     "output_type": "stream",
     "text": [
      "                                                                                \r"
     ]
    }
   ],
   "source": [
    "cat_sales.show()"
   ]
  },
  {
   "cell_type": "code",
   "execution_count": 138,
   "id": "9700be18-0965-4d50-a963-17f30a408fa8",
   "metadata": {
    "tags": []
   },
   "outputs": [
    {
     "name": "stderr",
     "output_type": "stream",
     "text": [
      "                                                                                \r"
     ]
    }
   ],
   "source": [
    "cat_sales.write \\\n",
    ".format(\"parquet\") \\\n",
    ".mode(\"overwrite\") \\\n",
    ".save(\"hdfs://localhost:9000/user/train/datasets/sorted_cat.parquet\")"
   ]
  },
  {
   "cell_type": "code",
   "execution_count": null,
   "id": "d86184dc-e731-47ec-a2d7-89a6ad552321",
   "metadata": {},
   "outputs": [],
   "source": []
  },
  {
   "cell_type": "code",
   "execution_count": 109,
   "id": "a14adc99-15e5-4752-8a55-6500684067af",
   "metadata": {},
   "outputs": [],
   "source": [
    "date_sales = joined_data2.groupBy(\"orderDate\").agg({\"orderItemSubTotal\": \"sum\"})"
   ]
  },
  {
   "cell_type": "code",
   "execution_count": 110,
   "id": "72c6b70f-712b-42e1-9564-e194aec07367",
   "metadata": {
    "tags": []
   },
   "outputs": [
    {
     "data": {
      "text/html": [
       "<div>\n",
       "<style scoped>\n",
       "    .dataframe tbody tr th:only-of-type {\n",
       "        vertical-align: middle;\n",
       "    }\n",
       "\n",
       "    .dataframe tbody tr th {\n",
       "        vertical-align: top;\n",
       "    }\n",
       "\n",
       "    .dataframe thead th {\n",
       "        text-align: right;\n",
       "    }\n",
       "</style>\n",
       "<table border=\"1\" class=\"dataframe\">\n",
       "  <thead>\n",
       "    <tr style=\"text-align: right;\">\n",
       "      <th></th>\n",
       "      <th>orderDate</th>\n",
       "      <th>sum(orderItemSubTotal)</th>\n",
       "    </tr>\n",
       "  </thead>\n",
       "  <tbody>\n",
       "    <tr>\n",
       "      <th>0</th>\n",
       "      <td>2013-08-13 00:00:00.0</td>\n",
       "      <td>379.98</td>\n",
       "    </tr>\n",
       "    <tr>\n",
       "      <th>1</th>\n",
       "      <td>2013-11-15 00:00:00.0</td>\n",
       "      <td>2599.72</td>\n",
       "    </tr>\n",
       "    <tr>\n",
       "      <th>2</th>\n",
       "      <td>2014-03-19 00:00:00.0</td>\n",
       "      <td>1109.91</td>\n",
       "    </tr>\n",
       "  </tbody>\n",
       "</table>\n",
       "</div>"
      ],
      "text/plain": [
       "               orderDate  sum(orderItemSubTotal)\n",
       "0  2013-08-13 00:00:00.0                  379.98\n",
       "1  2013-11-15 00:00:00.0                 2599.72\n",
       "2  2014-03-19 00:00:00.0                 1109.91"
      ]
     },
     "execution_count": 110,
     "metadata": {},
     "output_type": "execute_result"
    }
   ],
   "source": [
    "date_sales.limit(3).toPandas()"
   ]
  },
  {
   "cell_type": "code",
   "execution_count": 107,
   "id": "44c5a9ef-512c-4207-ba00-a60d3ffc3a39",
   "metadata": {
    "tags": []
   },
   "outputs": [],
   "source": [
    "date_sales = date_sales.withColumn(\"orderDate\", split(col(\"orderDate\"), \" \").getItem(0))"
   ]
  },
  {
   "cell_type": "code",
   "execution_count": 123,
   "id": "391b4563-6f82-4c0f-a476-5efb4c4e5b1d",
   "metadata": {
    "tags": []
   },
   "outputs": [
    {
     "data": {
      "text/html": [
       "<div>\n",
       "<style scoped>\n",
       "    .dataframe tbody tr th:only-of-type {\n",
       "        vertical-align: middle;\n",
       "    }\n",
       "\n",
       "    .dataframe tbody tr th {\n",
       "        vertical-align: top;\n",
       "    }\n",
       "\n",
       "    .dataframe thead th {\n",
       "        text-align: right;\n",
       "    }\n",
       "</style>\n",
       "<table border=\"1\" class=\"dataframe\">\n",
       "  <thead>\n",
       "    <tr style=\"text-align: right;\">\n",
       "      <th></th>\n",
       "      <th>orderDate</th>\n",
       "      <th>sum(orderItemSubTotal)</th>\n",
       "    </tr>\n",
       "  </thead>\n",
       "  <tbody>\n",
       "    <tr>\n",
       "      <th>0</th>\n",
       "      <td>2013--08--13</td>\n",
       "      <td>379.98</td>\n",
       "    </tr>\n",
       "    <tr>\n",
       "      <th>1</th>\n",
       "      <td>2013--11--15</td>\n",
       "      <td>2599.72</td>\n",
       "    </tr>\n",
       "  </tbody>\n",
       "</table>\n",
       "</div>"
      ],
      "text/plain": [
       "      orderDate  sum(orderItemSubTotal)\n",
       "0  2013--08--13                  379.98\n",
       "1  2013--11--15                 2599.72"
      ]
     },
     "execution_count": 123,
     "metadata": {},
     "output_type": "execute_result"
    }
   ],
   "source": [
    "date_sales.limit(2).toPandas()"
   ]
  },
  {
   "cell_type": "code",
   "execution_count": 112,
   "id": "6f7cf4f8-fcd1-47b1-8df9-542861ba4046",
   "metadata": {
    "tags": []
   },
   "outputs": [],
   "source": [
    "date_sales = date_sales.withColumn(\"orderDate\", F.date_format(F.col(\"orderDate\"), 'yyyy--MM--dd'))"
   ]
  },
  {
   "cell_type": "code",
   "execution_count": 113,
   "id": "5fae7b7d-dadd-4aa9-bb96-a319ec7c14af",
   "metadata": {
    "tags": []
   },
   "outputs": [
    {
     "name": "stdout",
     "output_type": "stream",
     "text": [
      "+------------+----------------------+\n",
      "|   orderDate|sum(orderItemSubTotal)|\n",
      "+------------+----------------------+\n",
      "|2013--08--13|                379.98|\n",
      "|2013--11--15|    2599.7200000000003|\n",
      "|2014--03--19|               1109.91|\n",
      "|2014--04--26|                589.85|\n",
      "|2013--09--16|     4039.670000000001|\n",
      "|2013--09--20|               1749.73|\n",
      "|2013--12--31|    3672.5699999999997|\n",
      "|2013--09--06|     3159.640000000001|\n",
      "|2014--06--15|                149.94|\n",
      "|2013--12--24|    4009.5899999999992|\n",
      "|2014--01--07|                  50.0|\n",
      "|2014--06--07|               2479.59|\n",
      "|2013--10--14|               1549.75|\n",
      "|2014--01--29|                399.93|\n",
      "|2014--02--14|    1709.8600000000001|\n",
      "|2014--04--15|                969.85|\n",
      "|2014--06--27|    3924.4000000000005|\n",
      "|2013--09--07|                4224.6|\n",
      "|2014--04--28|                929.86|\n",
      "|2013--09--11|    1753.8600000000001|\n",
      "+------------+----------------------+\n",
      "only showing top 20 rows\n",
      "\n"
     ]
    }
   ],
   "source": [
    "date_sales.show()"
   ]
  },
  {
   "cell_type": "code",
   "execution_count": 135,
   "id": "ed846b7b-97d3-4028-9c97-cb985884a616",
   "metadata": {
    "tags": []
   },
   "outputs": [],
   "source": [
    "grouped_month= date_sales.withColumn(\"orderDate\", substring(col(\"orderDate\"), 1, 8))\n"
   ]
  },
  {
   "cell_type": "code",
   "execution_count": 136,
   "id": "3afd123d-f4d7-44b8-8cdf-c66bb2b258fe",
   "metadata": {
    "tags": []
   },
   "outputs": [
    {
     "name": "stdout",
     "output_type": "stream",
     "text": [
      "+---------+----------------------+\n",
      "|orderDate|sum(orderItemSubTotal)|\n",
      "+---------+----------------------+\n",
      "| 2013--08|                379.98|\n",
      "| 2013--11|    2599.7200000000003|\n",
      "| 2014--03|               1109.91|\n",
      "| 2014--04|                589.85|\n",
      "| 2013--09|     4039.670000000001|\n",
      "| 2013--09|               1749.73|\n",
      "| 2013--12|    3672.5699999999997|\n",
      "| 2013--09|     3159.640000000001|\n",
      "| 2014--06|                149.94|\n",
      "| 2013--12|    4009.5899999999992|\n",
      "| 2014--01|                  50.0|\n",
      "| 2014--06|               2479.59|\n",
      "| 2013--10|               1549.75|\n",
      "| 2014--01|                399.93|\n",
      "| 2014--02|    1709.8600000000001|\n",
      "| 2014--04|                969.85|\n",
      "| 2014--06|    3924.4000000000005|\n",
      "| 2013--09|                4224.6|\n",
      "| 2014--04|                929.86|\n",
      "| 2013--09|    1753.8600000000001|\n",
      "+---------+----------------------+\n",
      "only showing top 20 rows\n",
      "\n"
     ]
    },
    {
     "name": "stderr",
     "output_type": "stream",
     "text": [
      "                                                                                \r"
     ]
    }
   ],
   "source": [
    "grouped_month.show()"
   ]
  },
  {
   "cell_type": "code",
   "execution_count": 140,
   "id": "ca703885-56da-4555-88bf-f2a23a70bbe5",
   "metadata": {
    "tags": []
   },
   "outputs": [],
   "source": [
    "grouped_month = grouped_month.groupBy(\"orderDate\").agg(sum(\"sum(orderItemSubTotal)\").alias(\"total_price\"))"
   ]
  },
  {
   "cell_type": "code",
   "execution_count": 144,
   "id": "7864a37b-fa0c-4cfb-b046-1c836463dfb5",
   "metadata": {
    "tags": []
   },
   "outputs": [],
   "source": [
    "grouped_month_sorted = grouped_month.orderBy(desc(\"total_price\"))"
   ]
  },
  {
   "cell_type": "code",
   "execution_count": 145,
   "id": "13671ae4-03ed-4809-a2f0-852737aff839",
   "metadata": {
    "tags": []
   },
   "outputs": [
    {
     "name": "stderr",
     "output_type": "stream",
     "text": [
      "[Stage 441:======================================>              (147 + 3) / 200]\r"
     ]
    },
    {
     "name": "stdout",
     "output_type": "stream",
     "text": [
      "+---------+------------------+\n",
      "|orderDate|       total_price|\n",
      "+---------+------------------+\n",
      "| 2013--09| 67973.93999999999|\n",
      "| 2014--02| 65825.07999999999|\n",
      "| 2013--12| 62966.39000000001|\n",
      "| 2013--11| 62812.75999999999|\n",
      "| 2013--08|59422.670000000006|\n",
      "| 2014--03|          57485.89|\n",
      "| 2014--05| 57378.73999999999|\n",
      "| 2014--01|          53612.83|\n",
      "| 2014--07| 52317.61000000001|\n",
      "| 2013--10| 51024.94000000002|\n",
      "| 2014--04| 48877.33000000001|\n",
      "| 2014--06| 46450.40000000001|\n",
      "| 2013--07|           9882.41|\n",
      "+---------+------------------+\n",
      "\n"
     ]
    },
    {
     "name": "stderr",
     "output_type": "stream",
     "text": [
      "                                                                                \r"
     ]
    }
   ],
   "source": [
    "grouped_month_sorted.show()"
   ]
  },
  {
   "cell_type": "code",
   "execution_count": 179,
   "id": "a6f086b2-cbd4-4904-b7a9-cfd5b8addc08",
   "metadata": {
    "tags": []
   },
   "outputs": [],
   "source": [
    "result1 = grouped_month_sorted.withColumn(\"orderDate\", substring(col(\"orderDate\"), 1, 4))\n"
   ]
  },
  {
   "cell_type": "code",
   "execution_count": 180,
   "id": "773dae1d-c207-40c0-afac-a2152eadfefc",
   "metadata": {
    "tags": []
   },
   "outputs": [
    {
     "name": "stderr",
     "output_type": "stream",
     "text": [
      "                                                                                \r"
     ]
    },
    {
     "data": {
      "text/plain": [
       "'2013'"
      ]
     },
     "execution_count": 180,
     "metadata": {},
     "output_type": "execute_result"
    }
   ],
   "source": [
    "result1.first()['orderDate']"
   ]
  },
  {
   "cell_type": "code",
   "execution_count": 175,
   "id": "355e4df1-37ca-42d7-a460-60d588e91a39",
   "metadata": {
    "tags": []
   },
   "outputs": [],
   "source": [
    "result2 = grouped_month_sorted.withColumn(\"orderDate\", substring(col(\"orderDate\"), 7, 9))\n"
   ]
  },
  {
   "cell_type": "code",
   "execution_count": 176,
   "id": "6ecf6888-45c5-445b-9e65-950f09fc3f3b",
   "metadata": {
    "tags": []
   },
   "outputs": [
    {
     "name": "stderr",
     "output_type": "stream",
     "text": [
      "                                                                                \r"
     ]
    },
    {
     "data": {
      "text/plain": [
       "'09'"
      ]
     },
     "execution_count": 176,
     "metadata": {},
     "output_type": "execute_result"
    }
   ],
   "source": [
    "result2.first()['orderDate']"
   ]
  },
  {
   "cell_type": "code",
   "execution_count": 184,
   "id": "0f5957a0-cb93-49be-95b6-faaf80749546",
   "metadata": {
    "tags": []
   },
   "outputs": [
    {
     "name": "stderr",
     "output_type": "stream",
     "text": [
      "                                                                                \r"
     ]
    },
    {
     "data": {
      "text/plain": [
       "'En yüksek toplam satış 2013. yılın 09. ayında olmuştur'"
      ]
     },
     "execution_count": 184,
     "metadata": {},
     "output_type": "execute_result"
    }
   ],
   "source": [
    "'En yüksek toplam satış '+ (result1.first()['orderDate']) +'. yılın ' +  (result2.first()['orderDate']) +'. ayında olmuştur'"
   ]
  },
  {
   "cell_type": "markdown",
   "id": "c37ecb80-b3ec-401d-99ef-f710866caac4",
   "metadata": {},
   "source": [
    "### 1.6"
   ]
  },
  {
   "cell_type": "code",
   "execution_count": 236,
   "id": "cda67df0-43d0-4cdf-8057-f2c369774ddf",
   "metadata": {
    "tags": []
   },
   "outputs": [
    {
     "name": "stderr",
     "output_type": "stream",
     "text": [
      "                                                                                \r"
     ]
    },
    {
     "name": "stdout",
     "output_type": "stream",
     "text": [
      "+------------+----------------------+\n",
      "|   orderDate|sum(orderItemSubTotal)|\n",
      "+------------+----------------------+\n",
      "|2013--08--13|                379.98|\n",
      "|2013--11--15|    2599.7200000000003|\n",
      "|2014--03--19|               1109.91|\n",
      "|2014--04--26|                589.85|\n",
      "|2013--09--16|     4039.670000000001|\n",
      "|2013--09--20|               1749.73|\n",
      "|2013--12--31|    3672.5699999999997|\n",
      "|2013--09--06|     3159.640000000001|\n",
      "|2014--06--15|                149.94|\n",
      "|2013--12--24|    4009.5899999999992|\n",
      "|2014--01--07|                  50.0|\n",
      "|2014--06--07|               2479.59|\n",
      "|2013--10--14|               1549.75|\n",
      "|2014--01--29|                399.93|\n",
      "|2014--02--14|    1709.8600000000001|\n",
      "|2014--04--15|                969.85|\n",
      "|2014--06--27|    3924.4000000000005|\n",
      "|2013--09--07|                4224.6|\n",
      "|2014--04--28|                929.86|\n",
      "|2013--09--11|    1753.8600000000001|\n",
      "+------------+----------------------+\n",
      "only showing top 20 rows\n",
      "\n"
     ]
    }
   ],
   "source": [
    "date_sales.show()"
   ]
  },
  {
   "cell_type": "code",
   "execution_count": 246,
   "id": "ed2721bb-93ee-4eb0-96e7-de27ce895cf5",
   "metadata": {
    "tags": []
   },
   "outputs": [],
   "source": [
    "date_sales_week = date_sales.select(col(\"sum(orderItemSubTotal)\"),to_date(col(\"orderDate\"),\"yyyy--MM--dd\").alias(\"date\"))"
   ]
  },
  {
   "cell_type": "code",
   "execution_count": 247,
   "id": "0484392c-b3fa-4412-b6c0-ad59eb917372",
   "metadata": {
    "tags": []
   },
   "outputs": [],
   "source": [
    "date_sales_week=date_sales_week.withColumnRenamed(\"sum(orderItemSubTotal)\",\"total_price\")"
   ]
  },
  {
   "cell_type": "code",
   "execution_count": 248,
   "id": "401f9eb3-8cf8-4f33-8af8-c17c3aabb8e6",
   "metadata": {
    "tags": []
   },
   "outputs": [],
   "source": [
    "date_sales_week = date_sales_week.orderBy(desc(\"total_price\"))"
   ]
  },
  {
   "cell_type": "code",
   "execution_count": 252,
   "id": "3c7a20c5-5ddf-4d45-b286-8ffd81d1c83a",
   "metadata": {
    "tags": []
   },
   "outputs": [],
   "source": [
    "def turkish_day(date):\n",
    "    turkish_days = [\"Pazartesi\", \"Salı\", \"Çarşamba\", \"Perşembe\", \"Cuma\", \"Cumartesi\", \"Pazar\"]\n",
    "    day_of_week = datetime.strptime(str(date), \"%Y-%m-%d\").strftime(\"%A\")\n",
    "    return turkish_days[datetime.strptime(day_of_week, \"%A\").weekday()]"
   ]
  },
  {
   "cell_type": "code",
   "execution_count": 255,
   "id": "86494738-6ef2-47a0-96c6-8313efeeb872",
   "metadata": {
    "tags": []
   },
   "outputs": [],
   "source": [
    "turkish_day_udf = udf(turkish_day, StringType())"
   ]
  },
  {
   "cell_type": "code",
   "execution_count": 256,
   "id": "ab6fe113-e366-401d-903d-ff9bcd0df386",
   "metadata": {
    "tags": []
   },
   "outputs": [],
   "source": []
  },
  {
   "cell_type": "code",
   "execution_count": 244,
   "id": "16f80ada-9a47-43ee-9497-a54faad776f7",
   "metadata": {
    "tags": []
   },
   "outputs": [],
   "source": [
    "date_sales_week = date_sales_week.withColumn(\"gun\", turkish_day_udf(\"date\"))"
   ]
  },
  {
   "cell_type": "code",
   "execution_count": 258,
   "id": "d89ebd1f-19d7-4be2-9218-842c4f3434b7",
   "metadata": {
    "tags": []
   },
   "outputs": [
    {
     "name": "stderr",
     "output_type": "stream",
     "text": [
      "                                                                                \r"
     ]
    },
    {
     "data": {
      "text/plain": [
       "Row(total_price=8249.21, date=datetime.date(2014, 5, 9), gun='Pazartesi')"
      ]
     },
     "execution_count": 258,
     "metadata": {},
     "output_type": "execute_result"
    }
   ],
   "source": [
    "date_sales_week.first()"
   ]
  },
  {
   "cell_type": "markdown",
   "id": "b6422192-302d-415b-a22e-dc2445800740",
   "metadata": {},
   "source": [
    "1.7"
   ]
  },
  {
   "cell_type": "code",
   "execution_count": null,
   "id": "e8e991a9-f58a-456a-a628-bb0748d3c732",
   "metadata": {},
   "outputs": [],
   "source": []
  }
 ],
 "metadata": {
  "kernelspec": {
   "display_name": "Python 3 (ipykernel)",
   "language": "python",
   "name": "python3"
  },
  "language_info": {
   "codemirror_mode": {
    "name": "ipython",
    "version": 3
   },
   "file_extension": ".py",
   "mimetype": "text/x-python",
   "name": "python",
   "nbconvert_exporter": "python",
   "pygments_lexer": "ipython3",
   "version": "3.8.12"
  }
 },
 "nbformat": 4,
 "nbformat_minor": 5
}
