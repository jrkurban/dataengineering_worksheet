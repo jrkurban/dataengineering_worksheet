{
 "cells": [
  {
   "cell_type": "code",
   "execution_count": 1,
   "metadata": {},
   "outputs": [],
   "source": [
    "import findspark\n",
    "findspark.init(\"/opt/manual/spark\")\n",
    "from pyspark.sql import SparkSession\n",
    "from pyspark.sql.types import *\n",
    "from pyspark.sql import functions as F"
   ]
  },
  {
   "cell_type": "code",
   "execution_count": 2,
   "metadata": {},
   "outputs": [],
   "source": [
    "spark = SparkSession \\\n",
    ".builder \\\n",
    ".master(\"local[2]\") \\\n",
    ".appName(\"PySpark Dataframe Homework\") \\\n",
    ".config(\"spark.executer.memory\",\"2g\") \\\n",
    ".config(\"spark.driver.memory\",\"1g\") \\\n",
    ".enableHiveSupport() \\\n",
    ".getOrCreate()\n",
    "\n",
    "# .config(\"spark.storage.memoryFraction\",\"0.1\") \\\n",
    "# .config(\"park.shuffle.memoryFraction\",\"0.0\") \\"
   ]
  },
  {
   "cell_type": "code",
   "execution_count": 3,
   "metadata": {},
   "outputs": [
    {
     "data": {
      "text/plain": [
       "'3.1.1'"
      ]
     },
     "execution_count": 3,
     "metadata": {},
     "output_type": "execute_result"
    }
   ],
   "source": [
    "spark.version"
   ]
  },
  {
   "cell_type": "code",
   "execution_count": 4,
   "metadata": {},
   "outputs": [],
   "source": [
    "data_path = \"file:///home/train/datasets/retail_db\"\n",
    "output_path = \"file:///home/train/pyspark_output_data\""
   ]
  },
  {
   "cell_type": "code",
   "execution_count": 5,
   "metadata": {},
   "outputs": [
    {
     "name": "stdout",
     "output_type": "stream",
     "text": [
      "+----------+--------------------+-------------------+\n",
      "|categoryId|categoryDepartmentId|       categoryName|\n",
      "+----------+--------------------+-------------------+\n",
      "|         1|                   2|           Football|\n",
      "|         2|                   2|             Soccer|\n",
      "|         3|                   2|Baseball & Softball|\n",
      "+----------+--------------------+-------------------+\n",
      "only showing top 3 rows\n",
      "\n"
     ]
    }
   ],
   "source": [
    "categories = spark.read.option(\"inferSchema\",True).csv(data_path+\"/categories.csv\", header=True)\n",
    "categories.show(3)"
   ]
  },
  {
   "cell_type": "code",
   "execution_count": 6,
   "metadata": {},
   "outputs": [
    {
     "name": "stdout",
     "output_type": "stream",
     "text": [
      "root\n",
      " |-- categoryId: integer (nullable = true)\n",
      " |-- categoryDepartmentId: integer (nullable = true)\n",
      " |-- categoryName: string (nullable = true)\n",
      "\n"
     ]
    }
   ],
   "source": [
    "categories.printSchema()"
   ]
  },
  {
   "cell_type": "code",
   "execution_count": 7,
   "metadata": {},
   "outputs": [
    {
     "name": "stdout",
     "output_type": "stream",
     "text": [
      "+------------+--------------+\n",
      "|departmentId|departmentName|\n",
      "+------------+--------------+\n",
      "|           2|       Fitness|\n",
      "|           3|      Footwear|\n",
      "|           4|       Apparel|\n",
      "+------------+--------------+\n",
      "only showing top 3 rows\n",
      "\n"
     ]
    }
   ],
   "source": [
    "departments = spark.read.option(\"inferSchema\",True).csv(data_path+\"/departments.csv\", header=True)\n",
    "departments.show(3)"
   ]
  },
  {
   "cell_type": "code",
   "execution_count": 8,
   "metadata": {},
   "outputs": [
    {
     "name": "stdout",
     "output_type": "stream",
     "text": [
      "root\n",
      " |-- departmentId: integer (nullable = true)\n",
      " |-- departmentName: string (nullable = true)\n",
      "\n"
     ]
    }
   ],
   "source": [
    "departments.printSchema()"
   ]
  },
  {
   "cell_type": "code",
   "execution_count": 9,
   "metadata": {},
   "outputs": [
    {
     "name": "stdout",
     "output_type": "stream",
     "text": [
      "+---------+-----------------+--------------------+------------------+------------+--------------------+\n",
      "|productId|productCategoryId|         productName|productDescription|productPrice|        productImage|\n",
      "+---------+-----------------+--------------------+------------------+------------+--------------------+\n",
      "|        1|                2|Quest Q64 10 FT. ...|              null|       59.98|http://images.acm...|\n",
      "|        2|                2|Under Armour Men'...|              null|      129.99|http://images.acm...|\n",
      "|        3|                2|Under Armour Men'...|              null|       89.99|http://images.acm...|\n",
      "+---------+-----------------+--------------------+------------------+------------+--------------------+\n",
      "only showing top 3 rows\n",
      "\n"
     ]
    }
   ],
   "source": [
    "products = spark.read.option(\"inferSchema\",True).csv(data_path+\"/products.csv\", header=True)\n",
    "products.show(3)"
   ]
  },
  {
   "cell_type": "code",
   "execution_count": 10,
   "metadata": {},
   "outputs": [
    {
     "name": "stdout",
     "output_type": "stream",
     "text": [
      "root\n",
      " |-- productId: integer (nullable = true)\n",
      " |-- productCategoryId: integer (nullable = true)\n",
      " |-- productName: string (nullable = true)\n",
      " |-- productDescription: string (nullable = true)\n",
      " |-- productPrice: double (nullable = true)\n",
      " |-- productImage: string (nullable = true)\n",
      "\n"
     ]
    }
   ],
   "source": [
    "products.printSchema()"
   ]
  },
  {
   "cell_type": "code",
   "execution_count": 11,
   "metadata": {},
   "outputs": [
    {
     "data": {
      "text/html": [
       "<div>\n",
       "<style scoped>\n",
       "    .dataframe tbody tr th:only-of-type {\n",
       "        vertical-align: middle;\n",
       "    }\n",
       "\n",
       "    .dataframe tbody tr th {\n",
       "        vertical-align: top;\n",
       "    }\n",
       "\n",
       "    .dataframe thead th {\n",
       "        text-align: right;\n",
       "    }\n",
       "</style>\n",
       "<table border=\"1\" class=\"dataframe\">\n",
       "  <thead>\n",
       "    <tr style=\"text-align: right;\">\n",
       "      <th></th>\n",
       "      <th>customerId</th>\n",
       "      <th>customerFName</th>\n",
       "      <th>customerLName</th>\n",
       "      <th>customerEmail</th>\n",
       "      <th>customerPassword</th>\n",
       "      <th>customerStreet</th>\n",
       "      <th>customerCity</th>\n",
       "      <th>customerState</th>\n",
       "      <th>customerZipcode</th>\n",
       "    </tr>\n",
       "  </thead>\n",
       "  <tbody>\n",
       "    <tr>\n",
       "      <th>0</th>\n",
       "      <td>1</td>\n",
       "      <td>Richard</td>\n",
       "      <td>Hernandez</td>\n",
       "      <td>XXXXXXXXX</td>\n",
       "      <td>XXXXXXXXX</td>\n",
       "      <td>6303 Heather Plaza</td>\n",
       "      <td>Brownsville</td>\n",
       "      <td>TX</td>\n",
       "      <td>78521</td>\n",
       "    </tr>\n",
       "    <tr>\n",
       "      <th>1</th>\n",
       "      <td>2</td>\n",
       "      <td>Mary</td>\n",
       "      <td>Barrett</td>\n",
       "      <td>XXXXXXXXX</td>\n",
       "      <td>XXXXXXXXX</td>\n",
       "      <td>9526 Noble Embers Ridge</td>\n",
       "      <td>Littleton</td>\n",
       "      <td>CO</td>\n",
       "      <td>80126</td>\n",
       "    </tr>\n",
       "    <tr>\n",
       "      <th>2</th>\n",
       "      <td>3</td>\n",
       "      <td>Ann</td>\n",
       "      <td>Smith</td>\n",
       "      <td>XXXXXXXXX</td>\n",
       "      <td>XXXXXXXXX</td>\n",
       "      <td>3422 Blue Pioneer Bend</td>\n",
       "      <td>Caguas</td>\n",
       "      <td>PR</td>\n",
       "      <td>725</td>\n",
       "    </tr>\n",
       "  </tbody>\n",
       "</table>\n",
       "</div>"
      ],
      "text/plain": [
       "   customerId customerFName customerLName customerEmail customerPassword  \\\n",
       "0           1       Richard     Hernandez     XXXXXXXXX        XXXXXXXXX   \n",
       "1           2          Mary       Barrett     XXXXXXXXX        XXXXXXXXX   \n",
       "2           3           Ann         Smith     XXXXXXXXX        XXXXXXXXX   \n",
       "\n",
       "            customerStreet customerCity customerState  customerZipcode  \n",
       "0       6303 Heather Plaza  Brownsville            TX            78521  \n",
       "1  9526 Noble Embers Ridge    Littleton            CO            80126  \n",
       "2   3422 Blue Pioneer Bend       Caguas            PR              725  "
      ]
     },
     "execution_count": 11,
     "metadata": {},
     "output_type": "execute_result"
    }
   ],
   "source": [
    "customers = spark.read.option(\"inferSchema\",True).csv(data_path+\"/customers.csv\", header=True)\n",
    "customers.limit(3).toPandas()"
   ]
  },
  {
   "cell_type": "code",
   "execution_count": 12,
   "metadata": {},
   "outputs": [
    {
     "name": "stdout",
     "output_type": "stream",
     "text": [
      "root\n",
      " |-- customerId: integer (nullable = true)\n",
      " |-- customerFName: string (nullable = true)\n",
      " |-- customerLName: string (nullable = true)\n",
      " |-- customerEmail: string (nullable = true)\n",
      " |-- customerPassword: string (nullable = true)\n",
      " |-- customerStreet: string (nullable = true)\n",
      " |-- customerCity: string (nullable = true)\n",
      " |-- customerState: string (nullable = true)\n",
      " |-- customerZipcode: integer (nullable = true)\n",
      "\n"
     ]
    }
   ],
   "source": [
    "customers.printSchema()"
   ]
  },
  {
   "cell_type": "code",
   "execution_count": 13,
   "metadata": {},
   "outputs": [
    {
     "name": "stdout",
     "output_type": "stream",
     "text": [
      "+-------+--------------------+---------------+---------------+\n",
      "|orderId|           orderDate|orderCustomerId|    orderStatus|\n",
      "+-------+--------------------+---------------+---------------+\n",
      "|      1|2013-07-25 00:00:...|          11599|         CLOSED|\n",
      "|      2|2013-07-25 00:00:...|            256|PENDING_PAYMENT|\n",
      "|      3|2013-07-25 00:00:...|          12111|       COMPLETE|\n",
      "+-------+--------------------+---------------+---------------+\n",
      "only showing top 3 rows\n",
      "\n"
     ]
    }
   ],
   "source": [
    "orders = spark.read.option(\"inferSchema\",True).csv(data_path+\"/orders.csv\", header=True)\n",
    "orders.show(3)"
   ]
  },
  {
   "cell_type": "code",
   "execution_count": 14,
   "metadata": {},
   "outputs": [
    {
     "name": "stdout",
     "output_type": "stream",
     "text": [
      "root\n",
      " |-- orderId: integer (nullable = true)\n",
      " |-- orderDate: string (nullable = true)\n",
      " |-- orderCustomerId: integer (nullable = true)\n",
      " |-- orderStatus: string (nullable = true)\n",
      "\n"
     ]
    }
   ],
   "source": [
    "orders.printSchema()"
   ]
  },
  {
   "cell_type": "code",
   "execution_count": 15,
   "metadata": {},
   "outputs": [
    {
     "name": "stdout",
     "output_type": "stream",
     "text": [
      "+-------------+----------------+------------------+-----------------+-----------------+---------------------+\n",
      "|orderItemName|orderItemOrderId|orderItemProductId|orderItemQuantity|orderItemSubTotal|orderItemProductPrice|\n",
      "+-------------+----------------+------------------+-----------------+-----------------+---------------------+\n",
      "|            1|               1|               957|                1|           299.98|               299.98|\n",
      "|            2|               2|              1073|                1|           199.99|               199.99|\n",
      "|            3|               2|               502|                5|            250.0|                 50.0|\n",
      "+-------------+----------------+------------------+-----------------+-----------------+---------------------+\n",
      "only showing top 3 rows\n",
      "\n"
     ]
    }
   ],
   "source": [
    "order_items = spark.read.option(\"inferSchema\",True).csv(data_path+\"/order_items.csv\", header=True)\n",
    "order_items.show(3)"
   ]
  },
  {
   "cell_type": "code",
   "execution_count": 16,
   "metadata": {},
   "outputs": [
    {
     "name": "stdout",
     "output_type": "stream",
     "text": [
      "root\n",
      " |-- orderItemName: integer (nullable = true)\n",
      " |-- orderItemOrderId: integer (nullable = true)\n",
      " |-- orderItemProductId: integer (nullable = true)\n",
      " |-- orderItemQuantity: integer (nullable = true)\n",
      " |-- orderItemSubTotal: double (nullable = true)\n",
      " |-- orderItemProductPrice: double (nullable = true)\n",
      "\n"
     ]
    }
   ],
   "source": [
    "order_items.printSchema()"
   ]
  },
  {
   "cell_type": "markdown",
   "metadata": {},
   "source": [
    "# CEVAPLAR"
   ]
  },
  {
   "cell_type": "markdown",
   "metadata": {},
   "source": [
    "# 1.1. `order_items` tablosunda kaç tane tekil `orderItemOrderId` vardır sayısını bulunuz."
   ]
  },
  {
   "cell_type": "code",
   "execution_count": 17,
   "metadata": {},
   "outputs": [
    {
     "data": {
      "text/plain": [
       "57431"
      ]
     },
     "execution_count": 17,
     "metadata": {},
     "output_type": "execute_result"
    }
   ],
   "source": [
    "order_items.select(\"orderItemOrderId\").distinct().count()"
   ]
  },
  {
   "cell_type": "markdown",
   "metadata": {},
   "source": [
    "# 1.2. `orders` ve `order_items` tablolarında kaç satır vardır bulunuz."
   ]
  },
  {
   "cell_type": "code",
   "execution_count": 18,
   "metadata": {},
   "outputs": [
    {
     "data": {
      "text/plain": [
       "68883"
      ]
     },
     "execution_count": 18,
     "metadata": {},
     "output_type": "execute_result"
    }
   ],
   "source": [
    "orders.count()"
   ]
  },
  {
   "cell_type": "code",
   "execution_count": 19,
   "metadata": {},
   "outputs": [
    {
     "data": {
      "text/plain": [
       "172198"
      ]
     },
     "execution_count": 19,
     "metadata": {},
     "output_type": "execute_result"
    }
   ],
   "source": [
    "order_items.count()"
   ]
  },
  {
   "cell_type": "code",
   "execution_count": null,
   "metadata": {},
   "outputs": [],
   "source": []
  },
  {
   "cell_type": "markdown",
   "metadata": {},
   "source": [
    "# # 1.3. Toplam satış tutarı bakımından en çok iptal edilen (azalan sıra) ürünleri lokal diske `parquet` formatında yazınız."
   ]
  },
  {
   "cell_type": "code",
   "execution_count": 20,
   "metadata": {},
   "outputs": [],
   "source": [
    "# Yukarıdaki rakamlardan orders'ın siparişler olduğunu ve her siparişte birden fazla ürün olduğu için \n",
    "# hangi siparişten hangi ürünlerin bulunduğunu order_items tablosundan anlıyoruz. \n",
    "# Şimdi bizden istenen iş en çok iptal edilen ürün ve kategorileri bulmak olduğu için öncelikle siparişler\n",
    "# ile sipariş detaylarını birleştirmeliyiz. \n",
    "# Daha sonra bu birleşimden iptal olan siparişleri filtrelemeliyiz."
   ]
  },
  {
   "cell_type": "markdown",
   "metadata": {},
   "source": [
    "# Joins"
   ]
  },
  {
   "cell_type": "code",
   "execution_count": 21,
   "metadata": {
    "scrolled": true
   },
   "outputs": [
    {
     "data": {
      "text/html": [
       "<div>\n",
       "<style scoped>\n",
       "    .dataframe tbody tr th:only-of-type {\n",
       "        vertical-align: middle;\n",
       "    }\n",
       "\n",
       "    .dataframe tbody tr th {\n",
       "        vertical-align: top;\n",
       "    }\n",
       "\n",
       "    .dataframe thead th {\n",
       "        text-align: right;\n",
       "    }\n",
       "</style>\n",
       "<table border=\"1\" class=\"dataframe\">\n",
       "  <thead>\n",
       "    <tr style=\"text-align: right;\">\n",
       "      <th></th>\n",
       "      <th>productId</th>\n",
       "      <th>productName</th>\n",
       "      <th>categoryName</th>\n",
       "    </tr>\n",
       "  </thead>\n",
       "  <tbody>\n",
       "    <tr>\n",
       "      <th>0</th>\n",
       "      <td>1</td>\n",
       "      <td>Quest Q64 10 FT. x 10 FT. Slant Leg Instant U</td>\n",
       "      <td>Soccer</td>\n",
       "    </tr>\n",
       "    <tr>\n",
       "      <th>1</th>\n",
       "      <td>2</td>\n",
       "      <td>Under Armour Men's Highlight MC Football Clea</td>\n",
       "      <td>Soccer</td>\n",
       "    </tr>\n",
       "    <tr>\n",
       "      <th>2</th>\n",
       "      <td>3</td>\n",
       "      <td>Under Armour Men's Renegade D Mid Football Cl</td>\n",
       "      <td>Soccer</td>\n",
       "    </tr>\n",
       "    <tr>\n",
       "      <th>3</th>\n",
       "      <td>4</td>\n",
       "      <td>Under Armour Men's Renegade D Mid Football Cl</td>\n",
       "      <td>Soccer</td>\n",
       "    </tr>\n",
       "    <tr>\n",
       "      <th>4</th>\n",
       "      <td>5</td>\n",
       "      <td>Riddell Youth Revolution Speed Custom Footbal</td>\n",
       "      <td>Soccer</td>\n",
       "    </tr>\n",
       "  </tbody>\n",
       "</table>\n",
       "</div>"
      ],
      "text/plain": [
       "   productId                                    productName categoryName\n",
       "0          1  Quest Q64 10 FT. x 10 FT. Slant Leg Instant U       Soccer\n",
       "1          2  Under Armour Men's Highlight MC Football Clea       Soccer\n",
       "2          3  Under Armour Men's Renegade D Mid Football Cl       Soccer\n",
       "3          4  Under Armour Men's Renegade D Mid Football Cl       Soccer\n",
       "4          5  Riddell Youth Revolution Speed Custom Footbal       Soccer"
      ]
     },
     "execution_count": 21,
     "metadata": {},
     "output_type": "execute_result"
    }
   ],
   "source": [
    "# Products ve Categories birleştirme. Sadece ihtiyacımız olanları seçiyoruz.\n",
    "cat_products = products.join(categories, products['productCategoryId'] == categories['categoryId']) \\\n",
    ".select(\"productId\",\"productName\", \"categoryName\")\n",
    "cat_products.limit(5).toPandas().head()"
   ]
  },
  {
   "cell_type": "code",
   "execution_count": 22,
   "metadata": {},
   "outputs": [
    {
     "data": {
      "text/html": [
       "<div>\n",
       "<style scoped>\n",
       "    .dataframe tbody tr th:only-of-type {\n",
       "        vertical-align: middle;\n",
       "    }\n",
       "\n",
       "    .dataframe tbody tr th {\n",
       "        vertical-align: top;\n",
       "    }\n",
       "\n",
       "    .dataframe thead th {\n",
       "        text-align: right;\n",
       "    }\n",
       "</style>\n",
       "<table border=\"1\" class=\"dataframe\">\n",
       "  <thead>\n",
       "    <tr style=\"text-align: right;\">\n",
       "      <th></th>\n",
       "      <th>orderId</th>\n",
       "      <th>orderItemProductId</th>\n",
       "      <th>orderItemSubTotal</th>\n",
       "      <th>orderStatus</th>\n",
       "    </tr>\n",
       "  </thead>\n",
       "  <tbody>\n",
       "    <tr>\n",
       "      <th>0</th>\n",
       "      <td>1</td>\n",
       "      <td>957</td>\n",
       "      <td>299.98</td>\n",
       "      <td>CLOSED</td>\n",
       "    </tr>\n",
       "    <tr>\n",
       "      <th>1</th>\n",
       "      <td>2</td>\n",
       "      <td>1073</td>\n",
       "      <td>199.99</td>\n",
       "      <td>PENDING_PAYMENT</td>\n",
       "    </tr>\n",
       "    <tr>\n",
       "      <th>2</th>\n",
       "      <td>2</td>\n",
       "      <td>502</td>\n",
       "      <td>250.00</td>\n",
       "      <td>PENDING_PAYMENT</td>\n",
       "    </tr>\n",
       "    <tr>\n",
       "      <th>3</th>\n",
       "      <td>2</td>\n",
       "      <td>403</td>\n",
       "      <td>129.99</td>\n",
       "      <td>PENDING_PAYMENT</td>\n",
       "    </tr>\n",
       "    <tr>\n",
       "      <th>4</th>\n",
       "      <td>4</td>\n",
       "      <td>897</td>\n",
       "      <td>49.98</td>\n",
       "      <td>CLOSED</td>\n",
       "    </tr>\n",
       "  </tbody>\n",
       "</table>\n",
       "</div>"
      ],
      "text/plain": [
       "   orderId  orderItemProductId  orderItemSubTotal      orderStatus\n",
       "0        1                 957             299.98           CLOSED\n",
       "1        2                1073             199.99  PENDING_PAYMENT\n",
       "2        2                 502             250.00  PENDING_PAYMENT\n",
       "3        2                 403             129.99  PENDING_PAYMENT\n",
       "4        4                 897              49.98           CLOSED"
      ]
     },
     "execution_count": 22,
     "metadata": {},
     "output_type": "execute_result"
    }
   ],
   "source": [
    "# orders ve order_items birleştirme\n",
    "orders_and_items = order_items.join(orders, order_items['orderItemOrderId'] == orders['orderId']) \\\n",
    ".select(\"orderId\",\"orderItemProductId\",\"orderItemSubTotal\",\"orderStatus\")\n",
    "orders_and_items.limit(5).toPandas().head()"
   ]
  },
  {
   "cell_type": "code",
   "execution_count": 23,
   "metadata": {},
   "outputs": [
    {
     "data": {
      "text/html": [
       "<div>\n",
       "<style scoped>\n",
       "    .dataframe tbody tr th:only-of-type {\n",
       "        vertical-align: middle;\n",
       "    }\n",
       "\n",
       "    .dataframe tbody tr th {\n",
       "        vertical-align: top;\n",
       "    }\n",
       "\n",
       "    .dataframe thead th {\n",
       "        text-align: right;\n",
       "    }\n",
       "</style>\n",
       "<table border=\"1\" class=\"dataframe\">\n",
       "  <thead>\n",
       "    <tr style=\"text-align: right;\">\n",
       "      <th></th>\n",
       "      <th>orderId</th>\n",
       "      <th>orderItemProductId</th>\n",
       "      <th>orderItemSubTotal</th>\n",
       "      <th>orderStatus</th>\n",
       "      <th>productId</th>\n",
       "      <th>productName</th>\n",
       "      <th>categoryName</th>\n",
       "    </tr>\n",
       "  </thead>\n",
       "  <tbody>\n",
       "    <tr>\n",
       "      <th>0</th>\n",
       "      <td>57760</td>\n",
       "      <td>858</td>\n",
       "      <td>199.99</td>\n",
       "      <td>PENDING_PAYMENT</td>\n",
       "      <td>858</td>\n",
       "      <td>GolfBuddy VT3 GPS Watch</td>\n",
       "      <td>Kids' Golf Clubs</td>\n",
       "    </tr>\n",
       "    <tr>\n",
       "      <th>1</th>\n",
       "      <td>57847</td>\n",
       "      <td>858</td>\n",
       "      <td>199.99</td>\n",
       "      <td>COMPLETE</td>\n",
       "      <td>858</td>\n",
       "      <td>GolfBuddy VT3 GPS Watch</td>\n",
       "      <td>Kids' Golf Clubs</td>\n",
       "    </tr>\n",
       "    <tr>\n",
       "      <th>2</th>\n",
       "      <td>58071</td>\n",
       "      <td>858</td>\n",
       "      <td>199.99</td>\n",
       "      <td>PENDING</td>\n",
       "      <td>858</td>\n",
       "      <td>GolfBuddy VT3 GPS Watch</td>\n",
       "      <td>Kids' Golf Clubs</td>\n",
       "    </tr>\n",
       "    <tr>\n",
       "      <th>3</th>\n",
       "      <td>58170</td>\n",
       "      <td>858</td>\n",
       "      <td>199.99</td>\n",
       "      <td>PENDING</td>\n",
       "      <td>858</td>\n",
       "      <td>GolfBuddy VT3 GPS Watch</td>\n",
       "      <td>Kids' Golf Clubs</td>\n",
       "    </tr>\n",
       "    <tr>\n",
       "      <th>4</th>\n",
       "      <td>58585</td>\n",
       "      <td>858</td>\n",
       "      <td>199.99</td>\n",
       "      <td>CANCELED</td>\n",
       "      <td>858</td>\n",
       "      <td>GolfBuddy VT3 GPS Watch</td>\n",
       "      <td>Kids' Golf Clubs</td>\n",
       "    </tr>\n",
       "    <tr>\n",
       "      <th>5</th>\n",
       "      <td>58589</td>\n",
       "      <td>858</td>\n",
       "      <td>199.99</td>\n",
       "      <td>COMPLETE</td>\n",
       "      <td>858</td>\n",
       "      <td>GolfBuddy VT3 GPS Watch</td>\n",
       "      <td>Kids' Golf Clubs</td>\n",
       "    </tr>\n",
       "    <tr>\n",
       "      <th>6</th>\n",
       "      <td>58695</td>\n",
       "      <td>858</td>\n",
       "      <td>199.99</td>\n",
       "      <td>COMPLETE</td>\n",
       "      <td>858</td>\n",
       "      <td>GolfBuddy VT3 GPS Watch</td>\n",
       "      <td>Kids' Golf Clubs</td>\n",
       "    </tr>\n",
       "    <tr>\n",
       "      <th>7</th>\n",
       "      <td>58774</td>\n",
       "      <td>858</td>\n",
       "      <td>199.99</td>\n",
       "      <td>PENDING</td>\n",
       "      <td>858</td>\n",
       "      <td>GolfBuddy VT3 GPS Watch</td>\n",
       "      <td>Kids' Golf Clubs</td>\n",
       "    </tr>\n",
       "    <tr>\n",
       "      <th>8</th>\n",
       "      <td>58797</td>\n",
       "      <td>858</td>\n",
       "      <td>199.99</td>\n",
       "      <td>COMPLETE</td>\n",
       "      <td>858</td>\n",
       "      <td>GolfBuddy VT3 GPS Watch</td>\n",
       "      <td>Kids' Golf Clubs</td>\n",
       "    </tr>\n",
       "    <tr>\n",
       "      <th>9</th>\n",
       "      <td>58926</td>\n",
       "      <td>858</td>\n",
       "      <td>199.99</td>\n",
       "      <td>PENDING_PAYMENT</td>\n",
       "      <td>858</td>\n",
       "      <td>GolfBuddy VT3 GPS Watch</td>\n",
       "      <td>Kids' Golf Clubs</td>\n",
       "    </tr>\n",
       "    <tr>\n",
       "      <th>10</th>\n",
       "      <td>59169</td>\n",
       "      <td>858</td>\n",
       "      <td>199.99</td>\n",
       "      <td>PROCESSING</td>\n",
       "      <td>858</td>\n",
       "      <td>GolfBuddy VT3 GPS Watch</td>\n",
       "      <td>Kids' Golf Clubs</td>\n",
       "    </tr>\n",
       "    <tr>\n",
       "      <th>11</th>\n",
       "      <td>59273</td>\n",
       "      <td>858</td>\n",
       "      <td>199.99</td>\n",
       "      <td>PROCESSING</td>\n",
       "      <td>858</td>\n",
       "      <td>GolfBuddy VT3 GPS Watch</td>\n",
       "      <td>Kids' Golf Clubs</td>\n",
       "    </tr>\n",
       "    <tr>\n",
       "      <th>12</th>\n",
       "      <td>59542</td>\n",
       "      <td>858</td>\n",
       "      <td>199.99</td>\n",
       "      <td>PENDING</td>\n",
       "      <td>858</td>\n",
       "      <td>GolfBuddy VT3 GPS Watch</td>\n",
       "      <td>Kids' Golf Clubs</td>\n",
       "    </tr>\n",
       "    <tr>\n",
       "      <th>13</th>\n",
       "      <td>59893</td>\n",
       "      <td>858</td>\n",
       "      <td>199.99</td>\n",
       "      <td>PENDING_PAYMENT</td>\n",
       "      <td>858</td>\n",
       "      <td>GolfBuddy VT3 GPS Watch</td>\n",
       "      <td>Kids' Golf Clubs</td>\n",
       "    </tr>\n",
       "    <tr>\n",
       "      <th>14</th>\n",
       "      <td>60113</td>\n",
       "      <td>858</td>\n",
       "      <td>199.99</td>\n",
       "      <td>COMPLETE</td>\n",
       "      <td>858</td>\n",
       "      <td>GolfBuddy VT3 GPS Watch</td>\n",
       "      <td>Kids' Golf Clubs</td>\n",
       "    </tr>\n",
       "    <tr>\n",
       "      <th>15</th>\n",
       "      <td>60276</td>\n",
       "      <td>858</td>\n",
       "      <td>199.99</td>\n",
       "      <td>COMPLETE</td>\n",
       "      <td>858</td>\n",
       "      <td>GolfBuddy VT3 GPS Watch</td>\n",
       "      <td>Kids' Golf Clubs</td>\n",
       "    </tr>\n",
       "    <tr>\n",
       "      <th>16</th>\n",
       "      <td>60373</td>\n",
       "      <td>858</td>\n",
       "      <td>199.99</td>\n",
       "      <td>PENDING_PAYMENT</td>\n",
       "      <td>858</td>\n",
       "      <td>GolfBuddy VT3 GPS Watch</td>\n",
       "      <td>Kids' Golf Clubs</td>\n",
       "    </tr>\n",
       "    <tr>\n",
       "      <th>17</th>\n",
       "      <td>60616</td>\n",
       "      <td>858</td>\n",
       "      <td>199.99</td>\n",
       "      <td>COMPLETE</td>\n",
       "      <td>858</td>\n",
       "      <td>GolfBuddy VT3 GPS Watch</td>\n",
       "      <td>Kids' Golf Clubs</td>\n",
       "    </tr>\n",
       "    <tr>\n",
       "      <th>18</th>\n",
       "      <td>60716</td>\n",
       "      <td>858</td>\n",
       "      <td>199.99</td>\n",
       "      <td>PENDING_PAYMENT</td>\n",
       "      <td>858</td>\n",
       "      <td>GolfBuddy VT3 GPS Watch</td>\n",
       "      <td>Kids' Golf Clubs</td>\n",
       "    </tr>\n",
       "    <tr>\n",
       "      <th>19</th>\n",
       "      <td>61231</td>\n",
       "      <td>858</td>\n",
       "      <td>199.99</td>\n",
       "      <td>PROCESSING</td>\n",
       "      <td>858</td>\n",
       "      <td>GolfBuddy VT3 GPS Watch</td>\n",
       "      <td>Kids' Golf Clubs</td>\n",
       "    </tr>\n",
       "    <tr>\n",
       "      <th>20</th>\n",
       "      <td>61437</td>\n",
       "      <td>858</td>\n",
       "      <td>199.99</td>\n",
       "      <td>CLOSED</td>\n",
       "      <td>858</td>\n",
       "      <td>GolfBuddy VT3 GPS Watch</td>\n",
       "      <td>Kids' Golf Clubs</td>\n",
       "    </tr>\n",
       "    <tr>\n",
       "      <th>21</th>\n",
       "      <td>61562</td>\n",
       "      <td>858</td>\n",
       "      <td>199.99</td>\n",
       "      <td>PROCESSING</td>\n",
       "      <td>858</td>\n",
       "      <td>GolfBuddy VT3 GPS Watch</td>\n",
       "      <td>Kids' Golf Clubs</td>\n",
       "    </tr>\n",
       "    <tr>\n",
       "      <th>22</th>\n",
       "      <td>61963</td>\n",
       "      <td>858</td>\n",
       "      <td>199.99</td>\n",
       "      <td>PENDING_PAYMENT</td>\n",
       "      <td>858</td>\n",
       "      <td>GolfBuddy VT3 GPS Watch</td>\n",
       "      <td>Kids' Golf Clubs</td>\n",
       "    </tr>\n",
       "    <tr>\n",
       "      <th>23</th>\n",
       "      <td>62122</td>\n",
       "      <td>858</td>\n",
       "      <td>199.99</td>\n",
       "      <td>COMPLETE</td>\n",
       "      <td>858</td>\n",
       "      <td>GolfBuddy VT3 GPS Watch</td>\n",
       "      <td>Kids' Golf Clubs</td>\n",
       "    </tr>\n",
       "    <tr>\n",
       "      <th>24</th>\n",
       "      <td>62252</td>\n",
       "      <td>858</td>\n",
       "      <td>199.99</td>\n",
       "      <td>PROCESSING</td>\n",
       "      <td>858</td>\n",
       "      <td>GolfBuddy VT3 GPS Watch</td>\n",
       "      <td>Kids' Golf Clubs</td>\n",
       "    </tr>\n",
       "  </tbody>\n",
       "</table>\n",
       "</div>"
      ],
      "text/plain": [
       "    orderId  orderItemProductId  orderItemSubTotal      orderStatus  \\\n",
       "0     57760                 858             199.99  PENDING_PAYMENT   \n",
       "1     57847                 858             199.99         COMPLETE   \n",
       "2     58071                 858             199.99          PENDING   \n",
       "3     58170                 858             199.99          PENDING   \n",
       "4     58585                 858             199.99         CANCELED   \n",
       "5     58589                 858             199.99         COMPLETE   \n",
       "6     58695                 858             199.99         COMPLETE   \n",
       "7     58774                 858             199.99          PENDING   \n",
       "8     58797                 858             199.99         COMPLETE   \n",
       "9     58926                 858             199.99  PENDING_PAYMENT   \n",
       "10    59169                 858             199.99       PROCESSING   \n",
       "11    59273                 858             199.99       PROCESSING   \n",
       "12    59542                 858             199.99          PENDING   \n",
       "13    59893                 858             199.99  PENDING_PAYMENT   \n",
       "14    60113                 858             199.99         COMPLETE   \n",
       "15    60276                 858             199.99         COMPLETE   \n",
       "16    60373                 858             199.99  PENDING_PAYMENT   \n",
       "17    60616                 858             199.99         COMPLETE   \n",
       "18    60716                 858             199.99  PENDING_PAYMENT   \n",
       "19    61231                 858             199.99       PROCESSING   \n",
       "20    61437                 858             199.99           CLOSED   \n",
       "21    61562                 858             199.99       PROCESSING   \n",
       "22    61963                 858             199.99  PENDING_PAYMENT   \n",
       "23    62122                 858             199.99         COMPLETE   \n",
       "24    62252                 858             199.99       PROCESSING   \n",
       "\n",
       "    productId              productName      categoryName  \n",
       "0         858  GolfBuddy VT3 GPS Watch  Kids' Golf Clubs  \n",
       "1         858  GolfBuddy VT3 GPS Watch  Kids' Golf Clubs  \n",
       "2         858  GolfBuddy VT3 GPS Watch  Kids' Golf Clubs  \n",
       "3         858  GolfBuddy VT3 GPS Watch  Kids' Golf Clubs  \n",
       "4         858  GolfBuddy VT3 GPS Watch  Kids' Golf Clubs  \n",
       "5         858  GolfBuddy VT3 GPS Watch  Kids' Golf Clubs  \n",
       "6         858  GolfBuddy VT3 GPS Watch  Kids' Golf Clubs  \n",
       "7         858  GolfBuddy VT3 GPS Watch  Kids' Golf Clubs  \n",
       "8         858  GolfBuddy VT3 GPS Watch  Kids' Golf Clubs  \n",
       "9         858  GolfBuddy VT3 GPS Watch  Kids' Golf Clubs  \n",
       "10        858  GolfBuddy VT3 GPS Watch  Kids' Golf Clubs  \n",
       "11        858  GolfBuddy VT3 GPS Watch  Kids' Golf Clubs  \n",
       "12        858  GolfBuddy VT3 GPS Watch  Kids' Golf Clubs  \n",
       "13        858  GolfBuddy VT3 GPS Watch  Kids' Golf Clubs  \n",
       "14        858  GolfBuddy VT3 GPS Watch  Kids' Golf Clubs  \n",
       "15        858  GolfBuddy VT3 GPS Watch  Kids' Golf Clubs  \n",
       "16        858  GolfBuddy VT3 GPS Watch  Kids' Golf Clubs  \n",
       "17        858  GolfBuddy VT3 GPS Watch  Kids' Golf Clubs  \n",
       "18        858  GolfBuddy VT3 GPS Watch  Kids' Golf Clubs  \n",
       "19        858  GolfBuddy VT3 GPS Watch  Kids' Golf Clubs  \n",
       "20        858  GolfBuddy VT3 GPS Watch  Kids' Golf Clubs  \n",
       "21        858  GolfBuddy VT3 GPS Watch  Kids' Golf Clubs  \n",
       "22        858  GolfBuddy VT3 GPS Watch  Kids' Golf Clubs  \n",
       "23        858  GolfBuddy VT3 GPS Watch  Kids' Golf Clubs  \n",
       "24        858  GolfBuddy VT3 GPS Watch  Kids' Golf Clubs  "
      ]
     },
     "execution_count": 23,
     "metadata": {},
     "output_type": "execute_result"
    }
   ],
   "source": [
    "# Ceategory-Products birleşimini iptal edilmiş siparişlerle ürün id üzerinden birleştirelim\n",
    "final_table = orders_and_items.join(cat_products, orders_and_items['orderItemProductId'] == cat_products['productId'])\n",
    "final_table.limit(25).toPandas().head(25)"
   ]
  },
  {
   "cell_type": "markdown",
   "metadata": {},
   "source": [
    "## Toplam satış tutarı bakımından en çok iptal edilen (azalan sıra) ürünleri lokal diske parquet formatında yazma"
   ]
  },
  {
   "cell_type": "code",
   "execution_count": 24,
   "metadata": {},
   "outputs": [
    {
     "data": {
      "text/html": [
       "<div>\n",
       "<style scoped>\n",
       "    .dataframe tbody tr th:only-of-type {\n",
       "        vertical-align: middle;\n",
       "    }\n",
       "\n",
       "    .dataframe tbody tr th {\n",
       "        vertical-align: top;\n",
       "    }\n",
       "\n",
       "    .dataframe thead th {\n",
       "        text-align: right;\n",
       "    }\n",
       "</style>\n",
       "<table border=\"1\" class=\"dataframe\">\n",
       "  <thead>\n",
       "    <tr style=\"text-align: right;\">\n",
       "      <th></th>\n",
       "      <th>productName</th>\n",
       "      <th>Totalprice</th>\n",
       "    </tr>\n",
       "  </thead>\n",
       "  <tbody>\n",
       "    <tr>\n",
       "      <th>0</th>\n",
       "      <td>Field &amp; Stream Sportsman 16 Gun Fire Safe</td>\n",
       "      <td>134393.28</td>\n",
       "    </tr>\n",
       "    <tr>\n",
       "      <th>1</th>\n",
       "      <td>Perfect Fitness Perfect Rip Deck</td>\n",
       "      <td>85785.70</td>\n",
       "    </tr>\n",
       "    <tr>\n",
       "      <th>2</th>\n",
       "      <td>Nike Men's Free 5.0+ Running Shoe</td>\n",
       "      <td>80691.93</td>\n",
       "    </tr>\n",
       "    <tr>\n",
       "      <th>3</th>\n",
       "      <td>Diamondback Women's Serene Classic Comfort Bi</td>\n",
       "      <td>80094.66</td>\n",
       "    </tr>\n",
       "    <tr>\n",
       "      <th>4</th>\n",
       "      <td>Pelican Sunstream 100 Kayak</td>\n",
       "      <td>66196.69</td>\n",
       "    </tr>\n",
       "  </tbody>\n",
       "</table>\n",
       "</div>"
      ],
      "text/plain": [
       "                                     productName  Totalprice\n",
       "0      Field & Stream Sportsman 16 Gun Fire Safe   134393.28\n",
       "1               Perfect Fitness Perfect Rip Deck    85785.70\n",
       "2              Nike Men's Free 5.0+ Running Shoe    80691.93\n",
       "3  Diamondback Women's Serene Classic Comfort Bi    80094.66\n",
       "4                    Pelican Sunstream 100 Kayak    66196.69"
      ]
     },
     "execution_count": 24,
     "metadata": {},
     "output_type": "execute_result"
    }
   ],
   "source": [
    "#İş ihtiyacı-1: Toplam satış tutarı bakımından en çok iptal edilen ürünleri diske parquet formatında yazınız\n",
    "most_cancelled_products = final_table.filter(\"orderStatus == 'CANCELED'\") \\\n",
    ".groupBy(\"productName\").agg(F.sum(\"orderItemSubTotal\").alias(\"Totalprice\")) \\\n",
    ".orderBy(F.desc(\"TotalPrice\"))\n",
    "\n",
    "most_cancelled_products.limit(10).toPandas().head(10)"
   ]
  },
  {
   "cell_type": "code",
   "execution_count": 25,
   "metadata": {},
   "outputs": [],
   "source": [
    "# coalesce parçaları birleştirir tek dosya oluşturur.\n",
    "most_cancelled_products.coalesce(1) \\\n",
    ".write.mode(\"overwrite\").parquet(output_path+\"/most_cancelled_products_parquet\")"
   ]
  },
  {
   "cell_type": "code",
   "execution_count": 26,
   "metadata": {},
   "outputs": [
    {
     "data": {
      "text/html": [
       "<div>\n",
       "<style scoped>\n",
       "    .dataframe tbody tr th:only-of-type {\n",
       "        vertical-align: middle;\n",
       "    }\n",
       "\n",
       "    .dataframe tbody tr th {\n",
       "        vertical-align: top;\n",
       "    }\n",
       "\n",
       "    .dataframe thead th {\n",
       "        text-align: right;\n",
       "    }\n",
       "</style>\n",
       "<table border=\"1\" class=\"dataframe\">\n",
       "  <thead>\n",
       "    <tr style=\"text-align: right;\">\n",
       "      <th></th>\n",
       "      <th>productName</th>\n",
       "      <th>Totalprice</th>\n",
       "    </tr>\n",
       "  </thead>\n",
       "  <tbody>\n",
       "    <tr>\n",
       "      <th>0</th>\n",
       "      <td>Field &amp; Stream Sportsman 16 Gun Fire Safe</td>\n",
       "      <td>134393.28</td>\n",
       "    </tr>\n",
       "    <tr>\n",
       "      <th>1</th>\n",
       "      <td>Perfect Fitness Perfect Rip Deck</td>\n",
       "      <td>85785.70</td>\n",
       "    </tr>\n",
       "    <tr>\n",
       "      <th>2</th>\n",
       "      <td>Nike Men's Free 5.0+ Running Shoe</td>\n",
       "      <td>80691.93</td>\n",
       "    </tr>\n",
       "    <tr>\n",
       "      <th>3</th>\n",
       "      <td>Diamondback Women's Serene Classic Comfort Bi</td>\n",
       "      <td>80094.66</td>\n",
       "    </tr>\n",
       "    <tr>\n",
       "      <th>4</th>\n",
       "      <td>Pelican Sunstream 100 Kayak</td>\n",
       "      <td>66196.69</td>\n",
       "    </tr>\n",
       "    <tr>\n",
       "      <th>5</th>\n",
       "      <td>Nike Men's Dri-FIT Victory Golf Polo</td>\n",
       "      <td>65750.00</td>\n",
       "    </tr>\n",
       "    <tr>\n",
       "      <th>6</th>\n",
       "      <td>Nike Men's CJ Elite 2 TD Football Cleat</td>\n",
       "      <td>60705.33</td>\n",
       "    </tr>\n",
       "    <tr>\n",
       "      <th>7</th>\n",
       "      <td>O'Brien Men's Neoprene Life Vest</td>\n",
       "      <td>58126.74</td>\n",
       "    </tr>\n",
       "    <tr>\n",
       "      <th>8</th>\n",
       "      <td>Under Armour Girls' Toddler Spine Surge Runni</td>\n",
       "      <td>26153.46</td>\n",
       "    </tr>\n",
       "    <tr>\n",
       "      <th>9</th>\n",
       "      <td>LIJA Women's Eyelet Sleeveless Golf Polo</td>\n",
       "      <td>2145.00</td>\n",
       "    </tr>\n",
       "  </tbody>\n",
       "</table>\n",
       "</div>"
      ],
      "text/plain": [
       "                                     productName  Totalprice\n",
       "0      Field & Stream Sportsman 16 Gun Fire Safe   134393.28\n",
       "1               Perfect Fitness Perfect Rip Deck    85785.70\n",
       "2              Nike Men's Free 5.0+ Running Shoe    80691.93\n",
       "3  Diamondback Women's Serene Classic Comfort Bi    80094.66\n",
       "4                    Pelican Sunstream 100 Kayak    66196.69\n",
       "5           Nike Men's Dri-FIT Victory Golf Polo    65750.00\n",
       "6        Nike Men's CJ Elite 2 TD Football Cleat    60705.33\n",
       "7               O'Brien Men's Neoprene Life Vest    58126.74\n",
       "8  Under Armour Girls' Toddler Spine Surge Runni    26153.46\n",
       "9       LIJA Women's Eyelet Sleeveless Golf Polo     2145.00"
      ]
     },
     "execution_count": 26,
     "metadata": {},
     "output_type": "execute_result"
    }
   ],
   "source": [
    "# Kontrol\n",
    "spark.read.parquet(output_path+\"/most_cancelled_products_parquet\") \\\n",
    ".limit(10).toPandas().head(10)"
   ]
  },
  {
   "cell_type": "markdown",
   "metadata": {},
   "source": [
    "# 1.4. Toplam satış tutarı bakımından en çok iptal edilen (azalan sıra) kategorileri local diske parquet formatında yazınız."
   ]
  },
  {
   "cell_type": "code",
   "execution_count": 27,
   "metadata": {},
   "outputs": [
    {
     "data": {
      "text/html": [
       "<div>\n",
       "<style scoped>\n",
       "    .dataframe tbody tr th:only-of-type {\n",
       "        vertical-align: middle;\n",
       "    }\n",
       "\n",
       "    .dataframe tbody tr th {\n",
       "        vertical-align: top;\n",
       "    }\n",
       "\n",
       "    .dataframe thead th {\n",
       "        text-align: right;\n",
       "    }\n",
       "</style>\n",
       "<table border=\"1\" class=\"dataframe\">\n",
       "  <thead>\n",
       "    <tr style=\"text-align: right;\">\n",
       "      <th></th>\n",
       "      <th>categoryName</th>\n",
       "      <th>Totalprice</th>\n",
       "    </tr>\n",
       "  </thead>\n",
       "  <tbody>\n",
       "    <tr>\n",
       "      <th>0</th>\n",
       "      <td>Fishing</td>\n",
       "      <td>134393.28</td>\n",
       "    </tr>\n",
       "    <tr>\n",
       "      <th>1</th>\n",
       "      <td>Cleats</td>\n",
       "      <td>85785.70</td>\n",
       "    </tr>\n",
       "    <tr>\n",
       "      <th>2</th>\n",
       "      <td>Cardio Equipment</td>\n",
       "      <td>81351.93</td>\n",
       "    </tr>\n",
       "    <tr>\n",
       "      <th>3</th>\n",
       "      <td>Camping &amp; Hiking</td>\n",
       "      <td>80094.66</td>\n",
       "    </tr>\n",
       "    <tr>\n",
       "      <th>4</th>\n",
       "      <td>Water Sports</td>\n",
       "      <td>66196.69</td>\n",
       "    </tr>\n",
       "    <tr>\n",
       "      <th>5</th>\n",
       "      <td>Women's Apparel</td>\n",
       "      <td>65750.00</td>\n",
       "    </tr>\n",
       "    <tr>\n",
       "      <th>6</th>\n",
       "      <td>Men's Footwear</td>\n",
       "      <td>60705.33</td>\n",
       "    </tr>\n",
       "    <tr>\n",
       "      <th>7</th>\n",
       "      <td>Indoor/Outdoor Games</td>\n",
       "      <td>58126.74</td>\n",
       "    </tr>\n",
       "    <tr>\n",
       "      <th>8</th>\n",
       "      <td>Shop By Sport</td>\n",
       "      <td>27423.44</td>\n",
       "    </tr>\n",
       "    <tr>\n",
       "      <th>9</th>\n",
       "      <td>Electronics</td>\n",
       "      <td>5685.50</td>\n",
       "    </tr>\n",
       "  </tbody>\n",
       "</table>\n",
       "</div>"
      ],
      "text/plain": [
       "           categoryName  Totalprice\n",
       "0               Fishing   134393.28\n",
       "1                Cleats    85785.70\n",
       "2      Cardio Equipment    81351.93\n",
       "3      Camping & Hiking    80094.66\n",
       "4          Water Sports    66196.69\n",
       "5       Women's Apparel    65750.00\n",
       "6        Men's Footwear    60705.33\n",
       "7  Indoor/Outdoor Games    58126.74\n",
       "8         Shop By Sport    27423.44\n",
       "9           Electronics     5685.50"
      ]
     },
     "execution_count": 27,
     "metadata": {},
     "output_type": "execute_result"
    }
   ],
   "source": [
    "#İş ihtiyacı-2: Toplam satış tutarı bakımından en çok iptal edilen kategorileri diske parquet formatında yazınız\n",
    "most_cancelled_cats = final_table.filter(\"orderStatus == 'CANCELED'\") \\\n",
    ".groupBy(\"categoryName\").agg(F.sum(\"orderItemSubTotal\").alias(\"Totalprice\")) \\\n",
    ".orderBy(F.desc(\"TotalPrice\"))\n",
    "most_cancelled_cats.limit(10).toPandas().head(10)"
   ]
  },
  {
   "cell_type": "code",
   "execution_count": 28,
   "metadata": {},
   "outputs": [],
   "source": [
    "# coalesce parçaları birleştirir tek dosya oluşturur.\n",
    "most_cancelled_cats.coalesce(1) \\\n",
    ".write.mode(\"overwrite\").parquet(output_path+\"/most_cancelled_cats_parquet\")"
   ]
  },
  {
   "cell_type": "code",
   "execution_count": 29,
   "metadata": {},
   "outputs": [
    {
     "data": {
      "text/html": [
       "<div>\n",
       "<style scoped>\n",
       "    .dataframe tbody tr th:only-of-type {\n",
       "        vertical-align: middle;\n",
       "    }\n",
       "\n",
       "    .dataframe tbody tr th {\n",
       "        vertical-align: top;\n",
       "    }\n",
       "\n",
       "    .dataframe thead th {\n",
       "        text-align: right;\n",
       "    }\n",
       "</style>\n",
       "<table border=\"1\" class=\"dataframe\">\n",
       "  <thead>\n",
       "    <tr style=\"text-align: right;\">\n",
       "      <th></th>\n",
       "      <th>categoryName</th>\n",
       "      <th>Totalprice</th>\n",
       "    </tr>\n",
       "  </thead>\n",
       "  <tbody>\n",
       "    <tr>\n",
       "      <th>0</th>\n",
       "      <td>Fishing</td>\n",
       "      <td>134393.28</td>\n",
       "    </tr>\n",
       "    <tr>\n",
       "      <th>1</th>\n",
       "      <td>Cleats</td>\n",
       "      <td>85785.70</td>\n",
       "    </tr>\n",
       "    <tr>\n",
       "      <th>2</th>\n",
       "      <td>Cardio Equipment</td>\n",
       "      <td>81351.93</td>\n",
       "    </tr>\n",
       "    <tr>\n",
       "      <th>3</th>\n",
       "      <td>Camping &amp; Hiking</td>\n",
       "      <td>80094.66</td>\n",
       "    </tr>\n",
       "    <tr>\n",
       "      <th>4</th>\n",
       "      <td>Water Sports</td>\n",
       "      <td>66196.69</td>\n",
       "    </tr>\n",
       "    <tr>\n",
       "      <th>5</th>\n",
       "      <td>Women's Apparel</td>\n",
       "      <td>65750.00</td>\n",
       "    </tr>\n",
       "    <tr>\n",
       "      <th>6</th>\n",
       "      <td>Men's Footwear</td>\n",
       "      <td>60705.33</td>\n",
       "    </tr>\n",
       "    <tr>\n",
       "      <th>7</th>\n",
       "      <td>Indoor/Outdoor Games</td>\n",
       "      <td>58126.74</td>\n",
       "    </tr>\n",
       "    <tr>\n",
       "      <th>8</th>\n",
       "      <td>Shop By Sport</td>\n",
       "      <td>27423.44</td>\n",
       "    </tr>\n",
       "    <tr>\n",
       "      <th>9</th>\n",
       "      <td>Electronics</td>\n",
       "      <td>5685.50</td>\n",
       "    </tr>\n",
       "  </tbody>\n",
       "</table>\n",
       "</div>"
      ],
      "text/plain": [
       "           categoryName  Totalprice\n",
       "0               Fishing   134393.28\n",
       "1                Cleats    85785.70\n",
       "2      Cardio Equipment    81351.93\n",
       "3      Camping & Hiking    80094.66\n",
       "4          Water Sports    66196.69\n",
       "5       Women's Apparel    65750.00\n",
       "6        Men's Footwear    60705.33\n",
       "7  Indoor/Outdoor Games    58126.74\n",
       "8         Shop By Sport    27423.44\n",
       "9           Electronics     5685.50"
      ]
     },
     "execution_count": 29,
     "metadata": {},
     "output_type": "execute_result"
    }
   ],
   "source": [
    "# Kontrol\n",
    "spark.read.parquet(output_path+\"/most_cancelled_cats_parquet\") \\\n",
    ".limit(10).toPandas().head(10)"
   ]
  },
  {
   "cell_type": "markdown",
   "metadata": {},
   "source": [
    "# 1.5. En yüksek toplam satış hangi yılın hangi ayında (Türkçe) olmuştur?"
   ]
  },
  {
   "cell_type": "code",
   "execution_count": 30,
   "metadata": {},
   "outputs": [
    {
     "data": {
      "text/html": [
       "<div>\n",
       "<style scoped>\n",
       "    .dataframe tbody tr th:only-of-type {\n",
       "        vertical-align: middle;\n",
       "    }\n",
       "\n",
       "    .dataframe tbody tr th {\n",
       "        vertical-align: top;\n",
       "    }\n",
       "\n",
       "    .dataframe thead th {\n",
       "        text-align: right;\n",
       "    }\n",
       "</style>\n",
       "<table border=\"1\" class=\"dataframe\">\n",
       "  <thead>\n",
       "    <tr style=\"text-align: right;\">\n",
       "      <th></th>\n",
       "      <th>orderId</th>\n",
       "      <th>orderItemProductId</th>\n",
       "      <th>orderItemSubTotal</th>\n",
       "      <th>orderStatus</th>\n",
       "      <th>orderDate</th>\n",
       "    </tr>\n",
       "  </thead>\n",
       "  <tbody>\n",
       "    <tr>\n",
       "      <th>0</th>\n",
       "      <td>1</td>\n",
       "      <td>957</td>\n",
       "      <td>299.98</td>\n",
       "      <td>CLOSED</td>\n",
       "      <td>2013-07-25 00:00:00.0</td>\n",
       "    </tr>\n",
       "    <tr>\n",
       "      <th>1</th>\n",
       "      <td>2</td>\n",
       "      <td>1073</td>\n",
       "      <td>199.99</td>\n",
       "      <td>PENDING_PAYMENT</td>\n",
       "      <td>2013-07-25 00:00:00.0</td>\n",
       "    </tr>\n",
       "    <tr>\n",
       "      <th>2</th>\n",
       "      <td>2</td>\n",
       "      <td>502</td>\n",
       "      <td>250.00</td>\n",
       "      <td>PENDING_PAYMENT</td>\n",
       "      <td>2013-07-25 00:00:00.0</td>\n",
       "    </tr>\n",
       "    <tr>\n",
       "      <th>3</th>\n",
       "      <td>2</td>\n",
       "      <td>403</td>\n",
       "      <td>129.99</td>\n",
       "      <td>PENDING_PAYMENT</td>\n",
       "      <td>2013-07-25 00:00:00.0</td>\n",
       "    </tr>\n",
       "    <tr>\n",
       "      <th>4</th>\n",
       "      <td>4</td>\n",
       "      <td>897</td>\n",
       "      <td>49.98</td>\n",
       "      <td>CLOSED</td>\n",
       "      <td>2013-07-25 00:00:00.0</td>\n",
       "    </tr>\n",
       "  </tbody>\n",
       "</table>\n",
       "</div>"
      ],
      "text/plain": [
       "   orderId  orderItemProductId  orderItemSubTotal      orderStatus  \\\n",
       "0        1                 957             299.98           CLOSED   \n",
       "1        2                1073             199.99  PENDING_PAYMENT   \n",
       "2        2                 502             250.00  PENDING_PAYMENT   \n",
       "3        2                 403             129.99  PENDING_PAYMENT   \n",
       "4        4                 897              49.98           CLOSED   \n",
       "\n",
       "               orderDate  \n",
       "0  2013-07-25 00:00:00.0  \n",
       "1  2013-07-25 00:00:00.0  \n",
       "2  2013-07-25 00:00:00.0  \n",
       "3  2013-07-25 00:00:00.0  \n",
       "4  2013-07-25 00:00:00.0  "
      ]
     },
     "execution_count": 30,
     "metadata": {},
     "output_type": "execute_result"
    }
   ],
   "source": [
    "orders_and_items_date = order_items.join(orders, order_items['orderItemOrderId'] == orders['orderId']) \\\n",
    ".select(\"orderId\",\"orderItemProductId\",\"orderItemSubTotal\",\"orderStatus\",\"orderDate\")\n",
    "orders_and_items_date.limit(5).toPandas().head()"
   ]
  },
  {
   "cell_type": "code",
   "execution_count": 31,
   "metadata": {},
   "outputs": [
    {
     "data": {
      "text/html": [
       "<div>\n",
       "<style scoped>\n",
       "    .dataframe tbody tr th:only-of-type {\n",
       "        vertical-align: middle;\n",
       "    }\n",
       "\n",
       "    .dataframe tbody tr th {\n",
       "        vertical-align: top;\n",
       "    }\n",
       "\n",
       "    .dataframe thead th {\n",
       "        text-align: right;\n",
       "    }\n",
       "</style>\n",
       "<table border=\"1\" class=\"dataframe\">\n",
       "  <thead>\n",
       "    <tr style=\"text-align: right;\">\n",
       "      <th></th>\n",
       "      <th>orderId</th>\n",
       "      <th>orderItemProductId</th>\n",
       "      <th>orderItemSubTotal</th>\n",
       "      <th>orderStatus</th>\n",
       "      <th>orderDate</th>\n",
       "      <th>Year</th>\n",
       "      <th>Month</th>\n",
       "    </tr>\n",
       "  </thead>\n",
       "  <tbody>\n",
       "    <tr>\n",
       "      <th>0</th>\n",
       "      <td>1</td>\n",
       "      <td>957</td>\n",
       "      <td>299.98</td>\n",
       "      <td>CLOSED</td>\n",
       "      <td>2013-07-25</td>\n",
       "      <td>2013</td>\n",
       "      <td>7</td>\n",
       "    </tr>\n",
       "    <tr>\n",
       "      <th>1</th>\n",
       "      <td>2</td>\n",
       "      <td>1073</td>\n",
       "      <td>199.99</td>\n",
       "      <td>PENDING_PAYMENT</td>\n",
       "      <td>2013-07-25</td>\n",
       "      <td>2013</td>\n",
       "      <td>7</td>\n",
       "    </tr>\n",
       "    <tr>\n",
       "      <th>2</th>\n",
       "      <td>2</td>\n",
       "      <td>502</td>\n",
       "      <td>250.00</td>\n",
       "      <td>PENDING_PAYMENT</td>\n",
       "      <td>2013-07-25</td>\n",
       "      <td>2013</td>\n",
       "      <td>7</td>\n",
       "    </tr>\n",
       "    <tr>\n",
       "      <th>3</th>\n",
       "      <td>2</td>\n",
       "      <td>403</td>\n",
       "      <td>129.99</td>\n",
       "      <td>PENDING_PAYMENT</td>\n",
       "      <td>2013-07-25</td>\n",
       "      <td>2013</td>\n",
       "      <td>7</td>\n",
       "    </tr>\n",
       "    <tr>\n",
       "      <th>4</th>\n",
       "      <td>4</td>\n",
       "      <td>897</td>\n",
       "      <td>49.98</td>\n",
       "      <td>CLOSED</td>\n",
       "      <td>2013-07-25</td>\n",
       "      <td>2013</td>\n",
       "      <td>7</td>\n",
       "    </tr>\n",
       "  </tbody>\n",
       "</table>\n",
       "</div>"
      ],
      "text/plain": [
       "   orderId  orderItemProductId  orderItemSubTotal      orderStatus  orderDate  \\\n",
       "0        1                 957             299.98           CLOSED 2013-07-25   \n",
       "1        2                1073             199.99  PENDING_PAYMENT 2013-07-25   \n",
       "2        2                 502             250.00  PENDING_PAYMENT 2013-07-25   \n",
       "3        2                 403             129.99  PENDING_PAYMENT 2013-07-25   \n",
       "4        4                 897              49.98           CLOSED 2013-07-25   \n",
       "\n",
       "   Year  Month  \n",
       "0  2013      7  \n",
       "1  2013      7  \n",
       "2  2013      7  \n",
       "3  2013      7  \n",
       "4  2013      7  "
      ]
     },
     "execution_count": 31,
     "metadata": {},
     "output_type": "execute_result"
    }
   ],
   "source": [
    "df_year_and_month = orders_and_items_date.withColumn(\"orderDate\", \n",
    "                                F.to_timestamp(F.col(\"orderDate\"), \"yyyy-MM-dd HH:mm:ss.S\")) \\\n",
    ".withColumn(\"Year\", F.year(F.col(\"orderDate\"))) \\\n",
    ".withColumn(\"Month\", F.month(F.col(\"orderDate\")))\n",
    "\n",
    "df_year_and_month.limit(5).toPandas()"
   ]
  },
  {
   "cell_type": "code",
   "execution_count": 32,
   "metadata": {},
   "outputs": [
    {
     "data": {
      "text/html": [
       "<div>\n",
       "<style scoped>\n",
       "    .dataframe tbody tr th:only-of-type {\n",
       "        vertical-align: middle;\n",
       "    }\n",
       "\n",
       "    .dataframe tbody tr th {\n",
       "        vertical-align: top;\n",
       "    }\n",
       "\n",
       "    .dataframe thead th {\n",
       "        text-align: right;\n",
       "    }\n",
       "</style>\n",
       "<table border=\"1\" class=\"dataframe\">\n",
       "  <thead>\n",
       "    <tr style=\"text-align: right;\">\n",
       "      <th></th>\n",
       "      <th>Year</th>\n",
       "      <th>Month</th>\n",
       "      <th>Sum_SubTotal</th>\n",
       "    </tr>\n",
       "  </thead>\n",
       "  <tbody>\n",
       "    <tr>\n",
       "      <th>0</th>\n",
       "      <td>2013</td>\n",
       "      <td>11</td>\n",
       "      <td>3105843.27</td>\n",
       "    </tr>\n",
       "    <tr>\n",
       "      <th>1</th>\n",
       "      <td>2014</td>\n",
       "      <td>1</td>\n",
       "      <td>2870834.18</td>\n",
       "    </tr>\n",
       "    <tr>\n",
       "      <th>2</th>\n",
       "      <td>2013</td>\n",
       "      <td>12</td>\n",
       "      <td>2869997.88</td>\n",
       "    </tr>\n",
       "    <tr>\n",
       "      <th>3</th>\n",
       "      <td>2013</td>\n",
       "      <td>9</td>\n",
       "      <td>2866553.33</td>\n",
       "    </tr>\n",
       "    <tr>\n",
       "      <th>4</th>\n",
       "      <td>2014</td>\n",
       "      <td>3</td>\n",
       "      <td>2805006.32</td>\n",
       "    </tr>\n",
       "    <tr>\n",
       "      <th>5</th>\n",
       "      <td>2013</td>\n",
       "      <td>8</td>\n",
       "      <td>2769236.03</td>\n",
       "    </tr>\n",
       "    <tr>\n",
       "      <th>6</th>\n",
       "      <td>2014</td>\n",
       "      <td>4</td>\n",
       "      <td>2758912.47</td>\n",
       "    </tr>\n",
       "    <tr>\n",
       "      <th>7</th>\n",
       "      <td>2014</td>\n",
       "      <td>2</td>\n",
       "      <td>2712838.58</td>\n",
       "    </tr>\n",
       "    <tr>\n",
       "      <th>8</th>\n",
       "      <td>2014</td>\n",
       "      <td>5</td>\n",
       "      <td>2695699.48</td>\n",
       "    </tr>\n",
       "    <tr>\n",
       "      <th>9</th>\n",
       "      <td>2014</td>\n",
       "      <td>6</td>\n",
       "      <td>2657013.04</td>\n",
       "    </tr>\n",
       "  </tbody>\n",
       "</table>\n",
       "</div>"
      ],
      "text/plain": [
       "   Year  Month  Sum_SubTotal\n",
       "0  2013     11    3105843.27\n",
       "1  2014      1    2870834.18\n",
       "2  2013     12    2869997.88\n",
       "3  2013      9    2866553.33\n",
       "4  2014      3    2805006.32\n",
       "5  2013      8    2769236.03\n",
       "6  2014      4    2758912.47\n",
       "7  2014      2    2712838.58\n",
       "8  2014      5    2695699.48\n",
       "9  2014      6    2657013.04"
      ]
     },
     "execution_count": 32,
     "metadata": {},
     "output_type": "execute_result"
    }
   ],
   "source": [
    "df_year_and_month.filter(\"orderStatus not in ('CANCELED')\") \\\n",
    ".groupBy('Year','Month').agg(F.sum(\"orderItemSubTotal\").alias(\"Sum_SubTotal\")) \\\n",
    ".orderBy(F.desc(\"Sum_SubTotal\")) \\\n",
    ".limit(10).toPandas()"
   ]
  },
  {
   "cell_type": "code",
   "execution_count": 33,
   "metadata": {},
   "outputs": [],
   "source": [
    "# convert month TR with udf\n",
    "def month_to_tr(input_month):\n",
    "    month_converter = {\n",
    "        1: \"Ocak\",\n",
    "        2: \"Şubat\",\n",
    "        3: \"Mart\",\n",
    "        4: \"Nisan\",\n",
    "        5: \"Mayıs\",\n",
    "        6: \"Haziran\",\n",
    "        7: \"Temmuz\",\n",
    "        8: \"Ağustos\",\n",
    "        9: \"Eylül\",\n",
    "        10: \"Ekim\",\n",
    "        11: \"Kasım\",\n",
    "        12: \"Aralık\"\n",
    "    }\n",
    "    \n",
    "    return month_converter.get(input_month)"
   ]
  },
  {
   "cell_type": "code",
   "execution_count": 34,
   "metadata": {},
   "outputs": [
    {
     "data": {
      "text/plain": [
       "'Şubat'"
      ]
     },
     "execution_count": 34,
     "metadata": {},
     "output_type": "execute_result"
    }
   ],
   "source": [
    "month_to_tr(2)"
   ]
  },
  {
   "cell_type": "code",
   "execution_count": 35,
   "metadata": {},
   "outputs": [],
   "source": [
    "month_to_tr_udf = spark.udf.register(\"month_to_tr_udf\", month_to_tr, StringType())"
   ]
  },
  {
   "cell_type": "code",
   "execution_count": 36,
   "metadata": {},
   "outputs": [
    {
     "data": {
      "text/html": [
       "<div>\n",
       "<style scoped>\n",
       "    .dataframe tbody tr th:only-of-type {\n",
       "        vertical-align: middle;\n",
       "    }\n",
       "\n",
       "    .dataframe tbody tr th {\n",
       "        vertical-align: top;\n",
       "    }\n",
       "\n",
       "    .dataframe thead th {\n",
       "        text-align: right;\n",
       "    }\n",
       "</style>\n",
       "<table border=\"1\" class=\"dataframe\">\n",
       "  <thead>\n",
       "    <tr style=\"text-align: right;\">\n",
       "      <th></th>\n",
       "      <th>Year</th>\n",
       "      <th>Month</th>\n",
       "      <th>Sum_SubTotal</th>\n",
       "      <th>Month_TR</th>\n",
       "    </tr>\n",
       "  </thead>\n",
       "  <tbody>\n",
       "    <tr>\n",
       "      <th>0</th>\n",
       "      <td>2013</td>\n",
       "      <td>11</td>\n",
       "      <td>3105843.27</td>\n",
       "      <td>Kasım</td>\n",
       "    </tr>\n",
       "    <tr>\n",
       "      <th>1</th>\n",
       "      <td>2014</td>\n",
       "      <td>1</td>\n",
       "      <td>2870834.18</td>\n",
       "      <td>Ocak</td>\n",
       "    </tr>\n",
       "    <tr>\n",
       "      <th>2</th>\n",
       "      <td>2013</td>\n",
       "      <td>12</td>\n",
       "      <td>2869997.88</td>\n",
       "      <td>Aralık</td>\n",
       "    </tr>\n",
       "    <tr>\n",
       "      <th>3</th>\n",
       "      <td>2013</td>\n",
       "      <td>9</td>\n",
       "      <td>2866553.33</td>\n",
       "      <td>Eylül</td>\n",
       "    </tr>\n",
       "    <tr>\n",
       "      <th>4</th>\n",
       "      <td>2014</td>\n",
       "      <td>3</td>\n",
       "      <td>2805006.32</td>\n",
       "      <td>Mart</td>\n",
       "    </tr>\n",
       "    <tr>\n",
       "      <th>5</th>\n",
       "      <td>2013</td>\n",
       "      <td>8</td>\n",
       "      <td>2769236.03</td>\n",
       "      <td>Ağustos</td>\n",
       "    </tr>\n",
       "    <tr>\n",
       "      <th>6</th>\n",
       "      <td>2014</td>\n",
       "      <td>4</td>\n",
       "      <td>2758912.47</td>\n",
       "      <td>Nisan</td>\n",
       "    </tr>\n",
       "    <tr>\n",
       "      <th>7</th>\n",
       "      <td>2014</td>\n",
       "      <td>2</td>\n",
       "      <td>2712838.58</td>\n",
       "      <td>Şubat</td>\n",
       "    </tr>\n",
       "    <tr>\n",
       "      <th>8</th>\n",
       "      <td>2014</td>\n",
       "      <td>5</td>\n",
       "      <td>2695699.48</td>\n",
       "      <td>Mayıs</td>\n",
       "    </tr>\n",
       "    <tr>\n",
       "      <th>9</th>\n",
       "      <td>2014</td>\n",
       "      <td>6</td>\n",
       "      <td>2657013.04</td>\n",
       "      <td>Haziran</td>\n",
       "    </tr>\n",
       "  </tbody>\n",
       "</table>\n",
       "</div>"
      ],
      "text/plain": [
       "   Year  Month  Sum_SubTotal Month_TR\n",
       "0  2013     11    3105843.27    Kasım\n",
       "1  2014      1    2870834.18     Ocak\n",
       "2  2013     12    2869997.88   Aralık\n",
       "3  2013      9    2866553.33    Eylül\n",
       "4  2014      3    2805006.32     Mart\n",
       "5  2013      8    2769236.03  Ağustos\n",
       "6  2014      4    2758912.47    Nisan\n",
       "7  2014      2    2712838.58    Şubat\n",
       "8  2014      5    2695699.48    Mayıs\n",
       "9  2014      6    2657013.04  Haziran"
      ]
     },
     "execution_count": 36,
     "metadata": {},
     "output_type": "execute_result"
    }
   ],
   "source": [
    "df_year_and_month.filter(\"orderStatus not in ('CANCELED')\") \\\n",
    ".groupBy('Year','Month').agg(F.sum(\"orderItemSubTotal\").alias(\"Sum_SubTotal\")) \\\n",
    ".orderBy(F.desc(\"Sum_SubTotal\")) \\\n",
    ".withColumn(\"Month_TR\", month_to_tr_udf(F.col(\"Month\"))) \\\n",
    ".limit(10).toPandas()"
   ]
  },
  {
   "cell_type": "markdown",
   "metadata": {},
   "source": [
    "# 1.6. En yüksek toplam satış haftanın hangi gününde (Türkçe) olmuştur?"
   ]
  },
  {
   "cell_type": "code",
   "execution_count": 37,
   "metadata": {},
   "outputs": [
    {
     "data": {
      "text/html": [
       "<div>\n",
       "<style scoped>\n",
       "    .dataframe tbody tr th:only-of-type {\n",
       "        vertical-align: middle;\n",
       "    }\n",
       "\n",
       "    .dataframe tbody tr th {\n",
       "        vertical-align: top;\n",
       "    }\n",
       "\n",
       "    .dataframe thead th {\n",
       "        text-align: right;\n",
       "    }\n",
       "</style>\n",
       "<table border=\"1\" class=\"dataframe\">\n",
       "  <thead>\n",
       "    <tr style=\"text-align: right;\">\n",
       "      <th></th>\n",
       "      <th>orderId</th>\n",
       "      <th>orderItemProductId</th>\n",
       "      <th>orderItemSubTotal</th>\n",
       "      <th>orderStatus</th>\n",
       "      <th>orderDate</th>\n",
       "      <th>Day</th>\n",
       "    </tr>\n",
       "  </thead>\n",
       "  <tbody>\n",
       "    <tr>\n",
       "      <th>0</th>\n",
       "      <td>1</td>\n",
       "      <td>957</td>\n",
       "      <td>299.98</td>\n",
       "      <td>CLOSED</td>\n",
       "      <td>2013-07-25</td>\n",
       "      <td>5</td>\n",
       "    </tr>\n",
       "    <tr>\n",
       "      <th>1</th>\n",
       "      <td>2</td>\n",
       "      <td>1073</td>\n",
       "      <td>199.99</td>\n",
       "      <td>PENDING_PAYMENT</td>\n",
       "      <td>2013-07-25</td>\n",
       "      <td>5</td>\n",
       "    </tr>\n",
       "    <tr>\n",
       "      <th>2</th>\n",
       "      <td>2</td>\n",
       "      <td>502</td>\n",
       "      <td>250.00</td>\n",
       "      <td>PENDING_PAYMENT</td>\n",
       "      <td>2013-07-25</td>\n",
       "      <td>5</td>\n",
       "    </tr>\n",
       "    <tr>\n",
       "      <th>3</th>\n",
       "      <td>2</td>\n",
       "      <td>403</td>\n",
       "      <td>129.99</td>\n",
       "      <td>PENDING_PAYMENT</td>\n",
       "      <td>2013-07-25</td>\n",
       "      <td>5</td>\n",
       "    </tr>\n",
       "    <tr>\n",
       "      <th>4</th>\n",
       "      <td>4</td>\n",
       "      <td>897</td>\n",
       "      <td>49.98</td>\n",
       "      <td>CLOSED</td>\n",
       "      <td>2013-07-25</td>\n",
       "      <td>5</td>\n",
       "    </tr>\n",
       "  </tbody>\n",
       "</table>\n",
       "</div>"
      ],
      "text/plain": [
       "   orderId  orderItemProductId  orderItemSubTotal      orderStatus  orderDate  \\\n",
       "0        1                 957             299.98           CLOSED 2013-07-25   \n",
       "1        2                1073             199.99  PENDING_PAYMENT 2013-07-25   \n",
       "2        2                 502             250.00  PENDING_PAYMENT 2013-07-25   \n",
       "3        2                 403             129.99  PENDING_PAYMENT 2013-07-25   \n",
       "4        4                 897              49.98           CLOSED 2013-07-25   \n",
       "\n",
       "   Day  \n",
       "0    5  \n",
       "1    5  \n",
       "2    5  \n",
       "3    5  \n",
       "4    5  "
      ]
     },
     "execution_count": 37,
     "metadata": {},
     "output_type": "execute_result"
    }
   ],
   "source": [
    "df_day_of_week = orders_and_items_date.withColumn(\"orderDate\", \n",
    "                                F.to_timestamp(F.col(\"orderDate\"), \"yyyy-MM-dd HH:mm:ss.S\")) \\\n",
    ".withColumn(\"Day\", F.dayofweek(F.col(\"orderDate\")))\n",
    "\n",
    "df_day_of_week.limit(5).toPandas()"
   ]
  },
  {
   "cell_type": "code",
   "execution_count": 38,
   "metadata": {},
   "outputs": [
    {
     "data": {
      "text/html": [
       "<div>\n",
       "<style scoped>\n",
       "    .dataframe tbody tr th:only-of-type {\n",
       "        vertical-align: middle;\n",
       "    }\n",
       "\n",
       "    .dataframe tbody tr th {\n",
       "        vertical-align: top;\n",
       "    }\n",
       "\n",
       "    .dataframe thead th {\n",
       "        text-align: right;\n",
       "    }\n",
       "</style>\n",
       "<table border=\"1\" class=\"dataframe\">\n",
       "  <thead>\n",
       "    <tr style=\"text-align: right;\">\n",
       "      <th></th>\n",
       "      <th>Day</th>\n",
       "      <th>Sum_SubTotal</th>\n",
       "    </tr>\n",
       "  </thead>\n",
       "  <tbody>\n",
       "    <tr>\n",
       "      <th>0</th>\n",
       "      <td>6</td>\n",
       "      <td>5.065099e+06</td>\n",
       "    </tr>\n",
       "    <tr>\n",
       "      <th>1</th>\n",
       "      <td>5</td>\n",
       "      <td>4.878165e+06</td>\n",
       "    </tr>\n",
       "    <tr>\n",
       "      <th>2</th>\n",
       "      <td>7</td>\n",
       "      <td>4.862228e+06</td>\n",
       "    </tr>\n",
       "    <tr>\n",
       "      <th>3</th>\n",
       "      <td>3</td>\n",
       "      <td>4.809500e+06</td>\n",
       "    </tr>\n",
       "    <tr>\n",
       "      <th>4</th>\n",
       "      <td>4</td>\n",
       "      <td>4.805157e+06</td>\n",
       "    </tr>\n",
       "    <tr>\n",
       "      <th>5</th>\n",
       "      <td>1</td>\n",
       "      <td>4.750555e+06</td>\n",
       "    </tr>\n",
       "    <tr>\n",
       "      <th>6</th>\n",
       "      <td>2</td>\n",
       "      <td>4.455886e+06</td>\n",
       "    </tr>\n",
       "  </tbody>\n",
       "</table>\n",
       "</div>"
      ],
      "text/plain": [
       "   Day  Sum_SubTotal\n",
       "0    6  5.065099e+06\n",
       "1    5  4.878165e+06\n",
       "2    7  4.862228e+06\n",
       "3    3  4.809500e+06\n",
       "4    4  4.805157e+06\n",
       "5    1  4.750555e+06\n",
       "6    2  4.455886e+06"
      ]
     },
     "execution_count": 38,
     "metadata": {},
     "output_type": "execute_result"
    }
   ],
   "source": [
    "df_day_of_week.filter(\"orderStatus not in ('CANCELED')\") \\\n",
    ".groupBy('Day').agg(F.sum(\"orderItemSubTotal\").alias(\"Sum_SubTotal\")) \\\n",
    ".orderBy(F.desc(\"Sum_SubTotal\")) \\\n",
    ".limit(10).toPandas()"
   ]
  },
  {
   "cell_type": "code",
   "execution_count": 39,
   "metadata": {},
   "outputs": [],
   "source": [
    "# convert day to TR with udf\n",
    "def day_to_tr(input_day):\n",
    "    day_converter = {\n",
    "        1: \"Pazartesi\",\n",
    "        2: \"Salı\",\n",
    "        3: \"Çarşamba\",\n",
    "        4: \"Perşembe\",\n",
    "        5: \"Cuma\",\n",
    "        6: \"Cumartesi\",\n",
    "        7: \"Pazar\"\n",
    "    }\n",
    "    \n",
    "    return day_converter.get(input_day)"
   ]
  },
  {
   "cell_type": "code",
   "execution_count": 40,
   "metadata": {},
   "outputs": [
    {
     "data": {
      "text/plain": [
       "'Salı'"
      ]
     },
     "execution_count": 40,
     "metadata": {},
     "output_type": "execute_result"
    }
   ],
   "source": [
    "day_to_tr(2)"
   ]
  },
  {
   "cell_type": "code",
   "execution_count": 41,
   "metadata": {},
   "outputs": [],
   "source": [
    "day_to_tr_udf = spark.udf.register(\"day_to_tr_udf\", day_to_tr, StringType())"
   ]
  },
  {
   "cell_type": "code",
   "execution_count": 42,
   "metadata": {},
   "outputs": [
    {
     "data": {
      "text/html": [
       "<div>\n",
       "<style scoped>\n",
       "    .dataframe tbody tr th:only-of-type {\n",
       "        vertical-align: middle;\n",
       "    }\n",
       "\n",
       "    .dataframe tbody tr th {\n",
       "        vertical-align: top;\n",
       "    }\n",
       "\n",
       "    .dataframe thead th {\n",
       "        text-align: right;\n",
       "    }\n",
       "</style>\n",
       "<table border=\"1\" class=\"dataframe\">\n",
       "  <thead>\n",
       "    <tr style=\"text-align: right;\">\n",
       "      <th></th>\n",
       "      <th>Day</th>\n",
       "      <th>Sum_SubTotal</th>\n",
       "      <th>Day_TR</th>\n",
       "    </tr>\n",
       "  </thead>\n",
       "  <tbody>\n",
       "    <tr>\n",
       "      <th>0</th>\n",
       "      <td>6</td>\n",
       "      <td>5.065099e+06</td>\n",
       "      <td>Cumartesi</td>\n",
       "    </tr>\n",
       "    <tr>\n",
       "      <th>1</th>\n",
       "      <td>5</td>\n",
       "      <td>4.878165e+06</td>\n",
       "      <td>Cuma</td>\n",
       "    </tr>\n",
       "    <tr>\n",
       "      <th>2</th>\n",
       "      <td>7</td>\n",
       "      <td>4.862228e+06</td>\n",
       "      <td>Pazar</td>\n",
       "    </tr>\n",
       "    <tr>\n",
       "      <th>3</th>\n",
       "      <td>3</td>\n",
       "      <td>4.809500e+06</td>\n",
       "      <td>Çarşamba</td>\n",
       "    </tr>\n",
       "    <tr>\n",
       "      <th>4</th>\n",
       "      <td>4</td>\n",
       "      <td>4.805157e+06</td>\n",
       "      <td>Perşembe</td>\n",
       "    </tr>\n",
       "    <tr>\n",
       "      <th>5</th>\n",
       "      <td>1</td>\n",
       "      <td>4.750555e+06</td>\n",
       "      <td>Pazartesi</td>\n",
       "    </tr>\n",
       "    <tr>\n",
       "      <th>6</th>\n",
       "      <td>2</td>\n",
       "      <td>4.455886e+06</td>\n",
       "      <td>Salı</td>\n",
       "    </tr>\n",
       "  </tbody>\n",
       "</table>\n",
       "</div>"
      ],
      "text/plain": [
       "   Day  Sum_SubTotal     Day_TR\n",
       "0    6  5.065099e+06  Cumartesi\n",
       "1    5  4.878165e+06       Cuma\n",
       "2    7  4.862228e+06      Pazar\n",
       "3    3  4.809500e+06   Çarşamba\n",
       "4    4  4.805157e+06   Perşembe\n",
       "5    1  4.750555e+06  Pazartesi\n",
       "6    2  4.455886e+06       Salı"
      ]
     },
     "execution_count": 42,
     "metadata": {},
     "output_type": "execute_result"
    }
   ],
   "source": [
    "df_day_of_week.filter(\"orderStatus not in ('CANCELED')\") \\\n",
    ".groupBy('Day').agg(F.sum(\"orderItemSubTotal\").alias(\"Sum_SubTotal\")) \\\n",
    ".orderBy(F.desc(\"Sum_SubTotal\")) \\\n",
    ".withColumn(\"Day_TR\", day_to_tr_udf(F.col(\"Day\"))) \\\n",
    ".limit(10).toPandas()"
   ]
  },
  {
   "cell_type": "markdown",
   "metadata": {},
   "source": [
    "# 1.7. Bütün bu tablolardan mümkün olan en büyük tabloyu oluşturup hive test1 veri tabanına retail_all adında bir tabloya yazınız."
   ]
  },
  {
   "cell_type": "code",
   "execution_count": 43,
   "metadata": {},
   "outputs": [
    {
     "name": "stdout",
     "output_type": "stream",
     "text": [
      "categories.csv\tdepartments.csv  orders.csv\r\n",
      "customers.csv\torder_items.csv  products.csv\r\n"
     ]
    }
   ],
   "source": [
    "! ls /home/train/datasets/retail_db/"
   ]
  },
  {
   "cell_type": "code",
   "execution_count": 44,
   "metadata": {},
   "outputs": [
    {
     "data": {
      "text/html": [
       "<div>\n",
       "<style scoped>\n",
       "    .dataframe tbody tr th:only-of-type {\n",
       "        vertical-align: middle;\n",
       "    }\n",
       "\n",
       "    .dataframe tbody tr th {\n",
       "        vertical-align: top;\n",
       "    }\n",
       "\n",
       "    .dataframe thead th {\n",
       "        text-align: right;\n",
       "    }\n",
       "</style>\n",
       "<table border=\"1\" class=\"dataframe\">\n",
       "  <thead>\n",
       "    <tr style=\"text-align: right;\">\n",
       "      <th></th>\n",
       "      <th>categoryId</th>\n",
       "      <th>categoryDepartmentId</th>\n",
       "      <th>categoryName</th>\n",
       "    </tr>\n",
       "  </thead>\n",
       "  <tbody>\n",
       "    <tr>\n",
       "      <th>0</th>\n",
       "      <td>49</td>\n",
       "      <td>8</td>\n",
       "      <td>MLB</td>\n",
       "    </tr>\n",
       "    <tr>\n",
       "      <th>1</th>\n",
       "      <td>50</td>\n",
       "      <td>8</td>\n",
       "      <td>NFL</td>\n",
       "    </tr>\n",
       "    <tr>\n",
       "      <th>2</th>\n",
       "      <td>51</td>\n",
       "      <td>8</td>\n",
       "      <td>NHL</td>\n",
       "    </tr>\n",
       "    <tr>\n",
       "      <th>3</th>\n",
       "      <td>52</td>\n",
       "      <td>8</td>\n",
       "      <td>NBA</td>\n",
       "    </tr>\n",
       "    <tr>\n",
       "      <th>4</th>\n",
       "      <td>53</td>\n",
       "      <td>8</td>\n",
       "      <td>NCAA</td>\n",
       "    </tr>\n",
       "    <tr>\n",
       "      <th>5</th>\n",
       "      <td>54</td>\n",
       "      <td>8</td>\n",
       "      <td>MLS</td>\n",
       "    </tr>\n",
       "    <tr>\n",
       "      <th>6</th>\n",
       "      <td>55</td>\n",
       "      <td>8</td>\n",
       "      <td>International Soccer</td>\n",
       "    </tr>\n",
       "    <tr>\n",
       "      <th>7</th>\n",
       "      <td>56</td>\n",
       "      <td>8</td>\n",
       "      <td>World Cup Shop</td>\n",
       "    </tr>\n",
       "  </tbody>\n",
       "</table>\n",
       "</div>"
      ],
      "text/plain": [
       "   categoryId  categoryDepartmentId          categoryName\n",
       "0          49                     8                   MLB\n",
       "1          50                     8                   NFL\n",
       "2          51                     8                   NHL\n",
       "3          52                     8                   NBA\n",
       "4          53                     8                  NCAA\n",
       "5          54                     8                   MLS\n",
       "6          55                     8  International Soccer\n",
       "7          56                     8        World Cup Shop"
      ]
     },
     "execution_count": 44,
     "metadata": {},
     "output_type": "execute_result"
    }
   ],
   "source": [
    "categories.filter(\"categoryDepartmentId = 8\").limit(8).toPandas().head(8)"
   ]
  },
  {
   "cell_type": "code",
   "execution_count": 45,
   "metadata": {},
   "outputs": [
    {
     "data": {
      "text/html": [
       "<div>\n",
       "<style scoped>\n",
       "    .dataframe tbody tr th:only-of-type {\n",
       "        vertical-align: middle;\n",
       "    }\n",
       "\n",
       "    .dataframe tbody tr th {\n",
       "        vertical-align: top;\n",
       "    }\n",
       "\n",
       "    .dataframe thead th {\n",
       "        text-align: right;\n",
       "    }\n",
       "</style>\n",
       "<table border=\"1\" class=\"dataframe\">\n",
       "  <thead>\n",
       "    <tr style=\"text-align: right;\">\n",
       "      <th></th>\n",
       "      <th>departmentId</th>\n",
       "      <th>departmentName</th>\n",
       "    </tr>\n",
       "  </thead>\n",
       "  <tbody>\n",
       "    <tr>\n",
       "      <th>0</th>\n",
       "      <td>2</td>\n",
       "      <td>Fitness</td>\n",
       "    </tr>\n",
       "    <tr>\n",
       "      <th>1</th>\n",
       "      <td>3</td>\n",
       "      <td>Footwear</td>\n",
       "    </tr>\n",
       "    <tr>\n",
       "      <th>2</th>\n",
       "      <td>4</td>\n",
       "      <td>Apparel</td>\n",
       "    </tr>\n",
       "    <tr>\n",
       "      <th>3</th>\n",
       "      <td>5</td>\n",
       "      <td>Golf</td>\n",
       "    </tr>\n",
       "    <tr>\n",
       "      <th>4</th>\n",
       "      <td>6</td>\n",
       "      <td>Outdoors</td>\n",
       "    </tr>\n",
       "    <tr>\n",
       "      <th>5</th>\n",
       "      <td>7</td>\n",
       "      <td>Fan Shop</td>\n",
       "    </tr>\n",
       "    <tr>\n",
       "      <th>6</th>\n",
       "      <td>8</td>\n",
       "      <td>Others</td>\n",
       "    </tr>\n",
       "  </tbody>\n",
       "</table>\n",
       "</div>"
      ],
      "text/plain": [
       "   departmentId departmentName\n",
       "0             2        Fitness\n",
       "1             3       Footwear\n",
       "2             4        Apparel\n",
       "3             5           Golf\n",
       "4             6       Outdoors\n",
       "5             7       Fan Shop\n",
       "6             8         Others"
      ]
     },
     "execution_count": 45,
     "metadata": {},
     "output_type": "execute_result"
    }
   ],
   "source": [
    "departments.limit(8).toPandas().head(8)"
   ]
  },
  {
   "cell_type": "code",
   "execution_count": 46,
   "metadata": {},
   "outputs": [
    {
     "data": {
      "text/html": [
       "<div>\n",
       "<style scoped>\n",
       "    .dataframe tbody tr th:only-of-type {\n",
       "        vertical-align: middle;\n",
       "    }\n",
       "\n",
       "    .dataframe tbody tr th {\n",
       "        vertical-align: top;\n",
       "    }\n",
       "\n",
       "    .dataframe thead th {\n",
       "        text-align: right;\n",
       "    }\n",
       "</style>\n",
       "<table border=\"1\" class=\"dataframe\">\n",
       "  <thead>\n",
       "    <tr style=\"text-align: right;\">\n",
       "      <th></th>\n",
       "      <th>orderId</th>\n",
       "      <th>orderDate</th>\n",
       "      <th>orderCustomerId</th>\n",
       "      <th>orderStatus</th>\n",
       "    </tr>\n",
       "  </thead>\n",
       "  <tbody>\n",
       "    <tr>\n",
       "      <th>0</th>\n",
       "      <td>1</td>\n",
       "      <td>2013-07-25 00:00:00.0</td>\n",
       "      <td>11599</td>\n",
       "      <td>CLOSED</td>\n",
       "    </tr>\n",
       "  </tbody>\n",
       "</table>\n",
       "</div>"
      ],
      "text/plain": [
       "   orderId              orderDate  orderCustomerId orderStatus\n",
       "0        1  2013-07-25 00:00:00.0            11599      CLOSED"
      ]
     },
     "execution_count": 46,
     "metadata": {},
     "output_type": "execute_result"
    }
   ],
   "source": [
    "orders.limit(1).toPandas()"
   ]
  },
  {
   "cell_type": "code",
   "execution_count": 47,
   "metadata": {},
   "outputs": [
    {
     "data": {
      "text/html": [
       "<div>\n",
       "<style scoped>\n",
       "    .dataframe tbody tr th:only-of-type {\n",
       "        vertical-align: middle;\n",
       "    }\n",
       "\n",
       "    .dataframe tbody tr th {\n",
       "        vertical-align: top;\n",
       "    }\n",
       "\n",
       "    .dataframe thead th {\n",
       "        text-align: right;\n",
       "    }\n",
       "</style>\n",
       "<table border=\"1\" class=\"dataframe\">\n",
       "  <thead>\n",
       "    <tr style=\"text-align: right;\">\n",
       "      <th></th>\n",
       "      <th>customerId</th>\n",
       "      <th>customerFName</th>\n",
       "      <th>customerLName</th>\n",
       "      <th>customerEmail</th>\n",
       "      <th>customerPassword</th>\n",
       "      <th>customerStreet</th>\n",
       "      <th>customerCity</th>\n",
       "      <th>customerState</th>\n",
       "      <th>customerZipcode</th>\n",
       "    </tr>\n",
       "  </thead>\n",
       "  <tbody>\n",
       "    <tr>\n",
       "      <th>0</th>\n",
       "      <td>1</td>\n",
       "      <td>Richard</td>\n",
       "      <td>Hernandez</td>\n",
       "      <td>XXXXXXXXX</td>\n",
       "      <td>XXXXXXXXX</td>\n",
       "      <td>6303 Heather Plaza</td>\n",
       "      <td>Brownsville</td>\n",
       "      <td>TX</td>\n",
       "      <td>78521</td>\n",
       "    </tr>\n",
       "  </tbody>\n",
       "</table>\n",
       "</div>"
      ],
      "text/plain": [
       "   customerId customerFName customerLName customerEmail customerPassword  \\\n",
       "0           1       Richard     Hernandez     XXXXXXXXX        XXXXXXXXX   \n",
       "\n",
       "       customerStreet customerCity customerState  customerZipcode  \n",
       "0  6303 Heather Plaza  Brownsville            TX            78521  "
      ]
     },
     "execution_count": 47,
     "metadata": {},
     "output_type": "execute_result"
    }
   ],
   "source": [
    "customers.limit(1).toPandas()"
   ]
  },
  {
   "cell_type": "code",
   "execution_count": 48,
   "metadata": {},
   "outputs": [
    {
     "data": {
      "text/html": [
       "<div>\n",
       "<style scoped>\n",
       "    .dataframe tbody tr th:only-of-type {\n",
       "        vertical-align: middle;\n",
       "    }\n",
       "\n",
       "    .dataframe tbody tr th {\n",
       "        vertical-align: top;\n",
       "    }\n",
       "\n",
       "    .dataframe thead th {\n",
       "        text-align: right;\n",
       "    }\n",
       "</style>\n",
       "<table border=\"1\" class=\"dataframe\">\n",
       "  <thead>\n",
       "    <tr style=\"text-align: right;\">\n",
       "      <th></th>\n",
       "      <th>orderItemName</th>\n",
       "      <th>orderItemOrderId</th>\n",
       "      <th>orderItemProductId</th>\n",
       "      <th>orderItemQuantity</th>\n",
       "      <th>orderItemSubTotal</th>\n",
       "      <th>orderItemProductPrice</th>\n",
       "    </tr>\n",
       "  </thead>\n",
       "  <tbody>\n",
       "    <tr>\n",
       "      <th>0</th>\n",
       "      <td>1</td>\n",
       "      <td>1</td>\n",
       "      <td>957</td>\n",
       "      <td>1</td>\n",
       "      <td>299.98</td>\n",
       "      <td>299.98</td>\n",
       "    </tr>\n",
       "  </tbody>\n",
       "</table>\n",
       "</div>"
      ],
      "text/plain": [
       "   orderItemName  orderItemOrderId  orderItemProductId  orderItemQuantity  \\\n",
       "0              1                 1                 957                  1   \n",
       "\n",
       "   orderItemSubTotal  orderItemProductPrice  \n",
       "0             299.98                 299.98  "
      ]
     },
     "execution_count": 48,
     "metadata": {},
     "output_type": "execute_result"
    }
   ],
   "source": [
    "order_items.limit(1).toPandas()"
   ]
  },
  {
   "cell_type": "code",
   "execution_count": 49,
   "metadata": {},
   "outputs": [
    {
     "data": {
      "text/html": [
       "<div>\n",
       "<style scoped>\n",
       "    .dataframe tbody tr th:only-of-type {\n",
       "        vertical-align: middle;\n",
       "    }\n",
       "\n",
       "    .dataframe tbody tr th {\n",
       "        vertical-align: top;\n",
       "    }\n",
       "\n",
       "    .dataframe thead th {\n",
       "        text-align: right;\n",
       "    }\n",
       "</style>\n",
       "<table border=\"1\" class=\"dataframe\">\n",
       "  <thead>\n",
       "    <tr style=\"text-align: right;\">\n",
       "      <th></th>\n",
       "      <th>productId</th>\n",
       "      <th>productCategoryId</th>\n",
       "      <th>productName</th>\n",
       "      <th>productDescription</th>\n",
       "      <th>productPrice</th>\n",
       "      <th>productImage</th>\n",
       "    </tr>\n",
       "  </thead>\n",
       "  <tbody>\n",
       "    <tr>\n",
       "      <th>0</th>\n",
       "      <td>1</td>\n",
       "      <td>2</td>\n",
       "      <td>Quest Q64 10 FT. x 10 FT. Slant Leg Instant U</td>\n",
       "      <td>None</td>\n",
       "      <td>59.98</td>\n",
       "      <td>http://images.acmesports.sports/Quest+Q64+10+F...</td>\n",
       "    </tr>\n",
       "  </tbody>\n",
       "</table>\n",
       "</div>"
      ],
      "text/plain": [
       "   productId  productCategoryId  \\\n",
       "0          1                  2   \n",
       "\n",
       "                                     productName productDescription  \\\n",
       "0  Quest Q64 10 FT. x 10 FT. Slant Leg Instant U               None   \n",
       "\n",
       "   productPrice                                       productImage  \n",
       "0         59.98  http://images.acmesports.sports/Quest+Q64+10+F...  "
      ]
     },
     "execution_count": 49,
     "metadata": {},
     "output_type": "execute_result"
    }
   ],
   "source": [
    "products.limit(1).toPandas()"
   ]
  },
  {
   "cell_type": "code",
   "execution_count": 50,
   "metadata": {},
   "outputs": [
    {
     "name": "stdout",
     "output_type": "stream",
     "text": [
      "+--------------------+\n",
      "|categoryDepartmentId|\n",
      "+--------------------+\n",
      "|                   6|\n",
      "|                   3|\n",
      "|                   5|\n",
      "|                   4|\n",
      "|                   8|\n",
      "|                   7|\n",
      "|                   2|\n",
      "+--------------------+\n",
      "\n"
     ]
    }
   ],
   "source": [
    "categories.select(\"categoryDepartmentId\").distinct().show()"
   ]
  },
  {
   "cell_type": "code",
   "execution_count": 51,
   "metadata": {},
   "outputs": [
    {
     "name": "stdout",
     "output_type": "stream",
     "text": [
      "+------------+\n",
      "|departmentId|\n",
      "+------------+\n",
      "|           6|\n",
      "|           3|\n",
      "|           5|\n",
      "|           4|\n",
      "|           8|\n",
      "|           7|\n",
      "|           2|\n",
      "+------------+\n",
      "\n"
     ]
    }
   ],
   "source": [
    "departments.select(\"departmentId\").distinct().show()"
   ]
  },
  {
   "cell_type": "code",
   "execution_count": 52,
   "metadata": {},
   "outputs": [
    {
     "name": "stdout",
     "output_type": "stream",
     "text": [
      "7\n",
      "58\n"
     ]
    }
   ],
   "source": [
    "print(departments.count())\n",
    "print(categories.count())"
   ]
  },
  {
   "cell_type": "code",
   "execution_count": 53,
   "metadata": {},
   "outputs": [
    {
     "data": {
      "text/html": [
       "<div>\n",
       "<style scoped>\n",
       "    .dataframe tbody tr th:only-of-type {\n",
       "        vertical-align: middle;\n",
       "    }\n",
       "\n",
       "    .dataframe tbody tr th {\n",
       "        vertical-align: top;\n",
       "    }\n",
       "\n",
       "    .dataframe thead th {\n",
       "        text-align: right;\n",
       "    }\n",
       "</style>\n",
       "<table border=\"1\" class=\"dataframe\">\n",
       "  <thead>\n",
       "    <tr style=\"text-align: right;\">\n",
       "      <th></th>\n",
       "      <th>productId</th>\n",
       "      <th>productCategoryId</th>\n",
       "      <th>productName</th>\n",
       "      <th>productDescription</th>\n",
       "      <th>productPrice</th>\n",
       "      <th>productImage</th>\n",
       "      <th>categoryId</th>\n",
       "      <th>categoryDepartmentId</th>\n",
       "      <th>categoryName</th>\n",
       "      <th>departmentId</th>\n",
       "      <th>departmentName</th>\n",
       "    </tr>\n",
       "  </thead>\n",
       "  <tbody>\n",
       "    <tr>\n",
       "      <th>0</th>\n",
       "      <td>1</td>\n",
       "      <td>2</td>\n",
       "      <td>Quest Q64 10 FT. x 10 FT. Slant Leg Instant U</td>\n",
       "      <td>None</td>\n",
       "      <td>59.98</td>\n",
       "      <td>http://images.acmesports.sports/Quest+Q64+10+F...</td>\n",
       "      <td>2</td>\n",
       "      <td>2</td>\n",
       "      <td>Soccer</td>\n",
       "      <td>2</td>\n",
       "      <td>Fitness</td>\n",
       "    </tr>\n",
       "  </tbody>\n",
       "</table>\n",
       "</div>"
      ],
      "text/plain": [
       "   productId  productCategoryId  \\\n",
       "0          1                  2   \n",
       "\n",
       "                                     productName productDescription  \\\n",
       "0  Quest Q64 10 FT. x 10 FT. Slant Leg Instant U               None   \n",
       "\n",
       "   productPrice                                       productImage  \\\n",
       "0         59.98  http://images.acmesports.sports/Quest+Q64+10+F...   \n",
       "\n",
       "   categoryId  categoryDepartmentId categoryName  departmentId departmentName  \n",
       "0           2                     2       Soccer             2        Fitness  "
      ]
     },
     "execution_count": 53,
     "metadata": {},
     "output_type": "execute_result"
    }
   ],
   "source": [
    "cat_dep_prod = products.join(categories, products.productCategoryId == categories.categoryId, \"left\") \\\n",
    ".join(departments, categories.categoryDepartmentId == departments.departmentId, \"left\")\n",
    "\n",
    "\n",
    "cat_dep_prod.limit(1).toPandas()"
   ]
  },
  {
   "cell_type": "code",
   "execution_count": 54,
   "metadata": {},
   "outputs": [
    {
     "data": {
      "text/plain": [
       "1345"
      ]
     },
     "execution_count": 54,
     "metadata": {},
     "output_type": "execute_result"
    }
   ],
   "source": [
    "cat_dep_prod.count()"
   ]
  },
  {
   "cell_type": "code",
   "execution_count": 55,
   "metadata": {},
   "outputs": [
    {
     "name": "stdout",
     "output_type": "stream",
     "text": [
      "7\n",
      "58\n",
      "1345\n",
      "1345\n"
     ]
    }
   ],
   "source": [
    "print(departments.count())\n",
    "print(categories.count())\n",
    "print(products.count())\n",
    "print(cat_dep_prod.count())"
   ]
  },
  {
   "cell_type": "code",
   "execution_count": null,
   "metadata": {},
   "outputs": [],
   "source": []
  },
  {
   "cell_type": "code",
   "execution_count": 56,
   "metadata": {},
   "outputs": [],
   "source": [
    "orders_and_items_cust = order_items.join(orders, order_items['orderItemOrderId'] == orders['orderId']) \\\n",
    ".join(customers, orders.orderCustomerId == customers.customerId)"
   ]
  },
  {
   "cell_type": "code",
   "execution_count": 57,
   "metadata": {},
   "outputs": [
    {
     "data": {
      "text/html": [
       "<div>\n",
       "<style scoped>\n",
       "    .dataframe tbody tr th:only-of-type {\n",
       "        vertical-align: middle;\n",
       "    }\n",
       "\n",
       "    .dataframe tbody tr th {\n",
       "        vertical-align: top;\n",
       "    }\n",
       "\n",
       "    .dataframe thead th {\n",
       "        text-align: right;\n",
       "    }\n",
       "</style>\n",
       "<table border=\"1\" class=\"dataframe\">\n",
       "  <thead>\n",
       "    <tr style=\"text-align: right;\">\n",
       "      <th></th>\n",
       "      <th>orderItemName</th>\n",
       "      <th>orderItemOrderId</th>\n",
       "      <th>orderItemProductId</th>\n",
       "      <th>orderItemQuantity</th>\n",
       "      <th>orderItemSubTotal</th>\n",
       "      <th>orderItemProductPrice</th>\n",
       "      <th>orderId</th>\n",
       "      <th>orderDate</th>\n",
       "      <th>orderCustomerId</th>\n",
       "      <th>orderStatus</th>\n",
       "      <th>customerId</th>\n",
       "      <th>customerFName</th>\n",
       "      <th>customerLName</th>\n",
       "      <th>customerEmail</th>\n",
       "      <th>customerPassword</th>\n",
       "      <th>customerStreet</th>\n",
       "      <th>customerCity</th>\n",
       "      <th>customerState</th>\n",
       "      <th>customerZipcode</th>\n",
       "    </tr>\n",
       "  </thead>\n",
       "  <tbody>\n",
       "    <tr>\n",
       "      <th>0</th>\n",
       "      <td>1</td>\n",
       "      <td>1</td>\n",
       "      <td>957</td>\n",
       "      <td>1</td>\n",
       "      <td>299.98</td>\n",
       "      <td>299.98</td>\n",
       "      <td>1</td>\n",
       "      <td>2013-07-25 00:00:00.0</td>\n",
       "      <td>11599</td>\n",
       "      <td>CLOSED</td>\n",
       "      <td>11599</td>\n",
       "      <td>Mary</td>\n",
       "      <td>Malone</td>\n",
       "      <td>XXXXXXXXX</td>\n",
       "      <td>XXXXXXXXX</td>\n",
       "      <td>8708 Indian Horse Highway</td>\n",
       "      <td>Hickory</td>\n",
       "      <td>NC</td>\n",
       "      <td>28601</td>\n",
       "    </tr>\n",
       "  </tbody>\n",
       "</table>\n",
       "</div>"
      ],
      "text/plain": [
       "   orderItemName  orderItemOrderId  orderItemProductId  orderItemQuantity  \\\n",
       "0              1                 1                 957                  1   \n",
       "\n",
       "   orderItemSubTotal  orderItemProductPrice  orderId              orderDate  \\\n",
       "0             299.98                 299.98        1  2013-07-25 00:00:00.0   \n",
       "\n",
       "   orderCustomerId orderStatus  customerId customerFName customerLName  \\\n",
       "0            11599      CLOSED       11599          Mary        Malone   \n",
       "\n",
       "  customerEmail customerPassword             customerStreet customerCity  \\\n",
       "0     XXXXXXXXX        XXXXXXXXX  8708 Indian Horse Highway      Hickory   \n",
       "\n",
       "  customerState  customerZipcode  \n",
       "0            NC            28601  "
      ]
     },
     "execution_count": 57,
     "metadata": {},
     "output_type": "execute_result"
    }
   ],
   "source": [
    "orders_and_items_cust.limit(1).toPandas()"
   ]
  },
  {
   "cell_type": "code",
   "execution_count": 58,
   "metadata": {},
   "outputs": [
    {
     "data": {
      "text/plain": [
       "172198"
      ]
     },
     "execution_count": 58,
     "metadata": {},
     "output_type": "execute_result"
    }
   ],
   "source": [
    "orders_and_items_cust.count()"
   ]
  },
  {
   "cell_type": "code",
   "execution_count": 59,
   "metadata": {},
   "outputs": [],
   "source": [
    "all_in_one = orders_and_items_cust.join(cat_dep_prod, orders_and_items_cust.orderItemProductId == cat_dep_prod.productId)"
   ]
  },
  {
   "cell_type": "code",
   "execution_count": 60,
   "metadata": {},
   "outputs": [
    {
     "data": {
      "text/plain": [
       "172198"
      ]
     },
     "execution_count": 60,
     "metadata": {},
     "output_type": "execute_result"
    }
   ],
   "source": [
    "all_in_one.count()"
   ]
  },
  {
   "cell_type": "code",
   "execution_count": 61,
   "metadata": {},
   "outputs": [
    {
     "data": {
      "text/html": [
       "<div>\n",
       "<style scoped>\n",
       "    .dataframe tbody tr th:only-of-type {\n",
       "        vertical-align: middle;\n",
       "    }\n",
       "\n",
       "    .dataframe tbody tr th {\n",
       "        vertical-align: top;\n",
       "    }\n",
       "\n",
       "    .dataframe thead th {\n",
       "        text-align: right;\n",
       "    }\n",
       "</style>\n",
       "<table border=\"1\" class=\"dataframe\">\n",
       "  <thead>\n",
       "    <tr style=\"text-align: right;\">\n",
       "      <th></th>\n",
       "      <th>orderItemName</th>\n",
       "      <th>orderItemOrderId</th>\n",
       "      <th>orderItemProductId</th>\n",
       "      <th>orderItemQuantity</th>\n",
       "      <th>orderItemSubTotal</th>\n",
       "      <th>orderItemProductPrice</th>\n",
       "      <th>orderId</th>\n",
       "      <th>orderDate</th>\n",
       "      <th>orderCustomerId</th>\n",
       "      <th>orderStatus</th>\n",
       "      <th>...</th>\n",
       "      <th>productCategoryId</th>\n",
       "      <th>productName</th>\n",
       "      <th>productDescription</th>\n",
       "      <th>productPrice</th>\n",
       "      <th>productImage</th>\n",
       "      <th>categoryId</th>\n",
       "      <th>categoryDepartmentId</th>\n",
       "      <th>categoryName</th>\n",
       "      <th>departmentId</th>\n",
       "      <th>departmentName</th>\n",
       "    </tr>\n",
       "  </thead>\n",
       "  <tbody>\n",
       "    <tr>\n",
       "      <th>0</th>\n",
       "      <td>144513</td>\n",
       "      <td>57760</td>\n",
       "      <td>858</td>\n",
       "      <td>1</td>\n",
       "      <td>199.99</td>\n",
       "      <td>199.99</td>\n",
       "      <td>57760</td>\n",
       "      <td>2013-07-25 00:00:00.0</td>\n",
       "      <td>8330</td>\n",
       "      <td>PENDING_PAYMENT</td>\n",
       "      <td>...</td>\n",
       "      <td>38</td>\n",
       "      <td>GolfBuddy VT3 GPS Watch</td>\n",
       "      <td>None</td>\n",
       "      <td>199.99</td>\n",
       "      <td>http://images.acmesports.sports/GolfBuddy+VT3+...</td>\n",
       "      <td>38</td>\n",
       "      <td>6</td>\n",
       "      <td>Kids' Golf Clubs</td>\n",
       "      <td>6</td>\n",
       "      <td>Outdoors</td>\n",
       "    </tr>\n",
       "    <tr>\n",
       "      <th>1</th>\n",
       "      <td>144738</td>\n",
       "      <td>57847</td>\n",
       "      <td>858</td>\n",
       "      <td>1</td>\n",
       "      <td>199.99</td>\n",
       "      <td>199.99</td>\n",
       "      <td>57847</td>\n",
       "      <td>2013-07-28 00:00:00.0</td>\n",
       "      <td>9548</td>\n",
       "      <td>COMPLETE</td>\n",
       "      <td>...</td>\n",
       "      <td>38</td>\n",
       "      <td>GolfBuddy VT3 GPS Watch</td>\n",
       "      <td>None</td>\n",
       "      <td>199.99</td>\n",
       "      <td>http://images.acmesports.sports/GolfBuddy+VT3+...</td>\n",
       "      <td>38</td>\n",
       "      <td>6</td>\n",
       "      <td>Kids' Golf Clubs</td>\n",
       "      <td>6</td>\n",
       "      <td>Outdoors</td>\n",
       "    </tr>\n",
       "  </tbody>\n",
       "</table>\n",
       "<p>2 rows × 30 columns</p>\n",
       "</div>"
      ],
      "text/plain": [
       "   orderItemName  orderItemOrderId  orderItemProductId  orderItemQuantity  \\\n",
       "0         144513             57760                 858                  1   \n",
       "1         144738             57847                 858                  1   \n",
       "\n",
       "   orderItemSubTotal  orderItemProductPrice  orderId              orderDate  \\\n",
       "0             199.99                 199.99    57760  2013-07-25 00:00:00.0   \n",
       "1             199.99                 199.99    57847  2013-07-28 00:00:00.0   \n",
       "\n",
       "   orderCustomerId      orderStatus  ...  productCategoryId  \\\n",
       "0             8330  PENDING_PAYMENT  ...                 38   \n",
       "1             9548         COMPLETE  ...                 38   \n",
       "\n",
       "               productName productDescription productPrice  \\\n",
       "0  GolfBuddy VT3 GPS Watch               None       199.99   \n",
       "1  GolfBuddy VT3 GPS Watch               None       199.99   \n",
       "\n",
       "                                        productImage categoryId  \\\n",
       "0  http://images.acmesports.sports/GolfBuddy+VT3+...         38   \n",
       "1  http://images.acmesports.sports/GolfBuddy+VT3+...         38   \n",
       "\n",
       "  categoryDepartmentId      categoryName  departmentId  departmentName  \n",
       "0                    6  Kids' Golf Clubs             6        Outdoors  \n",
       "1                    6  Kids' Golf Clubs             6        Outdoors  \n",
       "\n",
       "[2 rows x 30 columns]"
      ]
     },
     "execution_count": 61,
     "metadata": {},
     "output_type": "execute_result"
    }
   ],
   "source": [
    "all_in_one.limit(2).toPandas()"
   ]
  },
  {
   "cell_type": "code",
   "execution_count": 62,
   "metadata": {},
   "outputs": [],
   "source": [
    "all_in_one.write.format(\"orc\") \\\n",
    ".mode(\"overwrite\") \\\n",
    ".saveAsTable(\"test1.retail_all\")"
   ]
  },
  {
   "cell_type": "code",
   "execution_count": 63,
   "metadata": {},
   "outputs": [],
   "source": [
    "spark.stop()"
   ]
  },
  {
   "cell_type": "code",
   "execution_count": null,
   "metadata": {},
   "outputs": [],
   "source": []
  }
 ],
 "metadata": {
  "kernelspec": {
   "display_name": "Python 3",
   "language": "python",
   "name": "python3"
  },
  "language_info": {
   "codemirror_mode": {
    "name": "ipython",
    "version": 3
   },
   "file_extension": ".py",
   "mimetype": "text/x-python",
   "name": "python",
   "nbconvert_exporter": "python",
   "pygments_lexer": "ipython3",
   "version": "3.8.12"
  }
 },
 "nbformat": 4,
 "nbformat_minor": 4
}
