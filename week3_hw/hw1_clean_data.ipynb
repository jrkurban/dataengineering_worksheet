{
 "cells": [
  {
   "cell_type": "code",
   "execution_count": 3,
   "id": "a1e11b15-f590-4eeb-94dc-291a2fa784a0",
   "metadata": {
    "tags": []
   },
   "outputs": [],
   "source": [
    "from pyspark.sql import SparkSession, functions as F\n",
    "from pyspark.sql.types import * \n",
    "from pyspark.sql.functions import regexp_replace"
   ]
  },
  {
   "cell_type": "code",
   "execution_count": 4,
   "id": "89ed500f-8a30-4b5c-a513-361009e6bfcc",
   "metadata": {
    "tags": []
   },
   "outputs": [
    {
     "name": "stderr",
     "output_type": "stream",
     "text": [
      "WARNING: An illegal reflective access operation has occurred\n",
      "WARNING: Illegal reflective access by org.apache.spark.unsafe.Platform (file:/opt/manual/spark-3.1.1-bin-hadoop3.2/jars/spark-unsafe_2.12-3.1.1.jar) to constructor java.nio.DirectByteBuffer(long,int)\n",
      "WARNING: Please consider reporting this to the maintainers of org.apache.spark.unsafe.Platform\n",
      "WARNING: Use --illegal-access=warn to enable warnings of further illegal reflective access operations\n",
      "WARNING: All illegal access operations will be denied in a future release\n",
      "2023-02-22 19:30:40,985 WARN util.NativeCodeLoader: Unable to load native-hadoop library for your platform... using builtin-java classes where applicable\n",
      "Setting default log level to \"WARN\".\n",
      "To adjust logging level use sc.setLogLevel(newLevel). For SparkR, use setLogLevel(newLevel).\n",
      "2023-02-22 19:30:45,055 WARN util.Utils: Service 'SparkUI' could not bind on port 4040. Attempting port 4041.\n"
     ]
    }
   ],
   "source": [
    "spark = SparkSession.builder \\\n",
    ".master(\"local[2]\") \\\n",
    ".appName(\"Clean_Data\") \\\n",
    ".getOrCreate()"
   ]
  },
  {
   "cell_type": "code",
   "execution_count": 3,
   "id": "9414005a-5e9f-4f8b-bcc2-b6dd51557b00",
   "metadata": {
    "tags": []
   },
   "outputs": [
    {
     "name": "stdout",
     "output_type": "stream",
     "text": [
      "--2023-02-22 14:43:23--  https://github.com/erkansirin78/datasets/raw/master/dirty_store_transactions.csv\n",
      "Resolving github.com (github.com)... 140.82.121.4\n",
      "Connecting to github.com (github.com)|140.82.121.4|:443... connected.\n",
      "HTTP request sent, awaiting response... 302 Found\n",
      "Location: https://raw.githubusercontent.com/erkansirin78/datasets/master/dirty_store_transactions.csv [following]\n",
      "--2023-02-22 14:43:24--  https://raw.githubusercontent.com/erkansirin78/datasets/master/dirty_store_transactions.csv\n",
      "Resolving raw.githubusercontent.com (raw.githubusercontent.com)... 185.199.111.133, 185.199.109.133, 185.199.110.133, ...\n",
      "Connecting to raw.githubusercontent.com (raw.githubusercontent.com)|185.199.111.133|:443... connected.\n",
      "HTTP request sent, awaiting response... 200 OK\n",
      "Length: 2609524 (2.5M) [text/plain]\n",
      "Saving to: ‘/home/train/datasets/dirty_store_transactions.csv’\n",
      "\n",
      "100%[======================================>] 2,609,524   3.15MB/s   in 0.8s   \n",
      "\n",
      "2023-02-22 14:43:25 (3.15 MB/s) - ‘/home/train/datasets/dirty_store_transactions.csv’ saved [2609524/2609524]\n",
      "\n"
     ]
    }
   ],
   "source": [
    "! wget -P /home/train/datasets/ \\\n",
    "https://github.com/erkansirin78/datasets/raw/master/dirty_store_transactions.csv"
   ]
  },
  {
   "cell_type": "markdown",
   "id": "b369d645-eb1f-48fd-945f-e829b481f43d",
   "metadata": {},
   "source": [
    "# Read Data"
   ]
  },
  {
   "cell_type": "code",
   "execution_count": 5,
   "id": "eb806e05-7c90-4788-8953-901f2f5e19cf",
   "metadata": {},
   "outputs": [
    {
     "name": "stderr",
     "output_type": "stream",
     "text": [
      "                                                                                \r"
     ]
    }
   ],
   "source": [
    "df = spark.read \\\n",
    ".format(\"csv\") \\\n",
    ".option(\"header\", True) \\\n",
    ".option(\"sep\", \",\") \\\n",
    ".option(\"inferSchema\", True) \\\n",
    ".load(\"file:///home/train/datasets/dirty_store_transactions.csv\")"
   ]
  },
  {
   "cell_type": "code",
   "execution_count": 7,
   "id": "b559951f-e802-4732-8838-4e92753909b5",
   "metadata": {
    "tags": []
   },
   "outputs": [
    {
     "data": {
      "text/html": [
       "<div>\n",
       "<style scoped>\n",
       "    .dataframe tbody tr th:only-of-type {\n",
       "        vertical-align: middle;\n",
       "    }\n",
       "\n",
       "    .dataframe tbody tr th {\n",
       "        vertical-align: top;\n",
       "    }\n",
       "\n",
       "    .dataframe thead th {\n",
       "        text-align: right;\n",
       "    }\n",
       "</style>\n",
       "<table border=\"1\" class=\"dataframe\">\n",
       "  <thead>\n",
       "    <tr style=\"text-align: right;\">\n",
       "      <th></th>\n",
       "      <th>STORE_ID</th>\n",
       "      <th>STORE_LOCATION</th>\n",
       "      <th>PRODUCT_CATEGORY</th>\n",
       "      <th>PRODUCT_ID</th>\n",
       "      <th>MRP</th>\n",
       "      <th>CP</th>\n",
       "      <th>DISCOUNT</th>\n",
       "      <th>SP</th>\n",
       "      <th>Date</th>\n",
       "    </tr>\n",
       "  </thead>\n",
       "  <tbody>\n",
       "    <tr>\n",
       "      <th>0</th>\n",
       "      <td>YR7220</td>\n",
       "      <td>New York(</td>\n",
       "      <td>Electronics</td>\n",
       "      <td>12254943</td>\n",
       "      <td>$31</td>\n",
       "      <td>$20.77</td>\n",
       "      <td>$1.86</td>\n",
       "      <td>$29.14</td>\n",
       "      <td>2019-11-26</td>\n",
       "    </tr>\n",
       "    <tr>\n",
       "      <th>1</th>\n",
       "      <td>YR7220</td>\n",
       "      <td>New York+</td>\n",
       "      <td>Furniture</td>\n",
       "      <td>72619323C</td>\n",
       "      <td>$15</td>\n",
       "      <td>$9.75</td>\n",
       "      <td>$1.5</td>\n",
       "      <td>$13.5</td>\n",
       "      <td>2019-11-26</td>\n",
       "    </tr>\n",
       "    <tr>\n",
       "      <th>2</th>\n",
       "      <td>YR7220</td>\n",
       "      <td>New York</td>\n",
       "      <td>Electronics</td>\n",
       "      <td>34161682B</td>\n",
       "      <td>$88</td>\n",
       "      <td>$62.48</td>\n",
       "      <td>$4.4</td>\n",
       "      <td>$83.6</td>\n",
       "      <td>2019-11-26</td>\n",
       "    </tr>\n",
       "    <tr>\n",
       "      <th>3</th>\n",
       "      <td>YR7220</td>\n",
       "      <td>New York!</td>\n",
       "      <td>Kitchen</td>\n",
       "      <td>79411621</td>\n",
       "      <td>$91</td>\n",
       "      <td>$58.24</td>\n",
       "      <td>$3.64</td>\n",
       "      <td>$87.36</td>\n",
       "      <td>2019-11-26</td>\n",
       "    </tr>\n",
       "    <tr>\n",
       "      <th>4</th>\n",
       "      <td>YR7220</td>\n",
       "      <td>New York</td>\n",
       "      <td>Fashion</td>\n",
       "      <td>39520263T</td>\n",
       "      <td>$85</td>\n",
       "      <td>$51</td>\n",
       "      <td>$2.55</td>\n",
       "      <td>$82.45</td>\n",
       "      <td>2019-11-26</td>\n",
       "    </tr>\n",
       "  </tbody>\n",
       "</table>\n",
       "</div>"
      ],
      "text/plain": [
       "  STORE_ID STORE_LOCATION PRODUCT_CATEGORY PRODUCT_ID  MRP      CP DISCOUNT  \\\n",
       "0   YR7220      New York(      Electronics   12254943  $31  $20.77    $1.86   \n",
       "1   YR7220      New York+        Furniture  72619323C  $15   $9.75     $1.5   \n",
       "2   YR7220      New York       Electronics  34161682B  $88  $62.48     $4.4   \n",
       "3   YR7220      New York!          Kitchen   79411621  $91  $58.24    $3.64   \n",
       "4   YR7220       New York          Fashion  39520263T  $85     $51    $2.55   \n",
       "\n",
       "       SP        Date  \n",
       "0  $29.14  2019-11-26  \n",
       "1   $13.5  2019-11-26  \n",
       "2   $83.6  2019-11-26  \n",
       "3  $87.36  2019-11-26  \n",
       "4  $82.45  2019-11-26  "
      ]
     },
     "execution_count": 7,
     "metadata": {},
     "output_type": "execute_result"
    }
   ],
   "source": [
    "df.limit(5).toPandas()"
   ]
  },
  {
   "cell_type": "code",
   "execution_count": 8,
   "id": "42150fde-b84e-4b23-abde-310abc582cdc",
   "metadata": {
    "tags": []
   },
   "outputs": [
    {
     "name": "stdout",
     "output_type": "stream",
     "text": [
      "+--------+--------------+----------------+----------+---+------+--------+------+----------+\n",
      "|STORE_ID|STORE_LOCATION|PRODUCT_CATEGORY|PRODUCT_ID|MRP|    CP|DISCOUNT|    SP|      Date|\n",
      "+--------+--------------+----------------+----------+---+------+--------+------+----------+\n",
      "|  YR7220|     New York(|     Electronics|  12254943|$31|$20.77|   $1.86|$29.14|2019-11-26|\n",
      "|  YR7220|     New York+|       Furniture| 72619323C|$15| $9.75|    $1.5| $13.5|2019-11-26|\n",
      "|  YR7220|     New York |     Electronics| 34161682B|$88|$62.48|    $4.4| $83.6|2019-11-26|\n",
      "|  YR7220|     New York!|         Kitchen|  79411621|$91|$58.24|   $3.64|$87.36|2019-11-26|\n",
      "|  YR7220|      New York|         Fashion| 39520263T|$85|   $51|   $2.55|$82.45|2019-11-26|\n",
      "|  YR7220|      New York|         Kitchen|  93809204|$37|$24.05|   $0.74|$36.26|2019-11-26|\n",
      "|  YR7220|      New York|       Cosmetics| 86610412D|$80| $48.8|    $6.4| $73.6|2019-11-26|\n",
      "|  YR7220|     New York$|         Kitchen| 52503356^|$71| $42.6|   $5.68|$65.32|2019-11-26|\n",
      "|  YR7220|      New York|         Kitchen|  77516479|$92|$56.12|   $3.68|$88.32|2019-11-26|\n",
      "|  YR7220|     New York!|       Cosmetics|  47334289|$16|$10.72|   $0.96|$15.04|2019-11-26|\n",
      "|  YR7220|    New York\"\"|       Cosmetics| 87566223^|$38|$23.18|   $2.66|$35.34|2019-11-26|\n",
      "|  YR7220|      New York|     Electronics| 54074401^|$26|$17.68|   $0.52|$25.48|2019-11-26|\n",
      "|  YR7220|      New York|         Fashion| 24246520G|$45|$30.15|   $1.35|$43.65|2019-11-26|\n",
      "|  YR7220|      New York|       Cosmetics|  61138610|$83|$57.27|   $1.66|$81.34|2019-11-26|\n",
      "|  YR7220|      New York|         Kitchen|  69018554|$55| $37.4|   $1.65|$53.35|2019-11-26|\n",
      "|  YR7220|      New York|       Groceries| 11950073P|$13| $7.93|   $0.39|$12.61|2019-11-26|\n",
      "|  YR7220|      New York|         Fashion|  86404418|$69| $48.3|   $4.83|$64.17|2019-11-26|\n",
      "|  YR7220|     New York+|         Fashion|  91763000|$18| $11.7|   $0.36|$17.64|2019-11-26|\n",
      "|  YR7220|      New York|       Groceries|  53648681|$52|$36.92|   $1.04|$50.96|2019-11-26|\n",
      "|  YR7220|      New York|       Groceries| 15652465T|$29|$18.85|   $2.03|$26.97|2019-11-26|\n",
      "+--------+--------------+----------------+----------+---+------+--------+------+----------+\n",
      "only showing top 20 rows\n",
      "\n"
     ]
    }
   ],
   "source": [
    "df.show()"
   ]
  },
  {
   "cell_type": "code",
   "execution_count": 9,
   "id": "1da654dc-6234-4c5f-9bfd-b986f3ae0fb9",
   "metadata": {
    "tags": []
   },
   "outputs": [],
   "source": [
    "from pyspark.sql.types import *"
   ]
  },
  {
   "cell_type": "code",
   "execution_count": 10,
   "id": "5e23ee20-2526-4038-9795-eafced222fbd",
   "metadata": {
    "tags": []
   },
   "outputs": [],
   "source": [
    "programmatical_schema = StructType([\n",
    "        StructField(\"STORE_ID\",StringType(),True),\n",
    "        StructField(\"STORE_LOCATION\",StringType(),True),\n",
    "        StructField(\"PRODUCT_CATEGORY\",StringType(),True),\n",
    "        StructField(\"PRODUCT_ID\",StringType(),True),\n",
    "        StructField(\"MRP\",StringType(),True),\n",
    "        StructField(\"CP\",StringType(),True),\n",
    "        StructField(\"DISCOUNT\",StringType(),True),\n",
    "        StructField(\"SP\",StringType(),True),\n",
    "        StructField(\"Date\",DateType(),True)\n",
    "    ])"
   ]
  },
  {
   "cell_type": "code",
   "execution_count": 11,
   "id": "90a8d120-bd7d-4cfb-bf65-106078c0917f",
   "metadata": {
    "tags": []
   },
   "outputs": [],
   "source": [
    "df2 = spark.read \\\n",
    ".format(\"csv\") \\\n",
    ".option(\"header\", True) \\\n",
    ".option(\"sep\", \",\") \\\n",
    ".schema(programmatical_schema) \\\n",
    ".load(\"file:///home/train/datasets/dirty_store_transactions.csv\")"
   ]
  },
  {
   "cell_type": "code",
   "execution_count": 12,
   "id": "dba1edc9-5735-4dd1-8694-134c7657e661",
   "metadata": {
    "tags": []
   },
   "outputs": [
    {
     "name": "stdout",
     "output_type": "stream",
     "text": [
      "root\n",
      " |-- STORE_ID: string (nullable = true)\n",
      " |-- STORE_LOCATION: string (nullable = true)\n",
      " |-- PRODUCT_CATEGORY: string (nullable = true)\n",
      " |-- PRODUCT_ID: string (nullable = true)\n",
      " |-- MRP: string (nullable = true)\n",
      " |-- CP: string (nullable = true)\n",
      " |-- DISCOUNT: string (nullable = true)\n",
      " |-- SP: string (nullable = true)\n",
      " |-- Date: date (nullable = true)\n",
      "\n"
     ]
    }
   ],
   "source": [
    "df2.printSchema()"
   ]
  },
  {
   "cell_type": "code",
   "execution_count": 13,
   "id": "15cc9392-a000-40fd-84e9-bfcb5e707ac7",
   "metadata": {
    "tags": []
   },
   "outputs": [
    {
     "name": "stdout",
     "output_type": "stream",
     "text": [
      "+--------+--------------+----------------+----------+---+------+--------+------+----------+\n",
      "|STORE_ID|STORE_LOCATION|PRODUCT_CATEGORY|PRODUCT_ID|MRP|CP    |DISCOUNT|SP    |Date      |\n",
      "+--------+--------------+----------------+----------+---+------+--------+------+----------+\n",
      "|YR7220  |New York(     |Electronics     |12254943  |$31|$20.77|$1.86   |$29.14|2019-11-26|\n",
      "|YR7220  |New York+     |Furniture       |72619323C |$15|$9.75 |$1.5    |$13.5 |2019-11-26|\n",
      "|YR7220  |New York      |Electronics     |34161682B |$88|$62.48|$4.4    |$83.6 |2019-11-26|\n",
      "|YR7220  |New York!     |Kitchen         |79411621  |$91|$58.24|$3.64   |$87.36|2019-11-26|\n",
      "+--------+--------------+----------------+----------+---+------+--------+------+----------+\n",
      "only showing top 4 rows\n",
      "\n"
     ]
    }
   ],
   "source": [
    "df2.show(n=4, truncate=False)"
   ]
  },
  {
   "cell_type": "code",
   "execution_count": 64,
   "id": "1bab0061-47a0-4508-916a-227403bac365",
   "metadata": {},
   "outputs": [
    {
     "data": {
      "text/plain": [
       "37853"
      ]
     },
     "execution_count": 64,
     "metadata": {},
     "output_type": "execute_result"
    }
   ],
   "source": [
    "df2.count()"
   ]
  },
  {
   "cell_type": "code",
   "execution_count": 14,
   "id": "73ba89bf-ba23-4fa3-95c2-fb42b76c5571",
   "metadata": {
    "tags": []
   },
   "outputs": [],
   "source": [
    "symbol_pattern = r\"[^\\w\\s]\""
   ]
  },
  {
   "cell_type": "code",
   "execution_count": 15,
   "id": "2da8e154-e474-4853-9f09-33ca7d8b944a",
   "metadata": {
    "tags": []
   },
   "outputs": [],
   "source": [
    "df3 = df2.withColumn(\"STORE_LOCATION\", regexp_replace(\"STORE_LOCATION\", symbol_pattern, \"\"))"
   ]
  },
  {
   "cell_type": "code",
   "execution_count": 18,
   "id": "8e91e80e-0686-4dbc-b7cb-e07badb910d2",
   "metadata": {
    "tags": []
   },
   "outputs": [],
   "source": [
    "df4 = df3.withColumn(\"PRODUCT_ID\", regexp_replace(\"PRODUCT_ID\", symbol_pattern, \"\"))"
   ]
  },
  {
   "cell_type": "code",
   "execution_count": 19,
   "id": "36d58aa1-7120-4af7-b30a-f36b0c26b0de",
   "metadata": {
    "tags": []
   },
   "outputs": [
    {
     "name": "stdout",
     "output_type": "stream",
     "text": [
      "+--------+--------------+----------------+----------+---+------+--------+------+----------+\n",
      "|STORE_ID|STORE_LOCATION|PRODUCT_CATEGORY|PRODUCT_ID|MRP|CP    |DISCOUNT|SP    |Date      |\n",
      "+--------+--------------+----------------+----------+---+------+--------+------+----------+\n",
      "|YR7220  |New York      |Electronics     |12254943  |$31|$20.77|$1.86   |$29.14|2019-11-26|\n",
      "|YR7220  |New York      |Furniture       |72619323C |$15|$9.75 |$1.5    |$13.5 |2019-11-26|\n",
      "|YR7220  |New York      |Electronics     |34161682B |$88|$62.48|$4.4    |$83.6 |2019-11-26|\n",
      "|YR7220  |New York      |Kitchen         |79411621  |$91|$58.24|$3.64   |$87.36|2019-11-26|\n",
      "|YR7220  |New York      |Fashion         |39520263T |$85|$51   |$2.55   |$82.45|2019-11-26|\n",
      "|YR7220  |New York      |Kitchen         |93809204  |$37|$24.05|$0.74   |$36.26|2019-11-26|\n",
      "|YR7220  |New York      |Cosmetics       |86610412D |$80|$48.8 |$6.4    |$73.6 |2019-11-26|\n",
      "|YR7220  |New York      |Kitchen         |52503356  |$71|$42.6 |$5.68   |$65.32|2019-11-26|\n",
      "|YR7220  |New York      |Kitchen         |77516479  |$92|$56.12|$3.68   |$88.32|2019-11-26|\n",
      "|YR7220  |New York      |Cosmetics       |47334289  |$16|$10.72|$0.96   |$15.04|2019-11-26|\n",
      "|YR7220  |New York      |Cosmetics       |87566223  |$38|$23.18|$2.66   |$35.34|2019-11-26|\n",
      "|YR7220  |New York      |Electronics     |54074401  |$26|$17.68|$0.52   |$25.48|2019-11-26|\n",
      "|YR7220  |New York      |Fashion         |24246520G |$45|$30.15|$1.35   |$43.65|2019-11-26|\n",
      "|YR7220  |New York      |Cosmetics       |61138610  |$83|$57.27|$1.66   |$81.34|2019-11-26|\n",
      "|YR7220  |New York      |Kitchen         |69018554  |$55|$37.4 |$1.65   |$53.35|2019-11-26|\n",
      "|YR7220  |New York      |Groceries       |11950073P |$13|$7.93 |$0.39   |$12.61|2019-11-26|\n",
      "|YR7220  |New York      |Fashion         |86404418  |$69|$48.3 |$4.83   |$64.17|2019-11-26|\n",
      "|YR7220  |New York      |Fashion         |91763000  |$18|$11.7 |$0.36   |$17.64|2019-11-26|\n",
      "|YR7220  |New York      |Groceries       |53648681  |$52|$36.92|$1.04   |$50.96|2019-11-26|\n",
      "|YR7220  |New York      |Groceries       |15652465T |$29|$18.85|$2.03   |$26.97|2019-11-26|\n",
      "+--------+--------------+----------------+----------+---+------+--------+------+----------+\n",
      "only showing top 20 rows\n",
      "\n"
     ]
    }
   ],
   "source": [
    "df4.show(n=20, truncate=False)"
   ]
  },
  {
   "cell_type": "code",
   "execution_count": 20,
   "id": "4659de8b-9d45-40b9-b446-ee02ab64ccf9",
   "metadata": {},
   "outputs": [],
   "source": [
    "df_pd = df4.limit(5).toPandas()"
   ]
  },
  {
   "cell_type": "code",
   "execution_count": 21,
   "id": "1fd4ef00-7c23-4bf0-8010-5f29df3b2fee",
   "metadata": {},
   "outputs": [
    {
     "name": "stdout",
     "output_type": "stream",
     "text": [
      "<class 'pandas.core.frame.DataFrame'>\n",
      "RangeIndex: 5 entries, 0 to 4\n",
      "Data columns (total 9 columns):\n",
      " #   Column            Non-Null Count  Dtype \n",
      "---  ------            --------------  ----- \n",
      " 0   STORE_ID          5 non-null      object\n",
      " 1   STORE_LOCATION    5 non-null      object\n",
      " 2   PRODUCT_CATEGORY  5 non-null      object\n",
      " 3   PRODUCT_ID        5 non-null      object\n",
      " 4   MRP               5 non-null      object\n",
      " 5   CP                5 non-null      object\n",
      " 6   DISCOUNT          5 non-null      object\n",
      " 7   SP                5 non-null      object\n",
      " 8   Date              5 non-null      object\n",
      "dtypes: object(9)\n",
      "memory usage: 488.0+ bytes\n"
     ]
    }
   ],
   "source": [
    "df_pd.info()"
   ]
  },
  {
   "cell_type": "code",
   "execution_count": 22,
   "id": "8bdb2435-fcfd-4660-b5c0-407bd3f33ac7",
   "metadata": {
    "tags": []
   },
   "outputs": [
    {
     "data": {
      "text/html": [
       "<div>\n",
       "<style scoped>\n",
       "    .dataframe tbody tr th:only-of-type {\n",
       "        vertical-align: middle;\n",
       "    }\n",
       "\n",
       "    .dataframe tbody tr th {\n",
       "        vertical-align: top;\n",
       "    }\n",
       "\n",
       "    .dataframe thead th {\n",
       "        text-align: right;\n",
       "    }\n",
       "</style>\n",
       "<table border=\"1\" class=\"dataframe\">\n",
       "  <thead>\n",
       "    <tr style=\"text-align: right;\">\n",
       "      <th></th>\n",
       "      <th>STORE_ID</th>\n",
       "      <th>STORE_LOCATION</th>\n",
       "      <th>PRODUCT_CATEGORY</th>\n",
       "      <th>PRODUCT_ID</th>\n",
       "      <th>MRP</th>\n",
       "      <th>CP</th>\n",
       "      <th>DISCOUNT</th>\n",
       "      <th>SP</th>\n",
       "      <th>Date</th>\n",
       "    </tr>\n",
       "  </thead>\n",
       "  <tbody>\n",
       "    <tr>\n",
       "      <th>0</th>\n",
       "      <td>YR7220</td>\n",
       "      <td>New York</td>\n",
       "      <td>Electronics</td>\n",
       "      <td>12254943</td>\n",
       "      <td>$31</td>\n",
       "      <td>$20.77</td>\n",
       "      <td>$1.86</td>\n",
       "      <td>$29.14</td>\n",
       "      <td>2019-11-26</td>\n",
       "    </tr>\n",
       "    <tr>\n",
       "      <th>1</th>\n",
       "      <td>YR7220</td>\n",
       "      <td>New York</td>\n",
       "      <td>Furniture</td>\n",
       "      <td>72619323C</td>\n",
       "      <td>$15</td>\n",
       "      <td>$9.75</td>\n",
       "      <td>$1.5</td>\n",
       "      <td>$13.5</td>\n",
       "      <td>2019-11-26</td>\n",
       "    </tr>\n",
       "    <tr>\n",
       "      <th>2</th>\n",
       "      <td>YR7220</td>\n",
       "      <td>New York</td>\n",
       "      <td>Electronics</td>\n",
       "      <td>34161682B</td>\n",
       "      <td>$88</td>\n",
       "      <td>$62.48</td>\n",
       "      <td>$4.4</td>\n",
       "      <td>$83.6</td>\n",
       "      <td>2019-11-26</td>\n",
       "    </tr>\n",
       "    <tr>\n",
       "      <th>3</th>\n",
       "      <td>YR7220</td>\n",
       "      <td>New York</td>\n",
       "      <td>Kitchen</td>\n",
       "      <td>79411621</td>\n",
       "      <td>$91</td>\n",
       "      <td>$58.24</td>\n",
       "      <td>$3.64</td>\n",
       "      <td>$87.36</td>\n",
       "      <td>2019-11-26</td>\n",
       "    </tr>\n",
       "    <tr>\n",
       "      <th>4</th>\n",
       "      <td>YR7220</td>\n",
       "      <td>New York</td>\n",
       "      <td>Fashion</td>\n",
       "      <td>39520263T</td>\n",
       "      <td>$85</td>\n",
       "      <td>$51</td>\n",
       "      <td>$2.55</td>\n",
       "      <td>$82.45</td>\n",
       "      <td>2019-11-26</td>\n",
       "    </tr>\n",
       "  </tbody>\n",
       "</table>\n",
       "</div>"
      ],
      "text/plain": [
       "  STORE_ID STORE_LOCATION PRODUCT_CATEGORY PRODUCT_ID  MRP      CP DISCOUNT  \\\n",
       "0   YR7220       New York      Electronics   12254943  $31  $20.77    $1.86   \n",
       "1   YR7220       New York        Furniture  72619323C  $15   $9.75     $1.5   \n",
       "2   YR7220      New York       Electronics  34161682B  $88  $62.48     $4.4   \n",
       "3   YR7220       New York          Kitchen   79411621  $91  $58.24    $3.64   \n",
       "4   YR7220       New York          Fashion  39520263T  $85     $51    $2.55   \n",
       "\n",
       "       SP        Date  \n",
       "0  $29.14  2019-11-26  \n",
       "1   $13.5  2019-11-26  \n",
       "2   $83.6  2019-11-26  \n",
       "3  $87.36  2019-11-26  \n",
       "4  $82.45  2019-11-26  "
      ]
     },
     "execution_count": 22,
     "metadata": {},
     "output_type": "execute_result"
    }
   ],
   "source": [
    "df4.limit(5).toPandas()"
   ]
  },
  {
   "cell_type": "code",
   "execution_count": 16,
   "id": "0bbc53d4-8c03-4fdb-9e36-29158f9e88d0",
   "metadata": {},
   "outputs": [
    {
     "name": "stderr",
     "output_type": "stream",
     "text": [
      "                                                                                \r"
     ]
    },
    {
     "data": {
      "text/plain": [
       "515738"
      ]
     },
     "execution_count": 16,
     "metadata": {},
     "output_type": "execute_result"
    }
   ],
   "source": [
    "df.count()"
   ]
  },
  {
   "cell_type": "code",
   "execution_count": 23,
   "id": "6b71a07f-ae48-4f1a-8f2a-79ddc666c087",
   "metadata": {
    "tags": []
   },
   "outputs": [
    {
     "name": "stdout",
     "output_type": "stream",
     "text": [
      "+----------+\n",
      "|Date      |\n",
      "+----------+\n",
      "|2019-11-26|\n",
      "|2019-11-26|\n",
      "|2019-11-26|\n",
      "|2019-11-26|\n",
      "|2019-11-26|\n",
      "+----------+\n",
      "only showing top 5 rows\n",
      "\n"
     ]
    }
   ],
   "source": [
    "df4.select(\"Date\").show(n=5, truncate=False)"
   ]
  },
  {
   "cell_type": "code",
   "execution_count": 58,
   "id": "9c1cbf9d-f152-4e65-9987-6a5397a40489",
   "metadata": {
    "tags": []
   },
   "outputs": [
    {
     "name": "stdout",
     "output_type": "stream",
     "text": [
      "root\n",
      " |-- STORE_ID: string (nullable = true)\n",
      " |-- STORE_LOCATION: string (nullable = true)\n",
      " |-- PRODUCT_CATEGORY: string (nullable = true)\n",
      " |-- PRODUCT_ID: string (nullable = true)\n",
      " |-- MRP: string (nullable = true)\n",
      " |-- CP: string (nullable = true)\n",
      " |-- DISCOUNT: string (nullable = true)\n",
      " |-- SP: string (nullable = true)\n",
      " |-- Date: date (nullable = true)\n",
      "\n"
     ]
    }
   ],
   "source": [
    "df2.printSchema()"
   ]
  },
  {
   "cell_type": "code",
   "execution_count": 25,
   "id": "9306b252-a9b7-49d3-99eb-6ebb37683167",
   "metadata": {
    "tags": []
   },
   "outputs": [
    {
     "data": {
      "text/html": [
       "<div>\n",
       "<style scoped>\n",
       "    .dataframe tbody tr th:only-of-type {\n",
       "        vertical-align: middle;\n",
       "    }\n",
       "\n",
       "    .dataframe tbody tr th {\n",
       "        vertical-align: top;\n",
       "    }\n",
       "\n",
       "    .dataframe thead th {\n",
       "        text-align: right;\n",
       "    }\n",
       "</style>\n",
       "<table border=\"1\" class=\"dataframe\">\n",
       "  <thead>\n",
       "    <tr style=\"text-align: right;\">\n",
       "      <th></th>\n",
       "      <th>STORE_ID</th>\n",
       "      <th>STORE_LOCATION</th>\n",
       "      <th>PRODUCT_CATEGORY</th>\n",
       "      <th>PRODUCT_ID</th>\n",
       "      <th>MRP</th>\n",
       "      <th>CP</th>\n",
       "      <th>DISCOUNT</th>\n",
       "      <th>SP</th>\n",
       "      <th>Date</th>\n",
       "    </tr>\n",
       "  </thead>\n",
       "  <tbody>\n",
       "    <tr>\n",
       "      <th>0</th>\n",
       "      <td>YR7220</td>\n",
       "      <td>New York</td>\n",
       "      <td>Electronics</td>\n",
       "      <td>12254943</td>\n",
       "      <td>$31</td>\n",
       "      <td>$20.77</td>\n",
       "      <td>$1.86</td>\n",
       "      <td>$29.14</td>\n",
       "      <td>2019-11-26</td>\n",
       "    </tr>\n",
       "  </tbody>\n",
       "</table>\n",
       "</div>"
      ],
      "text/plain": [
       "  STORE_ID STORE_LOCATION PRODUCT_CATEGORY PRODUCT_ID  MRP      CP DISCOUNT  \\\n",
       "0   YR7220       New York      Electronics   12254943  $31  $20.77    $1.86   \n",
       "\n",
       "       SP        Date  \n",
       "0  $29.14  2019-11-26  "
      ]
     },
     "execution_count": 25,
     "metadata": {},
     "output_type": "execute_result"
    }
   ],
   "source": [
    "df4.limit(1).toPandas()"
   ]
  },
  {
   "cell_type": "code",
   "execution_count": 61,
   "id": "387f6478-9657-456d-8156-2858f2dab3d6",
   "metadata": {
    "tags": []
   },
   "outputs": [],
   "source": [
    "df3 = df2.withColumn(\"Date\", F.to_date(F.col(\"Date\"),\"M/d/yyyy\"))"
   ]
  },
  {
   "cell_type": "code",
   "execution_count": 62,
   "id": "159858e8-1dfb-4d26-95a5-b6f2e830d9a1",
   "metadata": {
    "tags": []
   },
   "outputs": [
    {
     "data": {
      "text/html": [
       "<div>\n",
       "<style scoped>\n",
       "    .dataframe tbody tr th:only-of-type {\n",
       "        vertical-align: middle;\n",
       "    }\n",
       "\n",
       "    .dataframe tbody tr th {\n",
       "        vertical-align: top;\n",
       "    }\n",
       "\n",
       "    .dataframe thead th {\n",
       "        text-align: right;\n",
       "    }\n",
       "</style>\n",
       "<table border=\"1\" class=\"dataframe\">\n",
       "  <thead>\n",
       "    <tr style=\"text-align: right;\">\n",
       "      <th></th>\n",
       "      <th>STORE_ID</th>\n",
       "      <th>STORE_LOCATION</th>\n",
       "      <th>PRODUCT_CATEGORY</th>\n",
       "      <th>PRODUCT_ID</th>\n",
       "      <th>MRP</th>\n",
       "      <th>CP</th>\n",
       "      <th>DISCOUNT</th>\n",
       "      <th>SP</th>\n",
       "      <th>Date</th>\n",
       "    </tr>\n",
       "  </thead>\n",
       "  <tbody>\n",
       "    <tr>\n",
       "      <th>0</th>\n",
       "      <td>YR7220</td>\n",
       "      <td>New York(</td>\n",
       "      <td>Electronics</td>\n",
       "      <td>12254943</td>\n",
       "      <td>$31</td>\n",
       "      <td>$20.77</td>\n",
       "      <td>$1.86</td>\n",
       "      <td>$29.14</td>\n",
       "      <td>2019-11-26</td>\n",
       "    </tr>\n",
       "    <tr>\n",
       "      <th>1</th>\n",
       "      <td>YR7220</td>\n",
       "      <td>New York+</td>\n",
       "      <td>Furniture</td>\n",
       "      <td>72619323C</td>\n",
       "      <td>$15</td>\n",
       "      <td>$9.75</td>\n",
       "      <td>$1.5</td>\n",
       "      <td>$13.5</td>\n",
       "      <td>2019-11-26</td>\n",
       "    </tr>\n",
       "    <tr>\n",
       "      <th>2</th>\n",
       "      <td>YR7220</td>\n",
       "      <td>New York</td>\n",
       "      <td>Electronics</td>\n",
       "      <td>34161682B</td>\n",
       "      <td>$88</td>\n",
       "      <td>$62.48</td>\n",
       "      <td>$4.4</td>\n",
       "      <td>$83.6</td>\n",
       "      <td>2019-11-26</td>\n",
       "    </tr>\n",
       "    <tr>\n",
       "      <th>3</th>\n",
       "      <td>YR7220</td>\n",
       "      <td>New York!</td>\n",
       "      <td>Kitchen</td>\n",
       "      <td>79411621</td>\n",
       "      <td>$91</td>\n",
       "      <td>$58.24</td>\n",
       "      <td>$3.64</td>\n",
       "      <td>$87.36</td>\n",
       "      <td>2019-11-26</td>\n",
       "    </tr>\n",
       "    <tr>\n",
       "      <th>4</th>\n",
       "      <td>YR7220</td>\n",
       "      <td>New York</td>\n",
       "      <td>Fashion</td>\n",
       "      <td>39520263T</td>\n",
       "      <td>$85</td>\n",
       "      <td>$51</td>\n",
       "      <td>$2.55</td>\n",
       "      <td>$82.45</td>\n",
       "      <td>2019-11-26</td>\n",
       "    </tr>\n",
       "  </tbody>\n",
       "</table>\n",
       "</div>"
      ],
      "text/plain": [
       "  STORE_ID STORE_LOCATION PRODUCT_CATEGORY PRODUCT_ID  MRP      CP DISCOUNT  \\\n",
       "0   YR7220      New York(      Electronics   12254943  $31  $20.77    $1.86   \n",
       "1   YR7220      New York+        Furniture  72619323C  $15   $9.75     $1.5   \n",
       "2   YR7220      New York       Electronics  34161682B  $88  $62.48     $4.4   \n",
       "3   YR7220      New York!          Kitchen   79411621  $91  $58.24    $3.64   \n",
       "4   YR7220       New York          Fashion  39520263T  $85     $51    $2.55   \n",
       "\n",
       "       SP        Date  \n",
       "0  $29.14  2019-11-26  \n",
       "1   $13.5  2019-11-26  \n",
       "2   $83.6  2019-11-26  \n",
       "3  $87.36  2019-11-26  \n",
       "4  $82.45  2019-11-26  "
      ]
     },
     "execution_count": 62,
     "metadata": {},
     "output_type": "execute_result"
    }
   ],
   "source": [
    "df3.limit(5).toPandas()"
   ]
  },
  {
   "cell_type": "code",
   "execution_count": 63,
   "id": "28f0d80f-734a-47b4-accb-2a99c1b07f8a",
   "metadata": {
    "tags": []
   },
   "outputs": [
    {
     "name": "stdout",
     "output_type": "stream",
     "text": [
      "root\n",
      " |-- STORE_ID: string (nullable = true)\n",
      " |-- STORE_LOCATION: string (nullable = true)\n",
      " |-- PRODUCT_CATEGORY: string (nullable = true)\n",
      " |-- PRODUCT_ID: string (nullable = true)\n",
      " |-- MRP: string (nullable = true)\n",
      " |-- CP: string (nullable = true)\n",
      " |-- DISCOUNT: string (nullable = true)\n",
      " |-- SP: string (nullable = true)\n",
      " |-- Date: date (nullable = true)\n",
      "\n"
     ]
    }
   ],
   "source": [
    "df3.printSchema()"
   ]
  },
  {
   "cell_type": "markdown",
   "id": "21f6d0d7-6fc7-43c3-9174-b98a5baa52d0",
   "metadata": {},
   "source": [
    "# Define a Schema Manually: Method-2 (sql way)"
   ]
  },
  {
   "cell_type": "code",
   "execution_count": 45,
   "id": "b3caf1f9-3dcb-4659-adf0-061a6dbaf18f",
   "metadata": {
    "tags": []
   },
   "outputs": [],
   "source": [
    "sql_way_schema = \" Hotel_Address string, \\\n",
    "Additional_Number_of_Scoring integer, \\\n",
    "Review_Date string, \\\n",
    "Average_Score float, \\\n",
    "Hotel_Name string, \\\n",
    "Reviewer_Nationality string, \\\n",
    "Negative_Review string, \\\n",
    "Review_Total_Negative_Word_Counts integer, \\\n",
    "Total_Number_of_Reviews string, \\\n",
    "Positive_Review string, \\\n",
    "Review_Total_Positive_Word_Counts integer, \\\n",
    "Total_Number_of_Reviews_Reviewer_Has_Given integer, \\\n",
    "Reviewer_Score float, \\\n",
    "Tags string, \\\n",
    "days_since_review string, \\\n",
    "lat float, \\\n",
    "lng float\""
   ]
  },
  {
   "cell_type": "code",
   "execution_count": null,
   "id": "2df0b916-8f14-4bd8-b2a2-d82d2e84e11a",
   "metadata": {},
   "outputs": [],
   "source": [
    "spark.stop()"
   ]
  }
 ],
 "metadata": {
  "kernelspec": {
   "display_name": "Python 3 (ipykernel)",
   "language": "python",
   "name": "python3"
  },
  "language_info": {
   "codemirror_mode": {
    "name": "ipython",
    "version": 3
   },
   "file_extension": ".py",
   "mimetype": "text/x-python",
   "name": "python",
   "nbconvert_exporter": "python",
   "pygments_lexer": "ipython3",
   "version": "3.8.12"
  }
 },
 "nbformat": 4,
 "nbformat_minor": 5
}
