{
 "cells": [
  {
   "cell_type": "code",
   "execution_count": 1,
   "id": "a1e11b15-f590-4eeb-94dc-291a2fa784a0",
   "metadata": {
    "tags": []
   },
   "outputs": [],
   "source": [
    "from pyspark.sql import SparkSession, functions as F\n",
    "from pyspark.sql.types import * \n",
    "from pyspark.sql.functions import regexp_replace,split,substring\n",
    "import findspark\n",
    "import configparser"
   ]
  },
  {
   "cell_type": "code",
   "execution_count": 4,
   "id": "89ed500f-8a30-4b5c-a513-361009e6bfcc",
   "metadata": {
    "tags": []
   },
   "outputs": [],
   "source": [
    "spark = SparkSession.builder \\\n",
    ".appName(\"JDBC and SQL\") \\\n",
    ".master(\"yarn\") \\\n",
    ".getOrCreate()"
   ]
  },
  {
   "cell_type": "markdown",
   "id": "b369d645-eb1f-48fd-945f-e829b481f43d",
   "metadata": {},
   "source": [
    "# Read Data"
   ]
  },
  {
   "cell_type": "code",
   "execution_count": 35,
   "id": "eb806e05-7c90-4788-8953-901f2f5e19cf",
   "metadata": {},
   "outputs": [
    {
     "name": "stderr",
     "output_type": "stream",
     "text": [
      "                                                                                \r"
     ]
    }
   ],
   "source": [
    "df = spark.read \\\n",
    ".format(\"csv\") \\\n",
    ".option(\"header\", True) \\\n",
    ".option(\"sep\", \",\") \\\n",
    ".option(\"inferSchema\", True) \\\n",
    ".load(\"file:///home/train/datasets/dirty_store_transactions.csv\")"
   ]
  },
  {
   "cell_type": "code",
   "execution_count": 36,
   "id": "1da654dc-6234-4c5f-9bfd-b986f3ae0fb9",
   "metadata": {
    "tags": []
   },
   "outputs": [],
   "source": [
    "from pyspark.sql import SparkSession, functions as F\n",
    "from pyspark.sql.types import  *"
   ]
  },
  {
   "cell_type": "code",
   "execution_count": 37,
   "id": "faeb7850-9118-41a8-857c-06fd328d1a5b",
   "metadata": {
    "tags": []
   },
   "outputs": [],
   "source": [
    "config = configparser.RawConfigParser()\n",
    "\n",
    "config.read('./db_conn')\n",
    "user_name = config.get('DB', 'user_name')\n",
    "password = config.get('DB', 'password')\n",
    "db_ip = config.get('DB', 'db_ip')"
   ]
  },
  {
   "cell_type": "code",
   "execution_count": null,
   "id": "347ec555-620a-4f43-8cca-6efa0c456ad9",
   "metadata": {},
   "outputs": [],
   "source": []
  },
  {
   "cell_type": "code",
   "execution_count": 38,
   "id": "5e23ee20-2526-4038-9795-eafced222fbd",
   "metadata": {
    "tags": []
   },
   "outputs": [],
   "source": [
    "programmatical_schema = StructType([\n",
    "        StructField(\"STORE_ID\",StringType(),True),\n",
    "        StructField(\"STORE_LOCATION\",StringType(),True),\n",
    "        StructField(\"PRODUCT_CATEGORY\",StringType(),True),\n",
    "        StructField(\"PRODUCT_ID\",StringType(),True),\n",
    "        StructField(\"MRP\",StringType(),True),\n",
    "        StructField(\"CP\",StringType(),True),\n",
    "        StructField(\"DISCOUNT\",StringType(),True),\n",
    "        StructField(\"SP\",StringType(),True),\n",
    "        StructField(\"Date\",DateType(),True)\n",
    "    ])"
   ]
  },
  {
   "cell_type": "code",
   "execution_count": 39,
   "id": "90a8d120-bd7d-4cfb-bf65-106078c0917f",
   "metadata": {
    "tags": []
   },
   "outputs": [],
   "source": [
    "df2 = spark.read \\\n",
    ".format(\"csv\") \\\n",
    ".option(\"header\", True) \\\n",
    ".option(\"sep\", \",\") \\\n",
    ".schema(programmatical_schema) \\\n",
    ".load(\"file:///home/train/datasets/dirty_store_transactions.csv\")"
   ]
  },
  {
   "cell_type": "code",
   "execution_count": 40,
   "id": "73ba89bf-ba23-4fa3-95c2-fb42b76c5571",
   "metadata": {
    "tags": []
   },
   "outputs": [],
   "source": [
    "symbol_pattern = r\"[^\\w\\s]\""
   ]
  },
  {
   "cell_type": "code",
   "execution_count": 41,
   "id": "2da8e154-e474-4853-9f09-33ca7d8b944a",
   "metadata": {
    "tags": []
   },
   "outputs": [],
   "source": [
    "df3 = df2.withColumn(\"STORE_LOCATION\", regexp_replace(\"STORE_LOCATION\", symbol_pattern, \"\"))"
   ]
  },
  {
   "cell_type": "code",
   "execution_count": 42,
   "id": "f21f61be-0228-4795-80dc-ceeeb665ea97",
   "metadata": {
    "tags": []
   },
   "outputs": [],
   "source": [
    "df4 = df3.withColumn(\"PRODUCT_ID\", regexp_replace(\"PRODUCT_ID\", symbol_pattern, \"\"))\n"
   ]
  },
  {
   "cell_type": "code",
   "execution_count": 43,
   "id": "36d58aa1-7120-4af7-b30a-f36b0c26b0de",
   "metadata": {
    "tags": []
   },
   "outputs": [
    {
     "name": "stdout",
     "output_type": "stream",
     "text": [
      "+--------+--------------+----------------+----------+---+------+--------+------+----------+\n",
      "|STORE_ID|STORE_LOCATION|PRODUCT_CATEGORY|PRODUCT_ID|MRP|CP    |DISCOUNT|SP    |Date      |\n",
      "+--------+--------------+----------------+----------+---+------+--------+------+----------+\n",
      "|YR7220  |New York      |Electronics     |12254943  |$31|$20.77|$1.86   |$29.14|2019-11-26|\n",
      "|YR7220  |New York      |Furniture       |72619323C |$15|$9.75 |$1.5    |$13.5 |2019-11-26|\n",
      "|YR7220  |New York      |Electronics     |34161682B |$88|$62.48|$4.4    |$83.6 |2019-11-26|\n",
      "|YR7220  |New York      |Kitchen         |79411621  |$91|$58.24|$3.64   |$87.36|2019-11-26|\n",
      "|YR7220  |New York      |Fashion         |39520263T |$85|$51   |$2.55   |$82.45|2019-11-26|\n",
      "|YR7220  |New York      |Kitchen         |93809204  |$37|$24.05|$0.74   |$36.26|2019-11-26|\n",
      "|YR7220  |New York      |Cosmetics       |86610412D |$80|$48.8 |$6.4    |$73.6 |2019-11-26|\n",
      "|YR7220  |New York      |Kitchen         |52503356  |$71|$42.6 |$5.68   |$65.32|2019-11-26|\n",
      "|YR7220  |New York      |Kitchen         |77516479  |$92|$56.12|$3.68   |$88.32|2019-11-26|\n",
      "|YR7220  |New York      |Cosmetics       |47334289  |$16|$10.72|$0.96   |$15.04|2019-11-26|\n",
      "|YR7220  |New York      |Cosmetics       |87566223  |$38|$23.18|$2.66   |$35.34|2019-11-26|\n",
      "|YR7220  |New York      |Electronics     |54074401  |$26|$17.68|$0.52   |$25.48|2019-11-26|\n",
      "|YR7220  |New York      |Fashion         |24246520G |$45|$30.15|$1.35   |$43.65|2019-11-26|\n",
      "|YR7220  |New York      |Cosmetics       |61138610  |$83|$57.27|$1.66   |$81.34|2019-11-26|\n",
      "|YR7220  |New York      |Kitchen         |69018554  |$55|$37.4 |$1.65   |$53.35|2019-11-26|\n",
      "+--------+--------------+----------------+----------+---+------+--------+------+----------+\n",
      "only showing top 15 rows\n",
      "\n"
     ]
    }
   ],
   "source": [
    "df4.show(n=15, truncate=False)\n"
   ]
  },
  {
   "cell_type": "code",
   "execution_count": null,
   "id": "b0d10bf9-8dc2-4da5-99a0-4655990752a8",
   "metadata": {
    "tags": []
   },
   "outputs": [],
   "source": []
  },
  {
   "cell_type": "code",
   "execution_count": null,
   "id": "a1f3a6f2-f37d-4dd3-b9db-965ccdf85aed",
   "metadata": {},
   "outputs": [],
   "source": []
  },
  {
   "cell_type": "code",
   "execution_count": 44,
   "id": "8bdb2435-fcfd-4660-b5c0-407bd3f33ac7",
   "metadata": {
    "tags": []
   },
   "outputs": [
    {
     "data": {
      "text/html": [
       "<div>\n",
       "<style scoped>\n",
       "    .dataframe tbody tr th:only-of-type {\n",
       "        vertical-align: middle;\n",
       "    }\n",
       "\n",
       "    .dataframe tbody tr th {\n",
       "        vertical-align: top;\n",
       "    }\n",
       "\n",
       "    .dataframe thead th {\n",
       "        text-align: right;\n",
       "    }\n",
       "</style>\n",
       "<table border=\"1\" class=\"dataframe\">\n",
       "  <thead>\n",
       "    <tr style=\"text-align: right;\">\n",
       "      <th></th>\n",
       "      <th>STORE_ID</th>\n",
       "      <th>STORE_LOCATION</th>\n",
       "      <th>PRODUCT_CATEGORY</th>\n",
       "      <th>PRODUCT_ID</th>\n",
       "      <th>MRP</th>\n",
       "      <th>CP</th>\n",
       "      <th>DISCOUNT</th>\n",
       "      <th>SP</th>\n",
       "      <th>Date</th>\n",
       "    </tr>\n",
       "  </thead>\n",
       "  <tbody>\n",
       "    <tr>\n",
       "      <th>0</th>\n",
       "      <td>YR7220</td>\n",
       "      <td>New York</td>\n",
       "      <td>Electronics</td>\n",
       "      <td>12254943</td>\n",
       "      <td>$31</td>\n",
       "      <td>$20.77</td>\n",
       "      <td>$1.86</td>\n",
       "      <td>$29.14</td>\n",
       "      <td>2019-11-26</td>\n",
       "    </tr>\n",
       "    <tr>\n",
       "      <th>1</th>\n",
       "      <td>YR7220</td>\n",
       "      <td>New York</td>\n",
       "      <td>Furniture</td>\n",
       "      <td>72619323C</td>\n",
       "      <td>$15</td>\n",
       "      <td>$9.75</td>\n",
       "      <td>$1.5</td>\n",
       "      <td>$13.5</td>\n",
       "      <td>2019-11-26</td>\n",
       "    </tr>\n",
       "    <tr>\n",
       "      <th>2</th>\n",
       "      <td>YR7220</td>\n",
       "      <td>New York</td>\n",
       "      <td>Electronics</td>\n",
       "      <td>34161682B</td>\n",
       "      <td>$88</td>\n",
       "      <td>$62.48</td>\n",
       "      <td>$4.4</td>\n",
       "      <td>$83.6</td>\n",
       "      <td>2019-11-26</td>\n",
       "    </tr>\n",
       "    <tr>\n",
       "      <th>3</th>\n",
       "      <td>YR7220</td>\n",
       "      <td>New York</td>\n",
       "      <td>Kitchen</td>\n",
       "      <td>79411621</td>\n",
       "      <td>$91</td>\n",
       "      <td>$58.24</td>\n",
       "      <td>$3.64</td>\n",
       "      <td>$87.36</td>\n",
       "      <td>2019-11-26</td>\n",
       "    </tr>\n",
       "    <tr>\n",
       "      <th>4</th>\n",
       "      <td>YR7220</td>\n",
       "      <td>New York</td>\n",
       "      <td>Fashion</td>\n",
       "      <td>39520263T</td>\n",
       "      <td>$85</td>\n",
       "      <td>$51</td>\n",
       "      <td>$2.55</td>\n",
       "      <td>$82.45</td>\n",
       "      <td>2019-11-26</td>\n",
       "    </tr>\n",
       "  </tbody>\n",
       "</table>\n",
       "</div>"
      ],
      "text/plain": [
       "  STORE_ID STORE_LOCATION PRODUCT_CATEGORY PRODUCT_ID  MRP      CP DISCOUNT  \\\n",
       "0   YR7220       New York      Electronics   12254943  $31  $20.77    $1.86   \n",
       "1   YR7220       New York        Furniture  72619323C  $15   $9.75     $1.5   \n",
       "2   YR7220      New York       Electronics  34161682B  $88  $62.48     $4.4   \n",
       "3   YR7220       New York          Kitchen   79411621  $91  $58.24    $3.64   \n",
       "4   YR7220       New York          Fashion  39520263T  $85     $51    $2.55   \n",
       "\n",
       "       SP        Date  \n",
       "0  $29.14  2019-11-26  \n",
       "1   $13.5  2019-11-26  \n",
       "2   $83.6  2019-11-26  \n",
       "3  $87.36  2019-11-26  \n",
       "4  $82.45  2019-11-26  "
      ]
     },
     "execution_count": 44,
     "metadata": {},
     "output_type": "execute_result"
    }
   ],
   "source": [
    "df4.limit(5).toPandas()"
   ]
  },
  {
   "cell_type": "code",
   "execution_count": 45,
   "id": "7cfb6779-a259-4636-962a-936936885d36",
   "metadata": {
    "tags": []
   },
   "outputs": [],
   "source": [
    "from pyspark.sql.functions import split, col\n",
    "\n",
    "\n",
    "df4 = df4.withColumn('Money Unity', substring('CP', 1, 1))"
   ]
  },
  {
   "cell_type": "code",
   "execution_count": 46,
   "id": "e2ab1e3c-85a2-42cd-82b3-77759a978762",
   "metadata": {
    "tags": []
   },
   "outputs": [],
   "source": [
    "\n",
    "df4 = df4.withColumn(\"CP\", split(col(\"CP\"), \"\\$\").getItem(1))\n",
    "df4 = df4.withColumn(\"DISCOUNT\", split(col(\"DISCOUNT\"), \"\\$\").getItem(1))\n",
    "df4 = df4.withColumn(\"SP\", split(col(\"SP\"), \"\\$\").getItem(1))\n",
    "df4 = df4.withColumn(\"MRP\", split(col(\"MRP\"), \"\\$\").getItem(1))"
   ]
  },
  {
   "cell_type": "code",
   "execution_count": 47,
   "id": "6ca1f0ea-e51f-44b3-ad4c-34344efa149f",
   "metadata": {
    "tags": []
   },
   "outputs": [
    {
     "name": "stdout",
     "output_type": "stream",
     "text": [
      "+--------+--------------+----------------+----------+---+-----+--------+-----+----------+-----------+\n",
      "|STORE_ID|STORE_LOCATION|PRODUCT_CATEGORY|PRODUCT_ID|MRP|   CP|DISCOUNT|   SP|      Date|Money Unity|\n",
      "+--------+--------------+----------------+----------+---+-----+--------+-----+----------+-----------+\n",
      "|  YR7220|      New York|     Electronics|  12254943| 31|20.77|    1.86|29.14|2019-11-26|          $|\n",
      "|  YR7220|      New York|       Furniture| 72619323C| 15| 9.75|     1.5| 13.5|2019-11-26|          $|\n",
      "|  YR7220|     New York |     Electronics| 34161682B| 88|62.48|     4.4| 83.6|2019-11-26|          $|\n",
      "|  YR7220|      New York|         Kitchen|  79411621| 91|58.24|    3.64|87.36|2019-11-26|          $|\n",
      "|  YR7220|      New York|         Fashion| 39520263T| 85|   51|    2.55|82.45|2019-11-26|          $|\n",
      "|  YR7220|      New York|         Kitchen|  93809204| 37|24.05|    0.74|36.26|2019-11-26|          $|\n",
      "|  YR7220|      New York|       Cosmetics| 86610412D| 80| 48.8|     6.4| 73.6|2019-11-26|          $|\n",
      "|  YR7220|      New York|         Kitchen|  52503356| 71| 42.6|    5.68|65.32|2019-11-26|          $|\n",
      "|  YR7220|      New York|         Kitchen|  77516479| 92|56.12|    3.68|88.32|2019-11-26|          $|\n",
      "|  YR7220|      New York|       Cosmetics|  47334289| 16|10.72|    0.96|15.04|2019-11-26|          $|\n",
      "|  YR7220|      New York|       Cosmetics|  87566223| 38|23.18|    2.66|35.34|2019-11-26|          $|\n",
      "|  YR7220|      New York|     Electronics|  54074401| 26|17.68|    0.52|25.48|2019-11-26|          $|\n",
      "|  YR7220|      New York|         Fashion| 24246520G| 45|30.15|    1.35|43.65|2019-11-26|          $|\n",
      "|  YR7220|      New York|       Cosmetics|  61138610| 83|57.27|    1.66|81.34|2019-11-26|          $|\n",
      "|  YR7220|      New York|         Kitchen|  69018554| 55| 37.4|    1.65|53.35|2019-11-26|          $|\n",
      "|  YR7220|      New York|       Groceries| 11950073P| 13| 7.93|    0.39|12.61|2019-11-26|          $|\n",
      "|  YR7220|      New York|         Fashion|  86404418| 69| 48.3|    4.83|64.17|2019-11-26|          $|\n",
      "|  YR7220|      New York|         Fashion|  91763000| 18| 11.7|    0.36|17.64|2019-11-26|          $|\n",
      "|  YR7220|      New York|       Groceries|  53648681| 52|36.92|    1.04|50.96|2019-11-26|          $|\n",
      "|  YR7220|      New York|       Groceries| 15652465T| 29|18.85|    2.03|26.97|2019-11-26|          $|\n",
      "+--------+--------------+----------------+----------+---+-----+--------+-----+----------+-----------+\n",
      "only showing top 20 rows\n",
      "\n"
     ]
    }
   ],
   "source": [
    "df4.show()"
   ]
  },
  {
   "cell_type": "code",
   "execution_count": null,
   "id": "66d6882e-8b8f-49b0-89cb-fe755e9c769b",
   "metadata": {},
   "outputs": [],
   "source": [
    "(df4.write\n",
    ".format(\"jdbc\")\n",
    ".mode(\"overwrite\")\n",
    ".option(\"driver\", \"org.postgresql.Driver\")\n",
    ".option(\"url\", f\"jdbc:postgresql://{db_ip}:5432/traindb\")\n",
    ".option(\"dbtable\", \"clean_transactions\")\n",
    ".option(\"user\", user_name)\n",
    ".option(\"password\", password)\n",
    ".save())"
   ]
  },
  {
   "cell_type": "code",
   "execution_count": 53,
   "id": "f32cf82b-a277-4825-a442-6f66a3cbdd37",
   "metadata": {},
   "outputs": [],
   "source": [
    "df5 = (spark.read.format(\"jdbc\") \n",
    ".option(\"driver\",\"org.postgresql.Driver\")\n",
    ".option(\"url\",f\"jdbc:postgresql://{db_ip}:5432/traindb\")\n",
    ".option(\"dbtable\",\"clean_transactions\")\n",
    ".option(\"user\",user_name)\n",
    ".option(\"password\",password)\n",
    ".load())"
   ]
  },
  {
   "cell_type": "code",
   "execution_count": 54,
   "id": "02301038-7145-4e81-93b7-2986c51748f9",
   "metadata": {},
   "outputs": [
    {
     "name": "stdout",
     "output_type": "stream",
     "text": [
      "+--------+--------------+----------------+----------+---+-----+--------+-----+----------+-----------+\n",
      "|STORE_ID|STORE_LOCATION|PRODUCT_CATEGORY|PRODUCT_ID|MRP|   CP|DISCOUNT|   SP|      Date|Money Unity|\n",
      "+--------+--------------+----------------+----------+---+-----+--------+-----+----------+-----------+\n",
      "|  YR7220|      New York|     Electronics|  12254943| 31|20.77|    1.86|29.14|2019-11-26|          $|\n",
      "|  YR7220|      New York|       Furniture| 72619323C| 15| 9.75|     1.5| 13.5|2019-11-26|          $|\n",
      "|  YR7220|     New York |     Electronics| 34161682B| 88|62.48|     4.4| 83.6|2019-11-26|          $|\n",
      "|  YR7220|      New York|         Kitchen|  79411621| 91|58.24|    3.64|87.36|2019-11-26|          $|\n",
      "|  YR7220|      New York|         Fashion| 39520263T| 85|   51|    2.55|82.45|2019-11-26|          $|\n",
      "|  YR7220|      New York|         Kitchen|  93809204| 37|24.05|    0.74|36.26|2019-11-26|          $|\n",
      "|  YR7220|      New York|       Cosmetics| 86610412D| 80| 48.8|     6.4| 73.6|2019-11-26|          $|\n",
      "|  YR7220|      New York|         Kitchen|  52503356| 71| 42.6|    5.68|65.32|2019-11-26|          $|\n",
      "|  YR7220|      New York|         Kitchen|  77516479| 92|56.12|    3.68|88.32|2019-11-26|          $|\n",
      "|  YR7220|      New York|       Cosmetics|  47334289| 16|10.72|    0.96|15.04|2019-11-26|          $|\n",
      "|  YR7220|      New York|       Cosmetics|  87566223| 38|23.18|    2.66|35.34|2019-11-26|          $|\n",
      "|  YR7220|      New York|     Electronics|  54074401| 26|17.68|    0.52|25.48|2019-11-26|          $|\n",
      "|  YR7220|      New York|         Fashion| 24246520G| 45|30.15|    1.35|43.65|2019-11-26|          $|\n",
      "|  YR7220|      New York|       Cosmetics|  61138610| 83|57.27|    1.66|81.34|2019-11-26|          $|\n",
      "|  YR7220|      New York|         Kitchen|  69018554| 55| 37.4|    1.65|53.35|2019-11-26|          $|\n",
      "|  YR7220|      New York|       Groceries| 11950073P| 13| 7.93|    0.39|12.61|2019-11-26|          $|\n",
      "|  YR7220|      New York|         Fashion|  86404418| 69| 48.3|    4.83|64.17|2019-11-26|          $|\n",
      "|  YR7220|      New York|         Fashion|  91763000| 18| 11.7|    0.36|17.64|2019-11-26|          $|\n",
      "|  YR7220|      New York|       Groceries|  53648681| 52|36.92|    1.04|50.96|2019-11-26|          $|\n",
      "|  YR7220|      New York|       Groceries| 15652465T| 29|18.85|    2.03|26.97|2019-11-26|          $|\n",
      "+--------+--------------+----------------+----------+---+-----+--------+-----+----------+-----------+\n",
      "only showing top 20 rows\n",
      "\n"
     ]
    }
   ],
   "source": [
    "df5.show()"
   ]
  },
  {
   "cell_type": "code",
   "execution_count": null,
   "id": "5a216be5-3183-4019-b39d-a0d60c13ac65",
   "metadata": {},
   "outputs": [],
   "source": []
  }
 ],
 "metadata": {
  "kernelspec": {
   "display_name": "Python 3 (ipykernel)",
   "language": "python",
   "name": "python3"
  },
  "language_info": {
   "codemirror_mode": {
    "name": "ipython",
    "version": 3
   },
   "file_extension": ".py",
   "mimetype": "text/x-python",
   "name": "python",
   "nbconvert_exporter": "python",
   "pygments_lexer": "ipython3",
   "version": "3.8.12"
  }
 },
 "nbformat": 4,
 "nbformat_minor": 5
}
