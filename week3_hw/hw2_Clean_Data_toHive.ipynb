{
 "cells": [
  {
   "cell_type": "code",
   "execution_count": 1,
   "id": "a1e11b15-f590-4eeb-94dc-291a2fa784a0",
   "metadata": {
    "tags": []
   },
   "outputs": [],
   "source": [
    "from pyspark.sql import SparkSession, functions as F\n",
    "from pyspark.sql.types import * \n",
    "from pyspark.sql.functions import regexp_replace,split,substring"
   ]
  },
  {
   "cell_type": "code",
   "execution_count": 2,
   "id": "89ed500f-8a30-4b5c-a513-361009e6bfcc",
   "metadata": {
    "tags": []
   },
   "outputs": [
    {
     "name": "stderr",
     "output_type": "stream",
     "text": [
      "WARNING: An illegal reflective access operation has occurred\n",
      "WARNING: Illegal reflective access by org.apache.spark.unsafe.Platform (file:/opt/manual/spark-3.1.1-bin-hadoop3.2/jars/spark-unsafe_2.12-3.1.1.jar) to constructor java.nio.DirectByteBuffer(long,int)\n",
      "WARNING: Please consider reporting this to the maintainers of org.apache.spark.unsafe.Platform\n",
      "WARNING: Use --illegal-access=warn to enable warnings of further illegal reflective access operations\n",
      "WARNING: All illegal access operations will be denied in a future release\n",
      "2023-02-23 17:40:36,519 WARN util.NativeCodeLoader: Unable to load native-hadoop library for your platform... using builtin-java classes where applicable\n",
      "Setting default log level to \"WARN\".\n",
      "To adjust logging level use sc.setLogLevel(newLevel). For SparkR, use setLogLevel(newLevel).\n",
      "2023-02-23 17:40:44,894 WARN yarn.Client: Neither spark.yarn.jars nor spark.yarn.archive is set, falling back to uploading libraries under SPARK_HOME.\n"
     ]
    }
   ],
   "source": [
    "spark = SparkSession.builder \\\n",
    ".master(\"yarn\") \\\n",
    ".appName(\"DataframeWriter\") \\\n",
    ".enableHiveSupport() \\\n",
    ".getOrCreate()"
   ]
  },
  {
   "cell_type": "markdown",
   "id": "b369d645-eb1f-48fd-945f-e829b481f43d",
   "metadata": {},
   "source": [
    "# Read Data"
   ]
  },
  {
   "cell_type": "code",
   "execution_count": 4,
   "id": "eb806e05-7c90-4788-8953-901f2f5e19cf",
   "metadata": {},
   "outputs": [
    {
     "name": "stderr",
     "output_type": "stream",
     "text": [
      "                                                                                \r"
     ]
    }
   ],
   "source": [
    "df = spark.read \\\n",
    ".format(\"csv\") \\\n",
    ".option(\"header\", True) \\\n",
    ".option(\"sep\", \",\") \\\n",
    ".option(\"inferSchema\", True) \\\n",
    ".load(\"file:///home/train/datasets/dirty_store_transactions.csv\")"
   ]
  },
  {
   "cell_type": "code",
   "execution_count": 5,
   "id": "1da654dc-6234-4c5f-9bfd-b986f3ae0fb9",
   "metadata": {
    "tags": []
   },
   "outputs": [],
   "source": [
    "from pyspark.sql import SparkSession, functions as F\n",
    "from pyspark.sql.types import  *"
   ]
  },
  {
   "cell_type": "code",
   "execution_count": 6,
   "id": "5e23ee20-2526-4038-9795-eafced222fbd",
   "metadata": {
    "tags": []
   },
   "outputs": [],
   "source": [
    "programmatical_schema = StructType([\n",
    "        StructField(\"STORE_ID\",StringType(),True),\n",
    "        StructField(\"STORE_LOCATION\",StringType(),True),\n",
    "        StructField(\"PRODUCT_CATEGORY\",StringType(),True),\n",
    "        StructField(\"PRODUCT_ID\",StringType(),True),\n",
    "        StructField(\"MRP\",StringType(),True),\n",
    "        StructField(\"CP\",StringType(),True),\n",
    "        StructField(\"DISCOUNT\",StringType(),True),\n",
    "        StructField(\"SP\",StringType(),True),\n",
    "        StructField(\"Date\",DateType(),True)\n",
    "    ])"
   ]
  },
  {
   "cell_type": "code",
   "execution_count": 7,
   "id": "90a8d120-bd7d-4cfb-bf65-106078c0917f",
   "metadata": {
    "tags": []
   },
   "outputs": [],
   "source": [
    "df2 = spark.read \\\n",
    ".format(\"csv\") \\\n",
    ".option(\"header\", True) \\\n",
    ".option(\"sep\", \",\") \\\n",
    ".schema(programmatical_schema) \\\n",
    ".load(\"file:///home/train/datasets/dirty_store_transactions.csv\")"
   ]
  },
  {
   "cell_type": "code",
   "execution_count": 8,
   "id": "73ba89bf-ba23-4fa3-95c2-fb42b76c5571",
   "metadata": {
    "tags": []
   },
   "outputs": [],
   "source": [
    "symbol_pattern = r\"[^\\w\\s]\""
   ]
  },
  {
   "cell_type": "code",
   "execution_count": 9,
   "id": "2da8e154-e474-4853-9f09-33ca7d8b944a",
   "metadata": {
    "tags": []
   },
   "outputs": [],
   "source": [
    "df3 = df2.withColumn(\"STORE_LOCATION\", regexp_replace(\"STORE_LOCATION\", symbol_pattern, \"\"))"
   ]
  },
  {
   "cell_type": "code",
   "execution_count": 10,
   "id": "f21f61be-0228-4795-80dc-ceeeb665ea97",
   "metadata": {
    "tags": []
   },
   "outputs": [],
   "source": [
    "df4 = df3.withColumn(\"PRODUCT_ID\", regexp_replace(\"PRODUCT_ID\", symbol_pattern, \"\"))\n"
   ]
  },
  {
   "cell_type": "code",
   "execution_count": 11,
   "id": "36d58aa1-7120-4af7-b30a-f36b0c26b0de",
   "metadata": {
    "tags": []
   },
   "outputs": [
    {
     "name": "stdout",
     "output_type": "stream",
     "text": [
      "+--------+--------------+----------------+----------+---+------+--------+------+----------+\n",
      "|STORE_ID|STORE_LOCATION|PRODUCT_CATEGORY|PRODUCT_ID|MRP|CP    |DISCOUNT|SP    |Date      |\n",
      "+--------+--------------+----------------+----------+---+------+--------+------+----------+\n",
      "|YR7220  |New York      |Electronics     |12254943  |$31|$20.77|$1.86   |$29.14|2019-11-26|\n",
      "|YR7220  |New York      |Furniture       |72619323C |$15|$9.75 |$1.5    |$13.5 |2019-11-26|\n",
      "|YR7220  |New York      |Electronics     |34161682B |$88|$62.48|$4.4    |$83.6 |2019-11-26|\n",
      "|YR7220  |New York      |Kitchen         |79411621  |$91|$58.24|$3.64   |$87.36|2019-11-26|\n",
      "|YR7220  |New York      |Fashion         |39520263T |$85|$51   |$2.55   |$82.45|2019-11-26|\n",
      "|YR7220  |New York      |Kitchen         |93809204  |$37|$24.05|$0.74   |$36.26|2019-11-26|\n",
      "|YR7220  |New York      |Cosmetics       |86610412D |$80|$48.8 |$6.4    |$73.6 |2019-11-26|\n",
      "|YR7220  |New York      |Kitchen         |52503356  |$71|$42.6 |$5.68   |$65.32|2019-11-26|\n",
      "|YR7220  |New York      |Kitchen         |77516479  |$92|$56.12|$3.68   |$88.32|2019-11-26|\n",
      "|YR7220  |New York      |Cosmetics       |47334289  |$16|$10.72|$0.96   |$15.04|2019-11-26|\n",
      "|YR7220  |New York      |Cosmetics       |87566223  |$38|$23.18|$2.66   |$35.34|2019-11-26|\n",
      "|YR7220  |New York      |Electronics     |54074401  |$26|$17.68|$0.52   |$25.48|2019-11-26|\n",
      "|YR7220  |New York      |Fashion         |24246520G |$45|$30.15|$1.35   |$43.65|2019-11-26|\n",
      "|YR7220  |New York      |Cosmetics       |61138610  |$83|$57.27|$1.66   |$81.34|2019-11-26|\n",
      "|YR7220  |New York      |Kitchen         |69018554  |$55|$37.4 |$1.65   |$53.35|2019-11-26|\n",
      "+--------+--------------+----------------+----------+---+------+--------+------+----------+\n",
      "only showing top 15 rows\n",
      "\n"
     ]
    }
   ],
   "source": [
    "df4.show(n=15, truncate=False)\n"
   ]
  },
  {
   "cell_type": "code",
   "execution_count": null,
   "id": "b0d10bf9-8dc2-4da5-99a0-4655990752a8",
   "metadata": {
    "tags": []
   },
   "outputs": [],
   "source": []
  },
  {
   "cell_type": "code",
   "execution_count": null,
   "id": "a1f3a6f2-f37d-4dd3-b9db-965ccdf85aed",
   "metadata": {},
   "outputs": [],
   "source": []
  },
  {
   "cell_type": "code",
   "execution_count": 12,
   "id": "8bdb2435-fcfd-4660-b5c0-407bd3f33ac7",
   "metadata": {
    "tags": []
   },
   "outputs": [
    {
     "data": {
      "text/html": [
       "<div>\n",
       "<style scoped>\n",
       "    .dataframe tbody tr th:only-of-type {\n",
       "        vertical-align: middle;\n",
       "    }\n",
       "\n",
       "    .dataframe tbody tr th {\n",
       "        vertical-align: top;\n",
       "    }\n",
       "\n",
       "    .dataframe thead th {\n",
       "        text-align: right;\n",
       "    }\n",
       "</style>\n",
       "<table border=\"1\" class=\"dataframe\">\n",
       "  <thead>\n",
       "    <tr style=\"text-align: right;\">\n",
       "      <th></th>\n",
       "      <th>STORE_ID</th>\n",
       "      <th>STORE_LOCATION</th>\n",
       "      <th>PRODUCT_CATEGORY</th>\n",
       "      <th>PRODUCT_ID</th>\n",
       "      <th>MRP</th>\n",
       "      <th>CP</th>\n",
       "      <th>DISCOUNT</th>\n",
       "      <th>SP</th>\n",
       "      <th>Date</th>\n",
       "    </tr>\n",
       "  </thead>\n",
       "  <tbody>\n",
       "    <tr>\n",
       "      <th>0</th>\n",
       "      <td>YR7220</td>\n",
       "      <td>New York</td>\n",
       "      <td>Electronics</td>\n",
       "      <td>12254943</td>\n",
       "      <td>$31</td>\n",
       "      <td>$20.77</td>\n",
       "      <td>$1.86</td>\n",
       "      <td>$29.14</td>\n",
       "      <td>2019-11-26</td>\n",
       "    </tr>\n",
       "    <tr>\n",
       "      <th>1</th>\n",
       "      <td>YR7220</td>\n",
       "      <td>New York</td>\n",
       "      <td>Furniture</td>\n",
       "      <td>72619323C</td>\n",
       "      <td>$15</td>\n",
       "      <td>$9.75</td>\n",
       "      <td>$1.5</td>\n",
       "      <td>$13.5</td>\n",
       "      <td>2019-11-26</td>\n",
       "    </tr>\n",
       "    <tr>\n",
       "      <th>2</th>\n",
       "      <td>YR7220</td>\n",
       "      <td>New York</td>\n",
       "      <td>Electronics</td>\n",
       "      <td>34161682B</td>\n",
       "      <td>$88</td>\n",
       "      <td>$62.48</td>\n",
       "      <td>$4.4</td>\n",
       "      <td>$83.6</td>\n",
       "      <td>2019-11-26</td>\n",
       "    </tr>\n",
       "    <tr>\n",
       "      <th>3</th>\n",
       "      <td>YR7220</td>\n",
       "      <td>New York</td>\n",
       "      <td>Kitchen</td>\n",
       "      <td>79411621</td>\n",
       "      <td>$91</td>\n",
       "      <td>$58.24</td>\n",
       "      <td>$3.64</td>\n",
       "      <td>$87.36</td>\n",
       "      <td>2019-11-26</td>\n",
       "    </tr>\n",
       "    <tr>\n",
       "      <th>4</th>\n",
       "      <td>YR7220</td>\n",
       "      <td>New York</td>\n",
       "      <td>Fashion</td>\n",
       "      <td>39520263T</td>\n",
       "      <td>$85</td>\n",
       "      <td>$51</td>\n",
       "      <td>$2.55</td>\n",
       "      <td>$82.45</td>\n",
       "      <td>2019-11-26</td>\n",
       "    </tr>\n",
       "  </tbody>\n",
       "</table>\n",
       "</div>"
      ],
      "text/plain": [
       "  STORE_ID STORE_LOCATION PRODUCT_CATEGORY PRODUCT_ID  MRP      CP DISCOUNT  \\\n",
       "0   YR7220       New York      Electronics   12254943  $31  $20.77    $1.86   \n",
       "1   YR7220       New York        Furniture  72619323C  $15   $9.75     $1.5   \n",
       "2   YR7220      New York       Electronics  34161682B  $88  $62.48     $4.4   \n",
       "3   YR7220       New York          Kitchen   79411621  $91  $58.24    $3.64   \n",
       "4   YR7220       New York          Fashion  39520263T  $85     $51    $2.55   \n",
       "\n",
       "       SP        Date  \n",
       "0  $29.14  2019-11-26  \n",
       "1   $13.5  2019-11-26  \n",
       "2   $83.6  2019-11-26  \n",
       "3  $87.36  2019-11-26  \n",
       "4  $82.45  2019-11-26  "
      ]
     },
     "execution_count": 12,
     "metadata": {},
     "output_type": "execute_result"
    }
   ],
   "source": [
    "df4.limit(5).toPandas()"
   ]
  },
  {
   "cell_type": "code",
   "execution_count": 13,
   "id": "7cfb6779-a259-4636-962a-936936885d36",
   "metadata": {
    "tags": []
   },
   "outputs": [],
   "source": [
    "from pyspark.sql.functions import split, col\n",
    "\n",
    "\n",
    "df4 = df4.withColumn('Money Unity', substring('CP', 1, 1))"
   ]
  },
  {
   "cell_type": "code",
   "execution_count": 14,
   "id": "e2ab1e3c-85a2-42cd-82b3-77759a978762",
   "metadata": {
    "tags": []
   },
   "outputs": [],
   "source": [
    "\n",
    "df4 = df4.withColumn(\"CP\", split(col(\"CP\"), \"\\$\").getItem(1))\n",
    "df4 = df4.withColumn(\"DISCOUNT\", split(col(\"DISCOUNT\"), \"\\$\").getItem(1))\n",
    "df4 = df4.withColumn(\"SP\", split(col(\"SP\"), \"\\$\").getItem(1))\n",
    "df4 = df4.withColumn(\"MRP\", split(col(\"MRP\"), \"\\$\").getItem(1))"
   ]
  },
  {
   "cell_type": "code",
   "execution_count": 15,
   "id": "6ca1f0ea-e51f-44b3-ad4c-34344efa149f",
   "metadata": {
    "tags": []
   },
   "outputs": [
    {
     "name": "stdout",
     "output_type": "stream",
     "text": [
      "+--------+--------------+----------------+----------+---+-----+--------+-----+----------+-----------+\n",
      "|STORE_ID|STORE_LOCATION|PRODUCT_CATEGORY|PRODUCT_ID|MRP|   CP|DISCOUNT|   SP|      Date|Money Unity|\n",
      "+--------+--------------+----------------+----------+---+-----+--------+-----+----------+-----------+\n",
      "|  YR7220|      New York|     Electronics|  12254943| 31|20.77|    1.86|29.14|2019-11-26|          $|\n",
      "|  YR7220|      New York|       Furniture| 72619323C| 15| 9.75|     1.5| 13.5|2019-11-26|          $|\n",
      "|  YR7220|     New York |     Electronics| 34161682B| 88|62.48|     4.4| 83.6|2019-11-26|          $|\n",
      "|  YR7220|      New York|         Kitchen|  79411621| 91|58.24|    3.64|87.36|2019-11-26|          $|\n",
      "|  YR7220|      New York|         Fashion| 39520263T| 85|   51|    2.55|82.45|2019-11-26|          $|\n",
      "|  YR7220|      New York|         Kitchen|  93809204| 37|24.05|    0.74|36.26|2019-11-26|          $|\n",
      "|  YR7220|      New York|       Cosmetics| 86610412D| 80| 48.8|     6.4| 73.6|2019-11-26|          $|\n",
      "|  YR7220|      New York|         Kitchen|  52503356| 71| 42.6|    5.68|65.32|2019-11-26|          $|\n",
      "|  YR7220|      New York|         Kitchen|  77516479| 92|56.12|    3.68|88.32|2019-11-26|          $|\n",
      "|  YR7220|      New York|       Cosmetics|  47334289| 16|10.72|    0.96|15.04|2019-11-26|          $|\n",
      "|  YR7220|      New York|       Cosmetics|  87566223| 38|23.18|    2.66|35.34|2019-11-26|          $|\n",
      "|  YR7220|      New York|     Electronics|  54074401| 26|17.68|    0.52|25.48|2019-11-26|          $|\n",
      "|  YR7220|      New York|         Fashion| 24246520G| 45|30.15|    1.35|43.65|2019-11-26|          $|\n",
      "|  YR7220|      New York|       Cosmetics|  61138610| 83|57.27|    1.66|81.34|2019-11-26|          $|\n",
      "|  YR7220|      New York|         Kitchen|  69018554| 55| 37.4|    1.65|53.35|2019-11-26|          $|\n",
      "|  YR7220|      New York|       Groceries| 11950073P| 13| 7.93|    0.39|12.61|2019-11-26|          $|\n",
      "|  YR7220|      New York|         Fashion|  86404418| 69| 48.3|    4.83|64.17|2019-11-26|          $|\n",
      "|  YR7220|      New York|         Fashion|  91763000| 18| 11.7|    0.36|17.64|2019-11-26|          $|\n",
      "|  YR7220|      New York|       Groceries|  53648681| 52|36.92|    1.04|50.96|2019-11-26|          $|\n",
      "|  YR7220|      New York|       Groceries| 15652465T| 29|18.85|    2.03|26.97|2019-11-26|          $|\n",
      "+--------+--------------+----------------+----------+---+-----+--------+-----+----------+-----------+\n",
      "only showing top 20 rows\n",
      "\n"
     ]
    }
   ],
   "source": [
    "df4.show()"
   ]
  },
  {
   "cell_type": "code",
   "execution_count": 16,
   "id": "9c57af81-4b18-49ce-a0c3-3f499c11d2c7",
   "metadata": {},
   "outputs": [
    {
     "name": "stderr",
     "output_type": "stream",
     "text": [
      "2023-02-23 17:24:48,605 WARN conf.HiveConf: HiveConf of name hive.stats.jdbc.timeout does not exist\n",
      "2023-02-23 17:24:48,606 WARN conf.HiveConf: HiveConf of name hive.stats.retries.wait does not exist\n"
     ]
    },
    {
     "name": "stdout",
     "output_type": "stream",
     "text": [
      "+---------+\n",
      "|namespace|\n",
      "+---------+\n",
      "|bookstore|\n",
      "|  company|\n",
      "|  default|\n",
      "|    test1|\n",
      "+---------+\n",
      "\n"
     ]
    }
   ],
   "source": [
    "spark.sql(\"show databases\").show()"
   ]
  },
  {
   "cell_type": "code",
   "execution_count": null,
   "id": "12de34f0-d7e0-4d3b-9566-33690724df06",
   "metadata": {},
   "outputs": [],
   "source": [
    "spark.sql(\"create database if not exists test1;\")\n"
   ]
  },
  {
   "cell_type": "code",
   "execution_count": 18,
   "id": "8c745374-5ee5-4d9d-a3bf-57ca66d7c207",
   "metadata": {
    "tags": []
   },
   "outputs": [
    {
     "name": "stderr",
     "output_type": "stream",
     "text": [
      "2023-02-23 17:28:11,147 WARN session.SessionState: METASTORE_FILTER_HOOK will be ignored, since hive.security.authorization.manager is set to instance of HiveAuthorizerFactory.\n",
      "2023-02-23 17:28:11,273 WARN conf.HiveConf: HiveConf of name hive.internal.ss.authz.settings.applied.marker does not exist\n",
      "2023-02-23 17:28:11,273 WARN conf.HiveConf: HiveConf of name hive.stats.jdbc.timeout does not exist\n",
      "2023-02-23 17:28:11,273 WARN conf.HiveConf: HiveConf of name hive.stats.retries.wait does not exist\n"
     ]
    }
   ],
   "source": [
    "df4.write \\\n",
    ".format(\"orc\") \\\n",
    ".mode(\"overwrite\") \\\n",
    ".saveAsTable(\"test1.clean_transactions\")"
   ]
  },
  {
   "cell_type": "code",
   "execution_count": 19,
   "id": "b35c1741-1e49-4798-a9b7-5c66f9ee24c4",
   "metadata": {
    "tags": []
   },
   "outputs": [],
   "source": [
    "df_from_orc = spark.read.orc(\"test1.clean_transactions\")"
   ]
  },
  {
   "cell_type": "code",
   "execution_count": 20,
   "id": "00e5917d-af6d-4e45-9e22-4d0485912bda",
   "metadata": {},
   "outputs": [
    {
     "data": {
      "text/html": [
       "<div>\n",
       "<style scoped>\n",
       "    .dataframe tbody tr th:only-of-type {\n",
       "        vertical-align: middle;\n",
       "    }\n",
       "\n",
       "    .dataframe tbody tr th {\n",
       "        vertical-align: top;\n",
       "    }\n",
       "\n",
       "    .dataframe thead th {\n",
       "        text-align: right;\n",
       "    }\n",
       "</style>\n",
       "<table border=\"1\" class=\"dataframe\">\n",
       "  <thead>\n",
       "    <tr style=\"text-align: right;\">\n",
       "      <th></th>\n",
       "      <th>STORE_ID</th>\n",
       "      <th>STORE_LOCATION</th>\n",
       "      <th>PRODUCT_CATEGORY</th>\n",
       "      <th>PRODUCT_ID</th>\n",
       "      <th>MRP</th>\n",
       "      <th>CP</th>\n",
       "      <th>DISCOUNT</th>\n",
       "      <th>SP</th>\n",
       "      <th>Date</th>\n",
       "      <th>Money Unity</th>\n",
       "    </tr>\n",
       "  </thead>\n",
       "  <tbody>\n",
       "    <tr>\n",
       "      <th>0</th>\n",
       "      <td>YR7220</td>\n",
       "      <td>New York</td>\n",
       "      <td>Electronics</td>\n",
       "      <td>12254943</td>\n",
       "      <td>31</td>\n",
       "      <td>20.77</td>\n",
       "      <td>1.86</td>\n",
       "      <td>29.14</td>\n",
       "      <td>2019-11-26</td>\n",
       "      <td>$</td>\n",
       "    </tr>\n",
       "    <tr>\n",
       "      <th>1</th>\n",
       "      <td>YR7220</td>\n",
       "      <td>New York</td>\n",
       "      <td>Furniture</td>\n",
       "      <td>72619323C</td>\n",
       "      <td>15</td>\n",
       "      <td>9.75</td>\n",
       "      <td>1.5</td>\n",
       "      <td>13.5</td>\n",
       "      <td>2019-11-26</td>\n",
       "      <td>$</td>\n",
       "    </tr>\n",
       "  </tbody>\n",
       "</table>\n",
       "</div>"
      ],
      "text/plain": [
       "  STORE_ID STORE_LOCATION PRODUCT_CATEGORY PRODUCT_ID MRP     CP DISCOUNT  \\\n",
       "0   YR7220       New York      Electronics   12254943  31  20.77     1.86   \n",
       "1   YR7220       New York        Furniture  72619323C  15   9.75      1.5   \n",
       "\n",
       "      SP        Date Money Unity  \n",
       "0  29.14  2019-11-26           $  \n",
       "1   13.5  2019-11-26           $  "
      ]
     },
     "execution_count": 20,
     "metadata": {},
     "output_type": "execute_result"
    }
   ],
   "source": [
    "df_from_orc.limit(2).toPandas()"
   ]
  },
  {
   "cell_type": "code",
   "execution_count": null,
   "id": "9a140ede-b171-4ffd-9105-361f65f658c7",
   "metadata": {},
   "outputs": [],
   "source": []
  },
  {
   "cell_type": "code",
   "execution_count": null,
   "id": "f32cf82b-a277-4825-a442-6f66a3cbdd37",
   "metadata": {},
   "outputs": [],
   "source": []
  },
  {
   "cell_type": "code",
   "execution_count": null,
   "id": "02301038-7145-4e81-93b7-2986c51748f9",
   "metadata": {},
   "outputs": [],
   "source": []
  },
  {
   "cell_type": "code",
   "execution_count": null,
   "id": "bf15f1f2-2d0b-4f36-bb50-840ac11f30bc",
   "metadata": {},
   "outputs": [],
   "source": []
  }
 ],
 "metadata": {
  "kernelspec": {
   "display_name": "Python 3 (ipykernel)",
   "language": "python",
   "name": "python3"
  },
  "language_info": {
   "codemirror_mode": {
    "name": "ipython",
    "version": 3
   },
   "file_extension": ".py",
   "mimetype": "text/x-python",
   "name": "python",
   "nbconvert_exporter": "python",
   "pygments_lexer": "ipython3",
   "version": "3.8.12"
  }
 },
 "nbformat": 4,
 "nbformat_minor": 5
}
