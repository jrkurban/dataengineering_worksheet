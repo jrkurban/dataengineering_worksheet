{
 "cells": [
  {
   "cell_type": "code",
   "execution_count": 1,
   "id": "acadc6a5-0107-4d82-8016-aa917c8f9c09",
   "metadata": {},
   "outputs": [],
   "source": [
    "from pyspark.sql import SparkSession\n",
    "from pyspark import SparkContext\n",
    "\n",
    "import warnings\n",
    "warnings.filterwarnings('ignore')"
   ]
  },
  {
   "cell_type": "code",
   "execution_count": 2,
   "id": "d068f683-bdf5-4509-8330-f4f1dff86e2e",
   "metadata": {},
   "outputs": [
    {
     "name": "stderr",
     "output_type": "stream",
     "text": [
      "23/02/24 13:37:44 WARN NativeCodeLoader: Unable to load native-hadoop library for your platform... using builtin-java classes where applicable\n",
      "Using Spark's default log4j profile: org/apache/spark/log4j-defaults.properties\n",
      "Setting default log level to \"WARN\".\n",
      "To adjust logging level use sc.setLogLevel(newLevel). For SparkR, use setLogLevel(newLevel).\n"
     ]
    }
   ],
   "source": [
    "accessKeyId='spark'\n",
    "secretAccessKey='Ankara06'\n",
    "\n",
    "# create a SparkSession\n",
    "spark = SparkSession.builder \\\n",
    ".appName(\"Spark Example MinIO\") \\\n",
    ".master(\"spark://spark-master:7077\") \\\n",
    ".getOrCreate()"
   ]
  },
  {
   "cell_type": "code",
   "execution_count": 3,
   "id": "3acce4d2-7139-48ed-b5a4-466f2d4f1cea",
   "metadata": {},
   "outputs": [],
   "source": [
    "def load_config(spark_context: SparkContext):\n",
    "    spark_context._jsc.hadoopConfiguration().set('fs.s3a.access.key', accessKeyId)\n",
    "    spark_context._jsc.hadoopConfiguration().set('fs.s3a.secret.key', secretAccessKey)\n",
    "    spark_context._jsc.hadoopConfiguration().set('fs.s3a.path.style.access', 'true')\n",
    "    spark_context._jsc.hadoopConfiguration().set('fs.s3a.impl', 'org.apache.hadoop.fs.s3a.S3AFileSystem')\n",
    "    spark_context._jsc.hadoopConfiguration().set('fs.s3a.endpoint', 'http://minio:9000')"
   ]
  },
  {
   "cell_type": "code",
   "execution_count": 4,
   "id": "7d6e520f-846b-41e6-a824-748c1d192f3f",
   "metadata": {},
   "outputs": [
    {
     "name": "stderr",
     "output_type": "stream",
     "text": [
      "23/02/24 13:38:00 WARN MetricsConfig: Cannot locate configuration: tried hadoop-metrics2-s3a-file-system.properties,hadoop-metrics2.properties\n",
      "                                                                                \r"
     ]
    }
   ],
   "source": [
    "load_config(spark.sparkContext)\n",
    "\n",
    "df = spark.read.format('csv').option('header','true') \\\n",
    ".load('s3a://datasets/iris.csv')"
   ]
  },
  {
   "cell_type": "code",
   "execution_count": 5,
   "id": "b7a1599c-90f9-43b3-991d-e7c01996b15f",
   "metadata": {},
   "outputs": [
    {
     "name": "stderr",
     "output_type": "stream",
     "text": [
      "[Stage 1:>                                                          (0 + 1) / 1]\r"
     ]
    },
    {
     "name": "stdout",
     "output_type": "stream",
     "text": [
      "+-------------+------------+-------------+------------+-----------+\n",
      "|SepalLengthCm|SepalWidthCm|PetalLengthCm|PetalWidthCm|    Species|\n",
      "+-------------+------------+-------------+------------+-----------+\n",
      "|          5.1|         3.5|          1.4|         0.2|Iris-setosa|\n",
      "|          4.9|         3.0|          1.4|         0.2|Iris-setosa|\n",
      "|          4.7|         3.2|          1.3|         0.2|Iris-setosa|\n",
      "|          4.6|         3.1|          1.5|         0.2|Iris-setosa|\n",
      "|          5.0|         3.6|          1.4|         0.2|Iris-setosa|\n",
      "|          5.4|         3.9|          1.7|         0.4|Iris-setosa|\n",
      "|          4.6|         3.4|          1.4|         0.3|Iris-setosa|\n",
      "|          5.0|         3.4|          1.5|         0.2|Iris-setosa|\n",
      "|          4.4|         2.9|          1.4|         0.2|Iris-setosa|\n",
      "|          4.9|         3.1|          1.5|         0.1|Iris-setosa|\n",
      "|          5.4|         3.7|          1.5|         0.2|Iris-setosa|\n",
      "|          4.8|         3.4|          1.6|         0.2|Iris-setosa|\n",
      "|          4.8|         3.0|          1.4|         0.1|Iris-setosa|\n",
      "|          4.3|         3.0|          1.1|         0.1|Iris-setosa|\n",
      "|          5.8|         4.0|          1.2|         0.2|Iris-setosa|\n",
      "|          5.7|         4.4|          1.5|         0.4|Iris-setosa|\n",
      "|          5.4|         3.9|          1.3|         0.4|Iris-setosa|\n",
      "|          5.1|         3.5|          1.4|         0.3|Iris-setosa|\n",
      "|          5.7|         3.8|          1.7|         0.3|Iris-setosa|\n",
      "|          5.1|         3.8|          1.5|         0.3|Iris-setosa|\n",
      "+-------------+------------+-------------+------------+-----------+\n",
      "only showing top 20 rows\n",
      "\n"
     ]
    },
    {
     "name": "stderr",
     "output_type": "stream",
     "text": [
      "                                                                                \r"
     ]
    }
   ],
   "source": [
    "df.select(df.columns[:5]).show()"
   ]
  },
  {
   "cell_type": "code",
   "execution_count": 6,
   "id": "f97098b3-dc4f-4ed2-b8fe-4284de18b859",
   "metadata": {},
   "outputs": [
    {
     "name": "stderr",
     "output_type": "stream",
     "text": [
      "                                                                                \r"
     ]
    }
   ],
   "source": [
    "df.write.save('s3a://datasets/iris_parquet')"
   ]
  },
  {
   "cell_type": "code",
   "execution_count": 7,
   "id": "7931984e-8f9b-471f-a527-0c42a0630b20",
   "metadata": {},
   "outputs": [
    {
     "name": "stderr",
     "output_type": "stream",
     "text": [
      "23/02/24 13:39:46 WARN JavaUtils: Attempt to delete using native Unix OS command failed for path = /tmp/spark-993ba7b5-b331-417e-9d98-1ae96879eb1c. Falling back to Java IO way\n",
      "java.io.IOException: Failed to delete: /tmp/spark-993ba7b5-b331-417e-9d98-1ae96879eb1c\n",
      "\tat org.apache.spark.network.util.JavaUtils.deleteRecursivelyUsingUnixNative(JavaUtils.java:171)\n",
      "\tat org.apache.spark.network.util.JavaUtils.deleteRecursively(JavaUtils.java:110)\n",
      "\tat org.apache.spark.network.util.JavaUtils.deleteRecursively(JavaUtils.java:91)\n",
      "\tat org.apache.spark.util.Utils$.deleteRecursively(Utils.scala:1141)\n",
      "\tat org.apache.spark.util.ShutdownHookManager$.$anonfun$new$4(ShutdownHookManager.scala:65)\n",
      "\tat org.apache.spark.util.ShutdownHookManager$.$anonfun$new$4$adapted(ShutdownHookManager.scala:62)\n",
      "\tat scala.collection.IndexedSeqOptimized.foreach(IndexedSeqOptimized.scala:36)\n",
      "\tat scala.collection.IndexedSeqOptimized.foreach$(IndexedSeqOptimized.scala:33)\n",
      "\tat scala.collection.mutable.ArrayOps$ofRef.foreach(ArrayOps.scala:198)\n",
      "\tat org.apache.spark.util.ShutdownHookManager$.$anonfun$new$2(ShutdownHookManager.scala:62)\n",
      "\tat org.apache.spark.util.SparkShutdownHook.run(ShutdownHookManager.scala:214)\n",
      "\tat org.apache.spark.util.SparkShutdownHookManager.$anonfun$runAll$2(ShutdownHookManager.scala:188)\n",
      "\tat scala.runtime.java8.JFunction0$mcV$sp.apply(JFunction0$mcV$sp.java:23)\n",
      "\tat org.apache.spark.util.Utils$.logUncaughtExceptions(Utils.scala:1996)\n",
      "\tat org.apache.spark.util.SparkShutdownHookManager.$anonfun$runAll$1(ShutdownHookManager.scala:188)\n",
      "\tat scala.runtime.java8.JFunction0$mcV$sp.apply(JFunction0$mcV$sp.java:23)\n",
      "\tat scala.util.Try$.apply(Try.scala:213)\n",
      "\tat org.apache.spark.util.SparkShutdownHookManager.runAll(ShutdownHookManager.scala:188)\n",
      "\tat org.apache.spark.util.SparkShutdownHookManager$$anon$2.run(ShutdownHookManager.scala:178)\n",
      "\tat java.util.concurrent.Executors$RunnableAdapter.call(Executors.java:511)\n",
      "\tat java.util.concurrent.FutureTask.run(FutureTask.java:266)\n",
      "\tat java.util.concurrent.ThreadPoolExecutor.runWorker(ThreadPoolExecutor.java:1149)\n",
      "\tat java.util.concurrent.ThreadPoolExecutor$Worker.run(ThreadPoolExecutor.java:624)\n",
      "\tat java.lang.Thread.run(Thread.java:750)\n"
     ]
    }
   ],
   "source": [
    "spark.stop()"
   ]
  },
  {
   "cell_type": "code",
   "execution_count": null,
   "id": "13b055de-c317-49e8-a8a5-c61041319d1e",
   "metadata": {},
   "outputs": [],
   "source": []
  }
 ],
 "metadata": {
  "kernelspec": {
   "display_name": "Python 3 (ipykernel)",
   "language": "python",
   "name": "python3"
  },
  "language_info": {
   "codemirror_mode": {
    "name": "ipython",
    "version": 3
   },
   "file_extension": ".py",
   "mimetype": "text/x-python",
   "name": "python",
   "nbconvert_exporter": "python",
   "pygments_lexer": "ipython3",
   "version": "3.7.11"
  }
 },
 "nbformat": 4,
 "nbformat_minor": 5
}
