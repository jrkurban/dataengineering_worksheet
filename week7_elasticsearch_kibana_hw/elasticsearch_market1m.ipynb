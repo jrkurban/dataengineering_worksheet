{
 "cells": [
  {
   "cell_type": "code",
   "execution_count": 1,
   "id": "67f361c2-f03f-4830-9ad1-8fccb5a4e9cf",
   "metadata": {
    "tags": []
   },
   "outputs": [],
   "source": [
    "from pyspark.sql import SparkSession, functions as F"
   ]
  },
  {
   "cell_type": "code",
   "execution_count": 2,
   "id": "627b1210-0611-452a-9121-32a435c41451",
   "metadata": {
    "tags": []
   },
   "outputs": [],
   "source": [
    "import findspark\n",
    "import warnings\n",
    "warnings.filterwarnings('ignore')\n",
    "from elasticsearch import Elasticsearch, helpers\n",
    "import time\n",
    "from pyspark.sql.functions import *"
   ]
  },
  {
   "cell_type": "code",
   "execution_count": 3,
   "id": "4444a518-5e38-4293-a46f-648e142825ae",
   "metadata": {
    "tags": []
   },
   "outputs": [
    {
     "name": "stderr",
     "output_type": "stream",
     "text": [
      "WARNING: An illegal reflective access operation has occurred\n",
      "WARNING: Illegal reflective access by org.apache.spark.unsafe.Platform (file:/opt/manual/spark-3.1.1-bin-hadoop3.2/jars/spark-unsafe_2.12-3.1.1.jar) to constructor java.nio.DirectByteBuffer(long,int)\n",
      "WARNING: Please consider reporting this to the maintainers of org.apache.spark.unsafe.Platform\n",
      "WARNING: Use --illegal-access=warn to enable warnings of further illegal reflective access operations\n",
      "WARNING: All illegal access operations will be denied in a future release\n"
     ]
    },
    {
     "name": "stdout",
     "output_type": "stream",
     "text": [
      ":: loading settings :: url = jar:file:/opt/manual/spark-3.1.1-bin-hadoop3.2/jars/ivy-2.4.0.jar!/org/apache/ivy/core/settings/ivysettings.xml\n"
     ]
    },
    {
     "name": "stderr",
     "output_type": "stream",
     "text": [
      "Ivy Default Cache set to: /home/train/.ivy2/cache\n",
      "The jars for the packages stored in: /home/train/.ivy2/jars\n",
      "org.elasticsearch#elasticsearch-spark-30_2.12 added as a dependency\n",
      ":: resolving dependencies :: org.apache.spark#spark-submit-parent-c5d9a4b7-afcf-46fe-a4ca-eb4f9f98990f;1.0\n",
      "\tconfs: [default]\n",
      "\tfound org.elasticsearch#elasticsearch-spark-30_2.12;7.12.1 in central\n",
      "\tfound org.scala-lang#scala-reflect;2.12.8 in central\n",
      "\tfound org.slf4j#slf4j-api;1.7.6 in local-m2-cache\n",
      "\tfound commons-logging#commons-logging;1.1.1 in local-m2-cache\n",
      "\tfound javax.xml.bind#jaxb-api;2.3.1 in central\n",
      "\tfound com.google.protobuf#protobuf-java;2.5.0 in local-m2-cache\n",
      "\tfound org.apache.spark#spark-yarn_2.12;3.0.1 in central\n",
      ":: resolution report :: resolve 861ms :: artifacts dl 7ms\n",
      "\t:: modules in use:\n",
      "\tcom.google.protobuf#protobuf-java;2.5.0 from local-m2-cache in [default]\n",
      "\tcommons-logging#commons-logging;1.1.1 from local-m2-cache in [default]\n",
      "\tjavax.xml.bind#jaxb-api;2.3.1 from central in [default]\n",
      "\torg.apache.spark#spark-yarn_2.12;3.0.1 from central in [default]\n",
      "\torg.elasticsearch#elasticsearch-spark-30_2.12;7.12.1 from central in [default]\n",
      "\torg.scala-lang#scala-reflect;2.12.8 from central in [default]\n",
      "\torg.slf4j#slf4j-api;1.7.6 from local-m2-cache in [default]\n",
      "\t---------------------------------------------------------------------\n",
      "\t|                  |            modules            ||   artifacts   |\n",
      "\t|       conf       | number| search|dwnlded|evicted|| number|dwnlded|\n",
      "\t---------------------------------------------------------------------\n",
      "\t|      default     |   7   |   0   |   0   |   0   ||   1   |   0   |\n",
      "\t---------------------------------------------------------------------\n",
      ":: retrieving :: org.apache.spark#spark-submit-parent-c5d9a4b7-afcf-46fe-a4ca-eb4f9f98990f\n",
      "\tconfs: [default]\n",
      "\t0 artifacts copied, 1 already retrieved (0kB/17ms)\n",
      "2023-03-21 22:33:28,592 WARN util.NativeCodeLoader: Unable to load native-hadoop library for your platform... using builtin-java classes where applicable\n",
      "Setting default log level to \"WARN\".\n",
      "To adjust logging level use sc.setLogLevel(newLevel). For SparkR, use setLogLevel(newLevel).\n"
     ]
    }
   ],
   "source": [
    "spark = (\n",
    "    SparkSession.builder\n",
    "    .appName(\"Spark Elasticsearch\")\n",
    "    .master(\"local[2]\")\n",
    "    .config(\"spark.driver.memory\",\"2048m\")\n",
    "    .config(\"spark.sql.shuffle.partitions\", 4)\n",
    "    .config(\"spark.serializer\", \"org.apache.spark.serializer.KryoSerializer\")\n",
    "    .config(\"spark.jars.packages\", \"org.elasticsearch:elasticsearch-spark-30_2.12:7.12.1\") \n",
    "    .getOrCreate()\n",
    ")"
   ]
  },
  {
   "cell_type": "code",
   "execution_count": 6,
   "id": "03d1ef39-fe60-4a30-821d-e33ace8b32a3",
   "metadata": {
    "tags": []
   },
   "outputs": [
    {
     "name": "stdout",
     "output_type": "stream",
     "text": [
      "--2023-03-21 01:28:06--  https://github.com/erkansirin78/datasets/raw/master/market1mil.csv.gz\n",
      "Resolving github.com (github.com)... 140.82.121.4\n",
      "Connecting to github.com (github.com)|140.82.121.4|:443... connected.\n",
      "HTTP request sent, awaiting response... 302 Found\n",
      "Location: https://raw.githubusercontent.com/erkansirin78/datasets/master/market1mil.csv.gz [following]\n",
      "--2023-03-21 01:28:06--  https://raw.githubusercontent.com/erkansirin78/datasets/master/market1mil.csv.gz\n",
      "Resolving raw.githubusercontent.com (raw.githubusercontent.com)... 185.199.110.133, 185.199.111.133, 185.199.108.133, ...\n",
      "Connecting to raw.githubusercontent.com (raw.githubusercontent.com)|185.199.110.133|:443... connected.\n",
      "HTTP request sent, awaiting response... 200 OK\n",
      "Length: 44525776 (42M) [application/octet-stream]\n",
      "Saving to: ‘/home/train/datasets/market1mil.csv.gz’\n",
      "\n",
      "100%[======================================>] 44,525,776  1.97MB/s   in 59s    \n",
      "\n",
      "2023-03-21 01:29:05 (740 KB/s) - ‘/home/train/datasets/market1mil.csv.gz’ saved [44525776/44525776]\n",
      "\n"
     ]
    }
   ],
   "source": [
    "! wget -O ~/datasets/market1mil.csv.gz \\\n",
    "https://github.com/erkansirin78/datasets/raw/master/market1mil.csv.gz"
   ]
  },
  {
   "cell_type": "code",
   "execution_count": 4,
   "id": "72a8e2a9-7eb2-478a-b740-103c8a24ebf5",
   "metadata": {
    "tags": []
   },
   "outputs": [
    {
     "name": "stderr",
     "output_type": "stream",
     "text": [
      "                                                                                \r"
     ]
    }
   ],
   "source": [
    "df = spark.read.format(\"csv\") \\\n",
    ".option(\"header\", True) \\\n",
    ".option(\"sep\",\";\") \\\n",
    ".option(\"inferSchema\", True) \\\n",
    ".load(\"file:///home/train/datasets/market1mil.csv\")"
   ]
  },
  {
   "cell_type": "code",
   "execution_count": 5,
   "id": "f6e16a57-12b3-4c26-a483-4c212e13be2a",
   "metadata": {
    "tags": []
   },
   "outputs": [
    {
     "name": "stderr",
     "output_type": "stream",
     "text": [
      "2023-03-21 22:36:50,312 WARN util.package: Truncated the string representation of a plan since it was too large. This behavior can be adjusted by setting 'spark.sql.debug.maxToStringFields'.\n"
     ]
    },
    {
     "data": {
      "text/html": [
       "<div>\n",
       "<style scoped>\n",
       "    .dataframe tbody tr th:only-of-type {\n",
       "        vertical-align: middle;\n",
       "    }\n",
       "\n",
       "    .dataframe tbody tr th {\n",
       "        vertical-align: top;\n",
       "    }\n",
       "\n",
       "    .dataframe thead th {\n",
       "        text-align: right;\n",
       "    }\n",
       "</style>\n",
       "<table border=\"1\" class=\"dataframe\">\n",
       "  <thead>\n",
       "    <tr style=\"text-align: right;\">\n",
       "      <th></th>\n",
       "      <th>LOGICALREF</th>\n",
       "      <th>COUNT_</th>\n",
       "      <th>ITEMCODE</th>\n",
       "      <th>ITEMNAME</th>\n",
       "      <th>FICHENO</th>\n",
       "      <th>DATE_</th>\n",
       "      <th>AMOUNT</th>\n",
       "      <th>PRICE</th>\n",
       "      <th>LINENETTOTAL</th>\n",
       "      <th>LINENET</th>\n",
       "      <th>...</th>\n",
       "      <th>CLIENTNAME</th>\n",
       "      <th>BRANDCODE</th>\n",
       "      <th>BRAND</th>\n",
       "      <th>CATEGORY_NAME1</th>\n",
       "      <th>CATEGORY_NAME2</th>\n",
       "      <th>CATEGORY_NAME3</th>\n",
       "      <th>STARTDATE</th>\n",
       "      <th>ENDDATE</th>\n",
       "      <th>SPECODE</th>\n",
       "      <th>CAPIBLOCK_CREADEDDATE</th>\n",
       "    </tr>\n",
       "  </thead>\n",
       "  <tbody>\n",
       "    <tr>\n",
       "      <th>0</th>\n",
       "      <td>1</td>\n",
       "      <td>1</td>\n",
       "      <td>8</td>\n",
       "      <td>TOZ SEKER</td>\n",
       "      <td>15560</td>\n",
       "      <td>2.01.2017 00:00</td>\n",
       "      <td>45</td>\n",
       "      <td>2,65</td>\n",
       "      <td>5,3</td>\n",
       "      <td>4,9</td>\n",
       "      <td>...</td>\n",
       "      <td>Hanım CANBULAT</td>\n",
       "      <td>None</td>\n",
       "      <td>None</td>\n",
       "      <td>İÇECEK</td>\n",
       "      <td>ÇAY KAHVE</td>\n",
       "      <td>SEKER TATLANDIRICI</td>\n",
       "      <td>3.01.2017 09:25</td>\n",
       "      <td>3.01.2017 09:25</td>\n",
       "      <td>K</td>\n",
       "      <td>14.07.2018 01:50</td>\n",
       "    </tr>\n",
       "    <tr>\n",
       "      <th>1</th>\n",
       "      <td>2</td>\n",
       "      <td>1</td>\n",
       "      <td>20868</td>\n",
       "      <td>KIRMIZI MERCIMEK</td>\n",
       "      <td>15560</td>\n",
       "      <td>2.01.2017 00:00</td>\n",
       "      <td>1,006</td>\n",
       "      <td>2,8</td>\n",
       "      <td>2,82</td>\n",
       "      <td>2,79</td>\n",
       "      <td>...</td>\n",
       "      <td>Hanım CANBULAT</td>\n",
       "      <td>167</td>\n",
       "      <td>BAKLİYAT</td>\n",
       "      <td>GIDA</td>\n",
       "      <td>BAKLİYAT</td>\n",
       "      <td>AÇIK BAKLİYAT</td>\n",
       "      <td>3.01.2017 09:25</td>\n",
       "      <td>3.01.2017 09:25</td>\n",
       "      <td>K</td>\n",
       "      <td>14.07.2018 01:50</td>\n",
       "    </tr>\n",
       "    <tr>\n",
       "      <th>2</th>\n",
       "      <td>3</td>\n",
       "      <td>1</td>\n",
       "      <td>8583</td>\n",
       "      <td>TEST MATIK 1,5 KG NORMAL</td>\n",
       "      <td>15560</td>\n",
       "      <td>2.01.2017 00:00</td>\n",
       "      <td>1</td>\n",
       "      <td>4,95</td>\n",
       "      <td>4,95</td>\n",
       "      <td>4,19</td>\n",
       "      <td>...</td>\n",
       "      <td>Hanım CANBULAT</td>\n",
       "      <td>229</td>\n",
       "      <td>TEST</td>\n",
       "      <td>DETERJAN TEMİZLİK</td>\n",
       "      <td>ÇAMAŞIR YIKAMA</td>\n",
       "      <td>TOZ DETERJAN</td>\n",
       "      <td>3.01.2017 09:25</td>\n",
       "      <td>3.01.2017 09:25</td>\n",
       "      <td>K</td>\n",
       "      <td>14.07.2018 01:50</td>\n",
       "    </tr>\n",
       "    <tr>\n",
       "      <th>3</th>\n",
       "      <td>4</td>\n",
       "      <td>1</td>\n",
       "      <td>1454</td>\n",
       "      <td>BIZIM MAKARNA BONCUK</td>\n",
       "      <td>15560</td>\n",
       "      <td>2.01.2017 00:00</td>\n",
       "      <td>1</td>\n",
       "      <td>1,1</td>\n",
       "      <td>1,1</td>\n",
       "      <td>1,02</td>\n",
       "      <td>...</td>\n",
       "      <td>Hanım CANBULAT</td>\n",
       "      <td>146</td>\n",
       "      <td>ÜLKER</td>\n",
       "      <td>GIDA</td>\n",
       "      <td>MAKARNA</td>\n",
       "      <td>MAKARNA</td>\n",
       "      <td>3.01.2017 09:25</td>\n",
       "      <td>3.01.2017 09:25</td>\n",
       "      <td>K</td>\n",
       "      <td>14.07.2018 01:50</td>\n",
       "    </tr>\n",
       "    <tr>\n",
       "      <th>4</th>\n",
       "      <td>5</td>\n",
       "      <td>1</td>\n",
       "      <td>13519</td>\n",
       "      <td>FILIZ MAKARNA KISA KESME 500 GR</td>\n",
       "      <td>15560</td>\n",
       "      <td>2.01.2017 00:00</td>\n",
       "      <td>1</td>\n",
       "      <td>1,1</td>\n",
       "      <td>1,1</td>\n",
       "      <td>1,02</td>\n",
       "      <td>...</td>\n",
       "      <td>Hanım CANBULAT</td>\n",
       "      <td>52</td>\n",
       "      <td>FİLİZ</td>\n",
       "      <td>GIDA</td>\n",
       "      <td>MAKARNA</td>\n",
       "      <td>MAKARNA</td>\n",
       "      <td>3.01.2017 09:25</td>\n",
       "      <td>3.01.2017 09:25</td>\n",
       "      <td>K</td>\n",
       "      <td>14.07.2018 01:50</td>\n",
       "    </tr>\n",
       "  </tbody>\n",
       "</table>\n",
       "<p>5 rows × 28 columns</p>\n",
       "</div>"
      ],
      "text/plain": [
       "  LOGICALREF  COUNT_  ITEMCODE                         ITEMNAME  FICHENO  \\\n",
       "0          1       1         8                        TOZ SEKER    15560   \n",
       "1          2       1     20868                 KIRMIZI MERCIMEK    15560   \n",
       "2          3       1      8583         TEST MATIK 1,5 KG NORMAL    15560   \n",
       "3          4       1      1454             BIZIM MAKARNA BONCUK    15560   \n",
       "4          5       1     13519  FILIZ MAKARNA KISA KESME 500 GR    15560   \n",
       "\n",
       "             DATE_ AMOUNT PRICE LINENETTOTAL LINENET  ...      CLIENTNAME  \\\n",
       "0  2.01.2017 00:00     45  2,65          5,3     4,9  ...  Hanım CANBULAT   \n",
       "1  2.01.2017 00:00  1,006   2,8         2,82    2,79  ...  Hanım CANBULAT   \n",
       "2  2.01.2017 00:00      1  4,95         4,95    4,19  ...  Hanım CANBULAT   \n",
       "3  2.01.2017 00:00      1   1,1          1,1    1,02  ...  Hanım CANBULAT   \n",
       "4  2.01.2017 00:00      1   1,1          1,1    1,02  ...  Hanım CANBULAT   \n",
       "\n",
       "  BRANDCODE     BRAND     CATEGORY_NAME1  CATEGORY_NAME2      CATEGORY_NAME3  \\\n",
       "0      None      None             İÇECEK       ÇAY KAHVE  SEKER TATLANDIRICI   \n",
       "1       167  BAKLİYAT               GIDA        BAKLİYAT       AÇIK BAKLİYAT   \n",
       "2       229      TEST  DETERJAN TEMİZLİK  ÇAMAŞIR YIKAMA        TOZ DETERJAN   \n",
       "3       146     ÜLKER               GIDA         MAKARNA            MAKARNA    \n",
       "4        52     FİLİZ               GIDA         MAKARNA            MAKARNA    \n",
       "\n",
       "         STARTDATE          ENDDATE SPECODE CAPIBLOCK_CREADEDDATE  \n",
       "0  3.01.2017 09:25  3.01.2017 09:25       K      14.07.2018 01:50  \n",
       "1  3.01.2017 09:25  3.01.2017 09:25       K      14.07.2018 01:50  \n",
       "2  3.01.2017 09:25  3.01.2017 09:25       K      14.07.2018 01:50  \n",
       "3  3.01.2017 09:25  3.01.2017 09:25       K      14.07.2018 01:50  \n",
       "4  3.01.2017 09:25  3.01.2017 09:25       K      14.07.2018 01:50  \n",
       "\n",
       "[5 rows x 28 columns]"
      ]
     },
     "execution_count": 5,
     "metadata": {},
     "output_type": "execute_result"
    }
   ],
   "source": [
    "df.limit(5).toPandas()"
   ]
  },
  {
   "cell_type": "code",
   "execution_count": 6,
   "id": "8857ad37-9e7e-4608-9321-94785ba0b453",
   "metadata": {
    "tags": []
   },
   "outputs": [
    {
     "name": "stderr",
     "output_type": "stream",
     "text": [
      "                                                                                \r"
     ]
    },
    {
     "data": {
      "text/plain": [
       "999853"
      ]
     },
     "execution_count": 6,
     "metadata": {},
     "output_type": "execute_result"
    }
   ],
   "source": [
    "df.count()"
   ]
  },
  {
   "cell_type": "code",
   "execution_count": 7,
   "id": "ac809eed-dd56-4a65-971f-7cfba47ce329",
   "metadata": {
    "tags": []
   },
   "outputs": [
    {
     "name": "stdout",
     "output_type": "stream",
     "text": [
      "root\n",
      " |-- LOGICALREF: string (nullable = true)\n",
      " |-- COUNT_: integer (nullable = true)\n",
      " |-- ITEMCODE: integer (nullable = true)\n",
      " |-- ITEMNAME: string (nullable = true)\n",
      " |-- FICHENO: integer (nullable = true)\n",
      " |-- DATE_: string (nullable = true)\n",
      " |-- AMOUNT: string (nullable = true)\n",
      " |-- PRICE: string (nullable = true)\n",
      " |-- LINENETTOTAL: string (nullable = true)\n",
      " |-- LINENET: string (nullable = true)\n",
      " |-- BRANCHNR: integer (nullable = true)\n",
      " |-- BRANCH: string (nullable = true)\n",
      " |-- SALESMAN: string (nullable = true)\n",
      " |-- CITY: string (nullable = true)\n",
      " |-- REGION: string (nullable = true)\n",
      " |-- LATITUDE: string (nullable = true)\n",
      " |-- LONGITUDE: string (nullable = true)\n",
      " |-- CLIENTCODE: string (nullable = true)\n",
      " |-- CLIENTNAME: string (nullable = true)\n",
      " |-- BRANDCODE: string (nullable = true)\n",
      " |-- BRAND: string (nullable = true)\n",
      " |-- CATEGORY_NAME1: string (nullable = true)\n",
      " |-- CATEGORY_NAME2: string (nullable = true)\n",
      " |-- CATEGORY_NAME3: string (nullable = true)\n",
      " |-- STARTDATE: string (nullable = true)\n",
      " |-- ENDDATE: string (nullable = true)\n",
      " |-- SPECODE: string (nullable = true)\n",
      " |-- CAPIBLOCK_CREADEDDATE: string (nullable = true)\n",
      "\n"
     ]
    }
   ],
   "source": [
    "df.printSchema()"
   ]
  },
  {
   "cell_type": "code",
   "execution_count": 8,
   "id": "b75d3a7a-beec-4ff7-95c2-a1d4fa5a2f3e",
   "metadata": {
    "tags": []
   },
   "outputs": [],
   "source": [
    "df1 = df.dropna()"
   ]
  },
  {
   "cell_type": "code",
   "execution_count": 9,
   "id": "1d82ec43-44e5-42e6-81a3-7e8749486120",
   "metadata": {
    "tags": []
   },
   "outputs": [
    {
     "name": "stderr",
     "output_type": "stream",
     "text": [
      "                                                                                \r"
     ]
    },
    {
     "data": {
      "text/plain": [
       "597075"
      ]
     },
     "execution_count": 9,
     "metadata": {},
     "output_type": "execute_result"
    }
   ],
   "source": [
    "df1.count()"
   ]
  },
  {
   "cell_type": "code",
   "execution_count": 10,
   "id": "08a1f9ad-f6b3-4423-b954-eaffd21ca101",
   "metadata": {
    "tags": []
   },
   "outputs": [],
   "source": [
    "df2=df1.withColumn(\"STARTDATE\",\n",
    "                     F.unix_timestamp(F.to_timestamp(\"STARTDATE\",\"d.M.y H:m\")) *1000)\\\n",
    ".withColumn(\"AMOUNT\", regexp_replace(col(\"AMOUNT\"), \",\", \".\")) \\\n",
    ".withColumn(\"PRICE\", regexp_replace(col(\"PRICE\"), \",\", \".\")) \\\n",
    ".withColumn(\"LINENETTOTAL\",regexp_replace(\"LINENETTOTAL\",\",\",\".\"))\n"
   ]
  },
  {
   "cell_type": "code",
   "execution_count": 11,
   "id": "c3f9db11-b0fd-4294-8143-fb93acacfe45",
   "metadata": {
    "tags": []
   },
   "outputs": [
    {
     "data": {
      "text/html": [
       "<div>\n",
       "<style scoped>\n",
       "    .dataframe tbody tr th:only-of-type {\n",
       "        vertical-align: middle;\n",
       "    }\n",
       "\n",
       "    .dataframe tbody tr th {\n",
       "        vertical-align: top;\n",
       "    }\n",
       "\n",
       "    .dataframe thead th {\n",
       "        text-align: right;\n",
       "    }\n",
       "</style>\n",
       "<table border=\"1\" class=\"dataframe\">\n",
       "  <thead>\n",
       "    <tr style=\"text-align: right;\">\n",
       "      <th></th>\n",
       "      <th>LOGICALREF</th>\n",
       "      <th>COUNT_</th>\n",
       "      <th>ITEMCODE</th>\n",
       "      <th>ITEMNAME</th>\n",
       "      <th>FICHENO</th>\n",
       "      <th>DATE_</th>\n",
       "      <th>AMOUNT</th>\n",
       "      <th>PRICE</th>\n",
       "      <th>LINENETTOTAL</th>\n",
       "      <th>LINENET</th>\n",
       "      <th>...</th>\n",
       "      <th>CLIENTNAME</th>\n",
       "      <th>BRANDCODE</th>\n",
       "      <th>BRAND</th>\n",
       "      <th>CATEGORY_NAME1</th>\n",
       "      <th>CATEGORY_NAME2</th>\n",
       "      <th>CATEGORY_NAME3</th>\n",
       "      <th>STARTDATE</th>\n",
       "      <th>ENDDATE</th>\n",
       "      <th>SPECODE</th>\n",
       "      <th>CAPIBLOCK_CREADEDDATE</th>\n",
       "    </tr>\n",
       "  </thead>\n",
       "  <tbody>\n",
       "    <tr>\n",
       "      <th>0</th>\n",
       "      <td>2</td>\n",
       "      <td>1</td>\n",
       "      <td>20868</td>\n",
       "      <td>KIRMIZI MERCIMEK</td>\n",
       "      <td>15560</td>\n",
       "      <td>2.01.2017 00:00</td>\n",
       "      <td>1.006</td>\n",
       "      <td>2.8</td>\n",
       "      <td>2.82</td>\n",
       "      <td>2,79</td>\n",
       "      <td>...</td>\n",
       "      <td>Hanım CANBULAT</td>\n",
       "      <td>167</td>\n",
       "      <td>BAKLİYAT</td>\n",
       "      <td>GIDA</td>\n",
       "      <td>BAKLİYAT</td>\n",
       "      <td>AÇIK BAKLİYAT</td>\n",
       "      <td>1483424700000</td>\n",
       "      <td>3.01.2017 09:25</td>\n",
       "      <td>K</td>\n",
       "      <td>14.07.2018 01:50</td>\n",
       "    </tr>\n",
       "    <tr>\n",
       "      <th>1</th>\n",
       "      <td>3</td>\n",
       "      <td>1</td>\n",
       "      <td>8583</td>\n",
       "      <td>TEST MATIK 1,5 KG NORMAL</td>\n",
       "      <td>15560</td>\n",
       "      <td>2.01.2017 00:00</td>\n",
       "      <td>1</td>\n",
       "      <td>4.95</td>\n",
       "      <td>4.95</td>\n",
       "      <td>4,19</td>\n",
       "      <td>...</td>\n",
       "      <td>Hanım CANBULAT</td>\n",
       "      <td>229</td>\n",
       "      <td>TEST</td>\n",
       "      <td>DETERJAN TEMİZLİK</td>\n",
       "      <td>ÇAMAŞIR YIKAMA</td>\n",
       "      <td>TOZ DETERJAN</td>\n",
       "      <td>1483424700000</td>\n",
       "      <td>3.01.2017 09:25</td>\n",
       "      <td>K</td>\n",
       "      <td>14.07.2018 01:50</td>\n",
       "    </tr>\n",
       "    <tr>\n",
       "      <th>2</th>\n",
       "      <td>4</td>\n",
       "      <td>1</td>\n",
       "      <td>1454</td>\n",
       "      <td>BIZIM MAKARNA BONCUK</td>\n",
       "      <td>15560</td>\n",
       "      <td>2.01.2017 00:00</td>\n",
       "      <td>1</td>\n",
       "      <td>1.1</td>\n",
       "      <td>1.1</td>\n",
       "      <td>1,02</td>\n",
       "      <td>...</td>\n",
       "      <td>Hanım CANBULAT</td>\n",
       "      <td>146</td>\n",
       "      <td>ÜLKER</td>\n",
       "      <td>GIDA</td>\n",
       "      <td>MAKARNA</td>\n",
       "      <td>MAKARNA</td>\n",
       "      <td>1483424700000</td>\n",
       "      <td>3.01.2017 09:25</td>\n",
       "      <td>K</td>\n",
       "      <td>14.07.2018 01:50</td>\n",
       "    </tr>\n",
       "    <tr>\n",
       "      <th>3</th>\n",
       "      <td>5</td>\n",
       "      <td>1</td>\n",
       "      <td>13519</td>\n",
       "      <td>FILIZ MAKARNA KISA KESME 500 GR</td>\n",
       "      <td>15560</td>\n",
       "      <td>2.01.2017 00:00</td>\n",
       "      <td>1</td>\n",
       "      <td>1.1</td>\n",
       "      <td>1.1</td>\n",
       "      <td>1,02</td>\n",
       "      <td>...</td>\n",
       "      <td>Hanım CANBULAT</td>\n",
       "      <td>52</td>\n",
       "      <td>FİLİZ</td>\n",
       "      <td>GIDA</td>\n",
       "      <td>MAKARNA</td>\n",
       "      <td>MAKARNA</td>\n",
       "      <td>1483424700000</td>\n",
       "      <td>3.01.2017 09:25</td>\n",
       "      <td>K</td>\n",
       "      <td>14.07.2018 01:50</td>\n",
       "    </tr>\n",
       "    <tr>\n",
       "      <th>4</th>\n",
       "      <td>6</td>\n",
       "      <td>1</td>\n",
       "      <td>8639</td>\n",
       "      <td>BINGO ULTRA CAM.SUYU 750 ML KLASIK</td>\n",
       "      <td>15560</td>\n",
       "      <td>2.01.2017 00:00</td>\n",
       "      <td>1</td>\n",
       "      <td>2.45</td>\n",
       "      <td>2.45</td>\n",
       "      <td>2,08</td>\n",
       "      <td>...</td>\n",
       "      <td>Hanım CANBULAT</td>\n",
       "      <td>224</td>\n",
       "      <td>BİNGO</td>\n",
       "      <td>DETERJAN TEMİZLİK</td>\n",
       "      <td>ÇAMAŞIR YIKAMA</td>\n",
       "      <td>ÇAMAŞIR SULARI</td>\n",
       "      <td>1483424700000</td>\n",
       "      <td>3.01.2017 09:25</td>\n",
       "      <td>K</td>\n",
       "      <td>14.07.2018 01:50</td>\n",
       "    </tr>\n",
       "  </tbody>\n",
       "</table>\n",
       "<p>5 rows × 28 columns</p>\n",
       "</div>"
      ],
      "text/plain": [
       "  LOGICALREF  COUNT_  ITEMCODE                            ITEMNAME  FICHENO  \\\n",
       "0          2       1     20868                    KIRMIZI MERCIMEK    15560   \n",
       "1          3       1      8583            TEST MATIK 1,5 KG NORMAL    15560   \n",
       "2          4       1      1454                BIZIM MAKARNA BONCUK    15560   \n",
       "3          5       1     13519     FILIZ MAKARNA KISA KESME 500 GR    15560   \n",
       "4          6       1      8639  BINGO ULTRA CAM.SUYU 750 ML KLASIK    15560   \n",
       "\n",
       "             DATE_ AMOUNT PRICE LINENETTOTAL LINENET  ...      CLIENTNAME  \\\n",
       "0  2.01.2017 00:00  1.006   2.8         2.82    2,79  ...  Hanım CANBULAT   \n",
       "1  2.01.2017 00:00      1  4.95         4.95    4,19  ...  Hanım CANBULAT   \n",
       "2  2.01.2017 00:00      1   1.1          1.1    1,02  ...  Hanım CANBULAT   \n",
       "3  2.01.2017 00:00      1   1.1          1.1    1,02  ...  Hanım CANBULAT   \n",
       "4  2.01.2017 00:00      1  2.45         2.45    2,08  ...  Hanım CANBULAT   \n",
       "\n",
       "  BRANDCODE     BRAND     CATEGORY_NAME1  CATEGORY_NAME2  CATEGORY_NAME3  \\\n",
       "0       167  BAKLİYAT               GIDA        BAKLİYAT   AÇIK BAKLİYAT   \n",
       "1       229      TEST  DETERJAN TEMİZLİK  ÇAMAŞIR YIKAMA    TOZ DETERJAN   \n",
       "2       146     ÜLKER               GIDA         MAKARNA        MAKARNA    \n",
       "3        52     FİLİZ               GIDA         MAKARNA        MAKARNA    \n",
       "4       224     BİNGO  DETERJAN TEMİZLİK  ÇAMAŞIR YIKAMA  ÇAMAŞIR SULARI   \n",
       "\n",
       "       STARTDATE          ENDDATE SPECODE CAPIBLOCK_CREADEDDATE  \n",
       "0  1483424700000  3.01.2017 09:25       K      14.07.2018 01:50  \n",
       "1  1483424700000  3.01.2017 09:25       K      14.07.2018 01:50  \n",
       "2  1483424700000  3.01.2017 09:25       K      14.07.2018 01:50  \n",
       "3  1483424700000  3.01.2017 09:25       K      14.07.2018 01:50  \n",
       "4  1483424700000  3.01.2017 09:25       K      14.07.2018 01:50  \n",
       "\n",
       "[5 rows x 28 columns]"
      ]
     },
     "execution_count": 11,
     "metadata": {},
     "output_type": "execute_result"
    }
   ],
   "source": [
    "df2.limit(5).toPandas()"
   ]
  },
  {
   "cell_type": "code",
   "execution_count": 12,
   "id": "c4784c2f-5f69-4313-af77-618cffeede47",
   "metadata": {
    "scrolled": true,
    "tags": []
   },
   "outputs": [
    {
     "name": "stderr",
     "output_type": "stream",
     "text": [
      "                                                                                \r"
     ]
    },
    {
     "data": {
      "text/html": [
       "<div>\n",
       "<style scoped>\n",
       "    .dataframe tbody tr th:only-of-type {\n",
       "        vertical-align: middle;\n",
       "    }\n",
       "\n",
       "    .dataframe tbody tr th {\n",
       "        vertical-align: top;\n",
       "    }\n",
       "\n",
       "    .dataframe thead th {\n",
       "        text-align: right;\n",
       "    }\n",
       "</style>\n",
       "<table border=\"1\" class=\"dataframe\">\n",
       "  <thead>\n",
       "    <tr style=\"text-align: right;\">\n",
       "      <th></th>\n",
       "      <th>max(STARTDATE)</th>\n",
       "      <th>min(STARTDATE)</th>\n",
       "    </tr>\n",
       "  </thead>\n",
       "  <tbody>\n",
       "    <tr>\n",
       "      <th>0</th>\n",
       "      <td>9.05.2017 21:18</td>\n",
       "      <td>1.02.2017 08:36</td>\n",
       "    </tr>\n",
       "  </tbody>\n",
       "</table>\n",
       "</div>"
      ],
      "text/plain": [
       "    max(STARTDATE)   min(STARTDATE)\n",
       "0  9.05.2017 21:18  1.02.2017 08:36"
      ]
     },
     "execution_count": 12,
     "metadata": {},
     "output_type": "execute_result"
    }
   ],
   "source": [
    "df1.selectExpr(\"MAX(STARTDATE)\", \"MIN(STARTDATE)\").limit(30).toPandas()"
   ]
  },
  {
   "cell_type": "code",
   "execution_count": 13,
   "id": "55f69be5-8abc-4011-aa8f-bad9a5224903",
   "metadata": {
    "tags": []
   },
   "outputs": [
    {
     "name": "stdout",
     "output_type": "stream",
     "text": [
      "root\n",
      " |-- LOGICALREF: string (nullable = true)\n",
      " |-- COUNT_: integer (nullable = true)\n",
      " |-- ITEMCODE: integer (nullable = true)\n",
      " |-- ITEMNAME: string (nullable = true)\n",
      " |-- FICHENO: integer (nullable = true)\n",
      " |-- DATE_: string (nullable = true)\n",
      " |-- AMOUNT: string (nullable = true)\n",
      " |-- PRICE: string (nullable = true)\n",
      " |-- LINENETTOTAL: string (nullable = true)\n",
      " |-- LINENET: string (nullable = true)\n",
      " |-- BRANCHNR: integer (nullable = true)\n",
      " |-- BRANCH: string (nullable = true)\n",
      " |-- SALESMAN: string (nullable = true)\n",
      " |-- CITY: string (nullable = true)\n",
      " |-- REGION: string (nullable = true)\n",
      " |-- LATITUDE: string (nullable = true)\n",
      " |-- LONGITUDE: string (nullable = true)\n",
      " |-- CLIENTCODE: string (nullable = true)\n",
      " |-- CLIENTNAME: string (nullable = true)\n",
      " |-- BRANDCODE: string (nullable = true)\n",
      " |-- BRAND: string (nullable = true)\n",
      " |-- CATEGORY_NAME1: string (nullable = true)\n",
      " |-- CATEGORY_NAME2: string (nullable = true)\n",
      " |-- CATEGORY_NAME3: string (nullable = true)\n",
      " |-- STARTDATE: long (nullable = true)\n",
      " |-- ENDDATE: string (nullable = true)\n",
      " |-- SPECODE: string (nullable = true)\n",
      " |-- CAPIBLOCK_CREADEDDATE: string (nullable = true)\n",
      "\n"
     ]
    }
   ],
   "source": [
    "df2.printSchema()"
   ]
  },
  {
   "cell_type": "code",
   "execution_count": 38,
   "id": "1b65f59a-85c4-4595-b6dc-f942c680362b",
   "metadata": {},
   "outputs": [],
   "source": [
    "\n",
    "df3 = df2.withColumn(\"LONGITUDE\", regexp_replace(col(\"LONGITUDE\"), \",\", \".\"))\n",
    "df4 = df3.withColumn(\"LATITUDE\", regexp_replace(col(\"LATITUDE\"), \",\", \".\")) \\\n",
    ".withColumn(\"LONGITUDE\", expr(\"substr(LONGITUDE, 1, 5)\")) \\\n",
    ".withColumn(\"LATITUDE\", expr(\"substr(LATITUDE, 1, 5)\")) \\\n",
    ".withColumn(\"LONGITUDE\", col(\"LONGITUDE\").cast(\"float\")) \\\n",
    ".withColumn(\"LATITUDE\", col(\"LATITUDE\").cast(\"float\")) \n"
   ]
  },
  {
   "cell_type": "code",
   "execution_count": 40,
   "id": "7416d5c7-0d01-4c3a-ab6b-96ac338b0524",
   "metadata": {},
   "outputs": [],
   "source": [
    "df4 = df4.withColumn(\"location\", concat(col(\"latitude\"), lit(\",\"), col(\"longitude\"))) \\\n",
    ".withColumn(\"LOCATION\", regexp_replace(\"LOCATION\", \"[a-zA-Z]\", \"\")) \\\n",
    ".withColumn(\"LOCATION\", col(\"LOCATION\").cast(\"float\")) \n"
   ]
  },
  {
   "cell_type": "code",
   "execution_count": null,
   "id": "1d956db0-1b2e-49ad-959f-10ea8ce9ec41",
   "metadata": {},
   "outputs": [],
   "source": []
  },
  {
   "cell_type": "code",
   "execution_count": 41,
   "id": "105a682d-6c9c-4a24-a73a-65ede9f0f258",
   "metadata": {},
   "outputs": [
    {
     "name": "stdout",
     "output_type": "stream",
     "text": [
      "root\n",
      " |-- LOGICALREF: string (nullable = true)\n",
      " |-- COUNT_: integer (nullable = true)\n",
      " |-- ITEMCODE: integer (nullable = true)\n",
      " |-- ITEMNAME: string (nullable = true)\n",
      " |-- FICHENO: integer (nullable = true)\n",
      " |-- DATE_: string (nullable = true)\n",
      " |-- AMOUNT: string (nullable = true)\n",
      " |-- PRICE: string (nullable = true)\n",
      " |-- LINENETTOTAL: string (nullable = true)\n",
      " |-- LINENET: string (nullable = true)\n",
      " |-- BRANCHNR: integer (nullable = true)\n",
      " |-- BRANCH: string (nullable = true)\n",
      " |-- SALESMAN: string (nullable = true)\n",
      " |-- CITY: string (nullable = true)\n",
      " |-- REGION: string (nullable = true)\n",
      " |-- LATITUDE: float (nullable = true)\n",
      " |-- LONGITUDE: float (nullable = true)\n",
      " |-- CLIENTCODE: string (nullable = true)\n",
      " |-- CLIENTNAME: string (nullable = true)\n",
      " |-- BRANDCODE: string (nullable = true)\n",
      " |-- BRAND: string (nullable = true)\n",
      " |-- CATEGORY_NAME1: string (nullable = true)\n",
      " |-- CATEGORY_NAME2: string (nullable = true)\n",
      " |-- CATEGORY_NAME3: string (nullable = true)\n",
      " |-- STARTDATE: long (nullable = true)\n",
      " |-- ENDDATE: string (nullable = true)\n",
      " |-- SPECODE: string (nullable = true)\n",
      " |-- CAPIBLOCK_CREADEDDATE: string (nullable = true)\n",
      " |-- LOCATION: float (nullable = true)\n",
      "\n"
     ]
    }
   ],
   "source": [
    "df4.printSchema()"
   ]
  },
  {
   "cell_type": "code",
   "execution_count": 42,
   "id": "9b7f69fe-11e6-48d5-93b9-8ed5e8a87a54",
   "metadata": {},
   "outputs": [],
   "source": [
    "market1mil_index = {\n",
    "  \"mappings\": {\n",
    "    \"properties\": {\n",
    "      \"LOGICALREF\": {\"type\": \"integer\"},\n",
    "      \"ITEMCODE\": {\"type\": \"integer\"},\n",
    "      \"ITEMNAME\": {\"type\": \"text\"},\n",
    "      \"AMOUNT\": {\"type\": \"float\"},\n",
    "      \"PRICE\": {\"type\": \"float\"},\n",
    "      \"LINENETTOTAL\": {\"type\": \"float\"},\n",
    "      \"BRANCH\": {\"type\": \"keyword\"},\n",
    "      \"CITY\": {\"type\": \"keyword\"},\n",
    "      \"BRAND\": {\"type\": \"keyword\"},\n",
    "      \"STARTDATE\": {\"type\": \"date\"},\n",
    "      \"LOCATION\": {\"type\": \"geo_point\"}\n",
    "    }\n",
    "  }\n",
    "}"
   ]
  },
  {
   "cell_type": "code",
   "execution_count": 43,
   "id": "2ca241b2-6d75-4031-bac1-464ebe1a2193",
   "metadata": {},
   "outputs": [],
   "source": [
    "es = Elasticsearch([\"localhost:9200\"])"
   ]
  },
  {
   "cell_type": "code",
   "execution_count": 44,
   "id": "c81b6ab4-333c-4b90-8d04-bc7cd43cfd99",
   "metadata": {},
   "outputs": [
    {
     "name": "stdout",
     "output_type": "stream",
     "text": [
      "online-market-spark  index deleted.\n"
     ]
    }
   ],
   "source": [
    "try:\n",
    "    es.indices.delete(\"online-market-spark\")\n",
    "    print(\"online-market-spark  index deleted.\")\n",
    "except:\n",
    "    print(\"No index\")"
   ]
  },
  {
   "cell_type": "code",
   "execution_count": 45,
   "id": "e2c309a2-5dd7-44b6-aeaf-16b86244353f",
   "metadata": {},
   "outputs": [
    {
     "data": {
      "text/plain": [
       "{'acknowledged': True,\n",
       " 'shards_acknowledged': True,\n",
       " 'index': 'online-market-spark'}"
      ]
     },
     "execution_count": 45,
     "metadata": {},
     "output_type": "execute_result"
    }
   ],
   "source": [
    "es.indices.create(\"online-market-spark\", body=market1mil_index)"
   ]
  },
  {
   "cell_type": "code",
   "execution_count": 46,
   "id": "ce9e0ed2-216a-4a2e-a814-8b1d5b9ac532",
   "metadata": {},
   "outputs": [
    {
     "name": "stderr",
     "output_type": "stream",
     "text": [
      "[Stage 17:======================================>                   (2 + 1) / 3]\r"
     ]
    },
    {
     "name": "stdout",
     "output_type": "stream",
     "text": [
      "----- 116.37668108940125 secs -----\n"
     ]
    },
    {
     "name": "stderr",
     "output_type": "stream",
     "text": [
      "                                                                                \r"
     ]
    }
   ],
   "source": [
    "start_time = time.time()\n",
    "\n",
    "df4.write \\\n",
    "    .format(\"org.elasticsearch.spark.sql\") \\\n",
    "    .mode(\"overwrite\") \\\n",
    "    .option(\"es.nodes\", \"localhost\") \\\n",
    "    .option(\"es.port\",\"9200\") \\\n",
    "    .save(\"online-market-spark\")\n",
    "\n",
    "\n",
    "print(\"----- %s secs -----\" %(time.time() - start_time))"
   ]
  },
  {
   "cell_type": "code",
   "execution_count": 49,
   "id": "00a65ad4-bd39-4877-b7d6-efd5bf8cb148",
   "metadata": {},
   "outputs": [],
   "source": [
    "df_es = spark.read \\\n",
    "    .format(\"org.elasticsearch.spark.sql\") \\\n",
    "    .option(\"es.nodes\", \"localhost\") \\\n",
    "    .option(\"es.port\",\"9200\") \\\n",
    "    .load(\"online-market-spark\")"
   ]
  },
  {
   "cell_type": "code",
   "execution_count": 50,
   "id": "1dfa4b97-588d-4fdd-bd43-2f5a44d79bbc",
   "metadata": {},
   "outputs": [
    {
     "name": "stderr",
     "output_type": "stream",
     "text": [
      "                                                                                \r"
     ]
    },
    {
     "data": {
      "text/html": [
       "<div>\n",
       "<style scoped>\n",
       "    .dataframe tbody tr th:only-of-type {\n",
       "        vertical-align: middle;\n",
       "    }\n",
       "\n",
       "    .dataframe tbody tr th {\n",
       "        vertical-align: top;\n",
       "    }\n",
       "\n",
       "    .dataframe thead th {\n",
       "        text-align: right;\n",
       "    }\n",
       "</style>\n",
       "<table border=\"1\" class=\"dataframe\">\n",
       "  <thead>\n",
       "    <tr style=\"text-align: right;\">\n",
       "      <th></th>\n",
       "      <th>AMOUNT</th>\n",
       "      <th>BRANCH</th>\n",
       "      <th>BRANCHNR</th>\n",
       "      <th>BRAND</th>\n",
       "      <th>BRANDCODE</th>\n",
       "      <th>CAPIBLOCK_CREADEDDATE</th>\n",
       "      <th>CATEGORY_NAME1</th>\n",
       "      <th>CATEGORY_NAME2</th>\n",
       "      <th>CATEGORY_NAME3</th>\n",
       "      <th>CITY</th>\n",
       "      <th>...</th>\n",
       "      <th>LINENET</th>\n",
       "      <th>LINENETTOTAL</th>\n",
       "      <th>LOCATION</th>\n",
       "      <th>LOGICALREF</th>\n",
       "      <th>LONGITUDE</th>\n",
       "      <th>PRICE</th>\n",
       "      <th>REGION</th>\n",
       "      <th>SALESMAN</th>\n",
       "      <th>SPECODE</th>\n",
       "      <th>STARTDATE</th>\n",
       "    </tr>\n",
       "  </thead>\n",
       "  <tbody>\n",
       "    <tr>\n",
       "      <th>0</th>\n",
       "      <td>1.0</td>\n",
       "      <td>İstanbul Subesi</td>\n",
       "      <td>40</td>\n",
       "      <td>KAR</td>\n",
       "      <td>74</td>\n",
       "      <td>14.07.2018 02:17</td>\n",
       "      <td>GIDA</td>\n",
       "      <td>BÜSKİVİ ÇEREZ</td>\n",
       "      <td>CİPS</td>\n",
       "      <td>İstanbul</td>\n",
       "      <td>...</td>\n",
       "      <td>1,86</td>\n",
       "      <td>2.00</td>\n",
       "      <td>None</td>\n",
       "      <td>3296</td>\n",
       "      <td>28.969999</td>\n",
       "      <td>2.00</td>\n",
       "      <td>Marmara</td>\n",
       "      <td>İsmet SARTIK</td>\n",
       "      <td>K</td>\n",
       "      <td>2017-01-06 19:40:00</td>\n",
       "    </tr>\n",
       "    <tr>\n",
       "      <th>1</th>\n",
       "      <td>1.0</td>\n",
       "      <td>İstanbul Subesi</td>\n",
       "      <td>40</td>\n",
       "      <td>COCO COLA</td>\n",
       "      <td>30</td>\n",
       "      <td>14.07.2018 02:17</td>\n",
       "      <td>İÇECEK</td>\n",
       "      <td>GAZLI İÇECEK</td>\n",
       "      <td>COLA</td>\n",
       "      <td>İstanbul</td>\n",
       "      <td>...</td>\n",
       "      <td>2,27</td>\n",
       "      <td>2.45</td>\n",
       "      <td>None</td>\n",
       "      <td>3297</td>\n",
       "      <td>28.969999</td>\n",
       "      <td>2.45</td>\n",
       "      <td>Marmara</td>\n",
       "      <td>İsmet SARTIK</td>\n",
       "      <td>K</td>\n",
       "      <td>2017-01-06 19:40:00</td>\n",
       "    </tr>\n",
       "    <tr>\n",
       "      <th>2</th>\n",
       "      <td>1.0</td>\n",
       "      <td>İstanbul Subesi</td>\n",
       "      <td>40</td>\n",
       "      <td>COCO COLA</td>\n",
       "      <td>30</td>\n",
       "      <td>14.07.2018 02:17</td>\n",
       "      <td>İÇECEK</td>\n",
       "      <td>GAZLI İÇECEK</td>\n",
       "      <td>COLA</td>\n",
       "      <td>İstanbul</td>\n",
       "      <td>...</td>\n",
       "      <td>2,27</td>\n",
       "      <td>2.45</td>\n",
       "      <td>None</td>\n",
       "      <td>3298</td>\n",
       "      <td>28.969999</td>\n",
       "      <td>2.45</td>\n",
       "      <td>Marmara</td>\n",
       "      <td>İsmet SARTIK</td>\n",
       "      <td>K</td>\n",
       "      <td>2017-01-06 19:40:00</td>\n",
       "    </tr>\n",
       "    <tr>\n",
       "      <th>3</th>\n",
       "      <td>1.0</td>\n",
       "      <td>İstanbul Subesi</td>\n",
       "      <td>40</td>\n",
       "      <td>ÜLKER</td>\n",
       "      <td>146</td>\n",
       "      <td>14.07.2018 02:17</td>\n",
       "      <td>GIDA</td>\n",
       "      <td>BÜSKİVİ ÇEREZ</td>\n",
       "      <td>KEK</td>\n",
       "      <td>İstanbul</td>\n",
       "      <td>...</td>\n",
       "      <td>2,77</td>\n",
       "      <td>2.99</td>\n",
       "      <td>None</td>\n",
       "      <td>3299</td>\n",
       "      <td>28.969999</td>\n",
       "      <td>2.99</td>\n",
       "      <td>Marmara</td>\n",
       "      <td>İsmet SARTIK</td>\n",
       "      <td>K</td>\n",
       "      <td>2017-01-06 19:40:00</td>\n",
       "    </tr>\n",
       "    <tr>\n",
       "      <th>4</th>\n",
       "      <td>1.0</td>\n",
       "      <td>İstanbul Subesi</td>\n",
       "      <td>40</td>\n",
       "      <td>KEMAL KÜKRER</td>\n",
       "      <td>169</td>\n",
       "      <td>14.07.2018 02:17</td>\n",
       "      <td>GIDA</td>\n",
       "      <td>HAZIR YEMEKLER</td>\n",
       "      <td>SİRKE SOS</td>\n",
       "      <td>İstanbul</td>\n",
       "      <td>...</td>\n",
       "      <td>1,48</td>\n",
       "      <td>1.60</td>\n",
       "      <td>None</td>\n",
       "      <td>3301</td>\n",
       "      <td>28.969999</td>\n",
       "      <td>1.60</td>\n",
       "      <td>Marmara</td>\n",
       "      <td>İsmet SARTIK</td>\n",
       "      <td>K</td>\n",
       "      <td>2017-01-06 19:40:00</td>\n",
       "    </tr>\n",
       "  </tbody>\n",
       "</table>\n",
       "<p>5 rows × 29 columns</p>\n",
       "</div>"
      ],
      "text/plain": [
       "   AMOUNT           BRANCH  BRANCHNR         BRAND BRANDCODE  \\\n",
       "0     1.0  İstanbul Subesi        40           KAR        74   \n",
       "1     1.0  İstanbul Subesi        40     COCO COLA        30   \n",
       "2     1.0  İstanbul Subesi        40     COCO COLA        30   \n",
       "3     1.0  İstanbul Subesi        40         ÜLKER       146   \n",
       "4     1.0  İstanbul Subesi        40  KEMAL KÜKRER       169   \n",
       "\n",
       "  CAPIBLOCK_CREADEDDATE CATEGORY_NAME1  CATEGORY_NAME2 CATEGORY_NAME3  \\\n",
       "0      14.07.2018 02:17           GIDA   BÜSKİVİ ÇEREZ           CİPS   \n",
       "1      14.07.2018 02:17         İÇECEK    GAZLI İÇECEK           COLA   \n",
       "2      14.07.2018 02:17         İÇECEK    GAZLI İÇECEK           COLA   \n",
       "3      14.07.2018 02:17           GIDA   BÜSKİVİ ÇEREZ            KEK   \n",
       "4      14.07.2018 02:17           GIDA  HAZIR YEMEKLER      SİRKE SOS   \n",
       "\n",
       "       CITY  ... LINENET LINENETTOTAL  LOCATION LOGICALREF  LONGITUDE  PRICE  \\\n",
       "0  İstanbul  ...    1,86         2.00      None       3296  28.969999   2.00   \n",
       "1  İstanbul  ...    2,27         2.45      None       3297  28.969999   2.45   \n",
       "2  İstanbul  ...    2,27         2.45      None       3298  28.969999   2.45   \n",
       "3  İstanbul  ...    2,77         2.99      None       3299  28.969999   2.99   \n",
       "4  İstanbul  ...    1,48         1.60      None       3301  28.969999   1.60   \n",
       "\n",
       "    REGION      SALESMAN  SPECODE           STARTDATE  \n",
       "0  Marmara  İsmet SARTIK        K 2017-01-06 19:40:00  \n",
       "1  Marmara  İsmet SARTIK        K 2017-01-06 19:40:00  \n",
       "2  Marmara  İsmet SARTIK        K 2017-01-06 19:40:00  \n",
       "3  Marmara  İsmet SARTIK        K 2017-01-06 19:40:00  \n",
       "4  Marmara  İsmet SARTIK        K 2017-01-06 19:40:00  \n",
       "\n",
       "[5 rows x 29 columns]"
      ]
     },
     "execution_count": 50,
     "metadata": {},
     "output_type": "execute_result"
    }
   ],
   "source": [
    "df_es.limit(5).toPandas()"
   ]
  },
  {
   "cell_type": "code",
   "execution_count": null,
   "id": "a94d822f-6905-438e-bdd9-1d8a68323b99",
   "metadata": {},
   "outputs": [
    {
     "name": "stderr",
     "output_type": "stream",
     "text": [
      "[Stage 19:>                                                         (0 + 1) / 1]\r"
     ]
    }
   ],
   "source": [
    "df_es.count()"
   ]
  },
  {
   "cell_type": "code",
   "execution_count": null,
   "id": "378604f2-776f-4aa3-9133-4e1a9e7b598b",
   "metadata": {},
   "outputs": [],
   "source": []
  }
 ],
 "metadata": {
  "kernelspec": {
   "display_name": "Python 3 (ipykernel)",
   "language": "python",
   "name": "python3"
  },
  "language_info": {
   "codemirror_mode": {
    "name": "ipython",
    "version": 3
   },
   "file_extension": ".py",
   "mimetype": "text/x-python",
   "name": "python",
   "nbconvert_exporter": "python",
   "pygments_lexer": "ipython3",
   "version": "3.8.12"
  }
 },
 "nbformat": 4,
 "nbformat_minor": 5
}
